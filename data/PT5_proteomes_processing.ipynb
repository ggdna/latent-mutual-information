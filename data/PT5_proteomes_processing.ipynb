{
 "cells": [
  {
   "cell_type": "markdown",
   "id": "64be1d17",
   "metadata": {},
   "source": [
    "# Preprocessing protein embeddings\n",
    "\n",
    "Here we get embeddings for all EColi, Human, and Arabidopsis proteins, downloaded directly from [UniProt](https://www.uniprot.org/help/downloads).\n",
    "\n",
    "They are 1024 dimensions, produced by `prottrans_t5_xl_u50`.\n"
   ]
  },
  {
   "cell_type": "code",
   "execution_count": 1,
   "id": "a6df9110",
   "metadata": {},
   "outputs": [],
   "source": [
    "import pandas as pd\n",
    "import numpy as np\n",
    "import h5py"
   ]
  },
  {
   "cell_type": "code",
   "execution_count": 2,
   "id": "74d88786",
   "metadata": {},
   "outputs": [
    {
     "name": "stdout",
     "output_type": "stream",
     "text": [
      "number of entries: 4403\n",
      "  id: A0A385XJ53,   embeddings shape: (1024,),   embeddings mean: -0.004241943359375\n"
     ]
    }
   ],
   "source": [
    "file = h5py.File(\"ProtT5_embeddings/ecoli_embeddings.h5\", \"r\")\n",
    "print(f\"number of entries: {len(file.items())}\")\n",
    "for sequence_id, embedding in file.items():\n",
    "    print(\n",
    "        f\"  id: {sequence_id}, \"\n",
    "        f\"  embeddings shape: {embedding.shape}, \"\n",
    "        f\"  embeddings mean: {np.array(embedding).mean()}\"\n",
    "    )\n",
    "\n",
    "    break\n",
    "    \n",
    "keys = []\n",
    "ecoli_embeds = []\n",
    "\n",
    "for k, v in file.items():\n",
    "    keys.append(k)\n",
    "    ecoli_embeds.append(np.array(v))"
   ]
  },
  {
   "cell_type": "code",
   "execution_count": 3,
   "id": "ae68db1b",
   "metadata": {},
   "outputs": [],
   "source": [
    "pd.DataFrame(ecoli_embeds, index=keys, \n",
    "             columns=['PT5_%d' % i for i in range(1024)]).to_csv(\n",
    "    'ProtT5_embeddings/Ecoli_preprocessed.csv')"
   ]
  },
  {
   "cell_type": "code",
   "execution_count": 4,
   "id": "35519efc",
   "metadata": {},
   "outputs": [
    {
     "name": "stdout",
     "output_type": "stream",
     "text": [
      "number of entries: 27448\n",
      "  id: A0A0A7EPL0,   embeddings shape: (1024,),   embeddings mean: 0.00220489501953125\n"
     ]
    }
   ],
   "source": [
    "file = h5py.File(\"ProtT5_embeddings/athaliana_embeddings.h5\", \"r\")\n",
    "print(f\"number of entries: {len(file.items())}\")\n",
    "for sequence_id, embedding in file.items():\n",
    "    print(\n",
    "        f\"  id: {sequence_id}, \"\n",
    "        f\"  embeddings shape: {embedding.shape}, \"\n",
    "        f\"  embeddings mean: {np.array(embedding).mean()}\"\n",
    "    )\n",
    "\n",
    "    break\n",
    "    \n",
    "keys = []\n",
    "athali_embeds = []\n",
    "\n",
    "for k, v in file.items():\n",
    "    keys.append(k)\n",
    "    athali_embeds.append(np.array(v))"
   ]
  },
  {
   "cell_type": "code",
   "execution_count": 5,
   "id": "35bee4d5",
   "metadata": {},
   "outputs": [],
   "source": [
    "pd.DataFrame(athali_embeds, index=keys, \n",
    "             columns=['PT5_%d' % i for i in range(1024)]).to_csv(\n",
    "    'ProtT5_embeddings/Athaliana_preprocessed.csv')"
   ]
  },
  {
   "cell_type": "code",
   "execution_count": 6,
   "id": "6f5057f7",
   "metadata": {},
   "outputs": [
    {
     "name": "stdout",
     "output_type": "stream",
     "text": [
      "number of entries: 20594\n",
      "  id: A0A024R1R8,   embeddings shape: (1024,),   embeddings mean: -0.0029697418212890625\n"
     ]
    }
   ],
   "source": [
    "file = h5py.File(\"ProtT5_embeddings/human_embeddings.h5\", \"r\")\n",
    "print(f\"number of entries: {len(file.items())}\")\n",
    "for sequence_id, embedding in file.items():\n",
    "    print(\n",
    "        f\"  id: {sequence_id}, \"\n",
    "        f\"  embeddings shape: {embedding.shape}, \"\n",
    "        f\"  embeddings mean: {np.array(embedding).mean()}\"\n",
    "    )\n",
    "\n",
    "    break\n",
    "    \n",
    "keys = []\n",
    "h_embeds = []\n",
    "\n",
    "for k, v in file.items():\n",
    "    keys.append(k)\n",
    "    h_embeds.append(np.array(v))"
   ]
  },
  {
   "cell_type": "code",
   "execution_count": 7,
   "id": "298def12",
   "metadata": {},
   "outputs": [],
   "source": [
    "pd.DataFrame(h_embeds, index=keys, \n",
    "             columns=['PT5_%d' % i for i in range(1024)]).to_csv(\n",
    "    'ProtT5_embeddings/Human_preprocessed.csv')"
   ]
  },
  {
   "cell_type": "code",
   "execution_count": null,
   "id": "cb3a748f",
   "metadata": {},
   "outputs": [],
   "source": []
  }
 ],
 "metadata": {
  "kernelspec": {
   "display_name": "Python 3 (ipykernel)",
   "language": "python",
   "name": "python3"
  },
  "language_info": {
   "codemirror_mode": {
    "name": "ipython",
    "version": 3
   },
   "file_extension": ".py",
   "mimetype": "text/x-python",
   "name": "python",
   "nbconvert_exporter": "python",
   "pygments_lexer": "ipython3",
   "version": "3.10.12"
  }
 },
 "nbformat": 4,
 "nbformat_minor": 5
}
