{
 "cells": [
  {
   "cell_type": "markdown",
   "id": "aab959f3",
   "metadata": {},
   "source": [
    "# Converting the LARRY dataset to Scanpy format\n",
    "\n",
    "First, we download all the files from [Experiment 1 from Weinreb 2020 on the KleinLab paper data repository](https://github.com/AllonKleinLab/paper-data/tree/master/Lineage_tracing_on_transcriptional_landscapes_links_state_to_fate_during_differentiation).\n",
    "\n",
    "Then we'll get this into the anndata format."
   ]
  },
  {
   "cell_type": "code",
   "execution_count": 1,
   "id": "bc14ceab",
   "metadata": {},
   "outputs": [
    {
     "name": "stderr",
     "output_type": "stream",
     "text": [
      "/home/gokul/.local/lib/python3.10/site-packages/matplotlib/projections/__init__.py:63: UserWarning: Unable to import Axes3D. This may be due to multiple versions of Matplotlib being installed (e.g. as a system package and as a pip package). As a result, the 3D projection is not available.\n",
      "  warnings.warn(\"Unable to import Axes3D. This may be due to multiple versions of \"\n"
     ]
    }
   ],
   "source": [
    "import scanpy as sc # reinstall numba if you run into issues \n",
    "import pandas as pd\n",
    "import numpy as np"
   ]
  },
  {
   "cell_type": "code",
   "execution_count": 2,
   "id": "4465db8f",
   "metadata": {},
   "outputs": [
    {
     "name": "stdout",
     "output_type": "stream",
     "text": [
      "CPU times: user 2min 50s, sys: 8.3 s, total: 2min 59s\n",
      "Wall time: 2min 53s\n"
     ]
    }
   ],
   "source": [
    "%%time\n",
    "\n",
    "counts = sc.read_mtx('ltseq/stateFate_inVitro_normed_counts.mtx')"
   ]
  },
  {
   "cell_type": "code",
   "execution_count": 3,
   "id": "8895622f",
   "metadata": {},
   "outputs": [
    {
     "data": {
      "text/html": [
       "<div>\n",
       "<style scoped>\n",
       "    .dataframe tbody tr th:only-of-type {\n",
       "        vertical-align: middle;\n",
       "    }\n",
       "\n",
       "    .dataframe tbody tr th {\n",
       "        vertical-align: top;\n",
       "    }\n",
       "\n",
       "    .dataframe thead th {\n",
       "        text-align: right;\n",
       "    }\n",
       "</style>\n",
       "<table border=\"1\" class=\"dataframe\">\n",
       "  <thead>\n",
       "    <tr style=\"text-align: right;\">\n",
       "      <th></th>\n",
       "      <th>Library</th>\n",
       "      <th>Cell barcode</th>\n",
       "      <th>Time point</th>\n",
       "      <th>Starting population</th>\n",
       "      <th>Cell type annotation</th>\n",
       "      <th>Well</th>\n",
       "      <th>SPRING-x</th>\n",
       "      <th>SPRING-y</th>\n",
       "    </tr>\n",
       "  </thead>\n",
       "  <tbody>\n",
       "    <tr>\n",
       "      <th>0</th>\n",
       "      <td>d6_2_2</td>\n",
       "      <td>GCGTGCAA-AGAAGTTA</td>\n",
       "      <td>6.0</td>\n",
       "      <td>Lin-Kit+Sca1-</td>\n",
       "      <td>Undifferentiated</td>\n",
       "      <td>2</td>\n",
       "      <td>411.496</td>\n",
       "      <td>-96.190</td>\n",
       "    </tr>\n",
       "    <tr>\n",
       "      <th>1</th>\n",
       "      <td>d6_2_2</td>\n",
       "      <td>AAGGGACC-CTCGATGC</td>\n",
       "      <td>6.0</td>\n",
       "      <td>Lin-Kit+Sca1-</td>\n",
       "      <td>Undifferentiated</td>\n",
       "      <td>2</td>\n",
       "      <td>-587.462</td>\n",
       "      <td>-306.925</td>\n",
       "    </tr>\n",
       "    <tr>\n",
       "      <th>2</th>\n",
       "      <td>d6_2_2</td>\n",
       "      <td>CGTACCGA-AGCGCCTT</td>\n",
       "      <td>6.0</td>\n",
       "      <td>Lin-Kit+Sca1-</td>\n",
       "      <td>Monocyte</td>\n",
       "      <td>2</td>\n",
       "      <td>1429.805</td>\n",
       "      <td>-429.300</td>\n",
       "    </tr>\n",
       "  </tbody>\n",
       "</table>\n",
       "</div>"
      ],
      "text/plain": [
       "  Library       Cell barcode  Time point Starting population  \\\n",
       "0  d6_2_2  GCGTGCAA-AGAAGTTA         6.0       Lin-Kit+Sca1-   \n",
       "1  d6_2_2  AAGGGACC-CTCGATGC         6.0       Lin-Kit+Sca1-   \n",
       "2  d6_2_2  CGTACCGA-AGCGCCTT         6.0       Lin-Kit+Sca1-   \n",
       "\n",
       "  Cell type annotation  Well  SPRING-x  SPRING-y  \n",
       "0     Undifferentiated     2   411.496   -96.190  \n",
       "1     Undifferentiated     2  -587.462  -306.925  \n",
       "2             Monocyte     2  1429.805  -429.300  "
      ]
     },
     "execution_count": 3,
     "metadata": {},
     "output_type": "execute_result"
    }
   ],
   "source": [
    "meta = pd.read_csv('ltseq/stateFate_inVitro_metadata.txt', sep='\\t')\n",
    "meta.head(3)"
   ]
  },
  {
   "cell_type": "code",
   "execution_count": 4,
   "id": "f48e54c9",
   "metadata": {},
   "outputs": [
    {
     "data": {
      "text/html": [
       "<div>\n",
       "<style scoped>\n",
       "    .dataframe tbody tr th:only-of-type {\n",
       "        vertical-align: middle;\n",
       "    }\n",
       "\n",
       "    .dataframe tbody tr th {\n",
       "        vertical-align: top;\n",
       "    }\n",
       "\n",
       "    .dataframe thead th {\n",
       "        text-align: right;\n",
       "    }\n",
       "</style>\n",
       "<table border=\"1\" class=\"dataframe\">\n",
       "  <thead>\n",
       "    <tr style=\"text-align: right;\">\n",
       "      <th></th>\n",
       "      <th>0</th>\n",
       "    </tr>\n",
       "  </thead>\n",
       "  <tbody>\n",
       "    <tr>\n",
       "      <th>0</th>\n",
       "      <td>0610006L08Rik</td>\n",
       "    </tr>\n",
       "    <tr>\n",
       "      <th>1</th>\n",
       "      <td>0610007P14Rik</td>\n",
       "    </tr>\n",
       "    <tr>\n",
       "      <th>2</th>\n",
       "      <td>0610009B22Rik</td>\n",
       "    </tr>\n",
       "  </tbody>\n",
       "</table>\n",
       "</div>"
      ],
      "text/plain": [
       "               0\n",
       "0  0610006L08Rik\n",
       "1  0610007P14Rik\n",
       "2  0610009B22Rik"
      ]
     },
     "execution_count": 4,
     "metadata": {},
     "output_type": "execute_result"
    }
   ],
   "source": [
    "gene_names = pd.read_csv('ltseq/stateFate_inVitro_gene_names.txt', \n",
    "                         header=None, sep='\\t')\n",
    "gene_names.head(3)"
   ]
  },
  {
   "cell_type": "markdown",
   "id": "1895f5df",
   "metadata": {},
   "source": [
    "The clones come in a matrix format (binary, 1 at the index of the clone id), so we'll convert this into an interpretable integer format clone id."
   ]
  },
  {
   "cell_type": "code",
   "execution_count": 5,
   "id": "6507d65d",
   "metadata": {},
   "outputs": [],
   "source": [
    "clones = sc.read_mtx('ltseq/stateFate_inVitro_clone_matrix.mtx')"
   ]
  },
  {
   "cell_type": "code",
   "execution_count": 6,
   "id": "c593a2d6",
   "metadata": {},
   "outputs": [
    {
     "name": "stdout",
     "output_type": "stream",
     "text": [
      "CPU times: user 8.63 s, sys: 4.67 ms, total: 8.63 s\n",
      "Wall time: 8.62 s\n"
     ]
    }
   ],
   "source": [
    "%%time\n",
    "clone_ids = [np.argmax(clones.X[i, :]) for i in range(len(clones))]"
   ]
  },
  {
   "cell_type": "code",
   "execution_count": 7,
   "id": "5c335b45",
   "metadata": {},
   "outputs": [
    {
     "data": {
      "text/plain": [
       "array([-1., -1., -1., ..., -1., -1., -1.])"
      ]
     },
     "execution_count": 7,
     "metadata": {},
     "output_type": "execute_result"
    }
   ],
   "source": [
    "neutrophil_pt = np.zeros(len(counts)) - 1\n",
    "neutrophil_pt"
   ]
  },
  {
   "cell_type": "code",
   "execution_count": 8,
   "id": "5fcf3691",
   "metadata": {},
   "outputs": [
    {
     "data": {
      "text/plain": [
       "array([ 2.3849e+04, -1.0000e+00, -1.0000e+00, ..., -1.0000e+00,\n",
       "       -1.0000e+00,  1.4090e+03])"
      ]
     },
     "execution_count": 8,
     "metadata": {},
     "output_type": "execute_result"
    }
   ],
   "source": [
    "pt = pd.read_csv('ltseq/stateFate_inVitro_neutrophil_pseudotime.txt', \n",
    "                 index_col=0, header=0, sep='\\t')\n",
    "for i in pt.index:\n",
    "    neutrophil_pt[i] = pt.loc[i]\n",
    "    \n",
    "neutrophil_pt"
   ]
  },
  {
   "cell_type": "markdown",
   "id": "76c7e7f1",
   "metadata": {},
   "source": [
    "Now we'll add all the data to our AnnData object."
   ]
  },
  {
   "cell_type": "code",
   "execution_count": 9,
   "id": "7fedd6e2",
   "metadata": {},
   "outputs": [],
   "source": [
    "counts.var_names = [x.upper() for x in gene_names[0].values]"
   ]
  },
  {
   "cell_type": "code",
   "execution_count": 10,
   "id": "bfe56a54",
   "metadata": {},
   "outputs": [],
   "source": [
    "counts.obs['clone'] = clone_ids\n",
    "counts.obs['time'] = meta['Time point'].values\n",
    "counts.obs['well'] = meta['Well'].values\n",
    "counts.obs['type'] = meta['Cell type annotation'].values\n",
    "counts.obs['SPRING1'] = meta['SPRING-x'].values\n",
    "counts.obs['SPRING2'] = meta['SPRING-y'].values\n",
    "counts.obs['Neutrophil PT'] = neutrophil_pt"
   ]
  },
  {
   "cell_type": "code",
   "execution_count": 11,
   "id": "5b8bf1c2",
   "metadata": {},
   "outputs": [],
   "source": [
    "with_clone = counts[counts.obs['clone'] != 0]"
   ]
  },
  {
   "cell_type": "code",
   "execution_count": 12,
   "id": "365dded1",
   "metadata": {},
   "outputs": [
    {
     "name": "stderr",
     "output_type": "stream",
     "text": [
      "/home/gokul/.local/lib/python3.10/site-packages/scanpy/preprocessing/_normalization.py:170: UserWarning: Received a view of an AnnData. Making a copy.\n",
      "  view_to_actual(adata)\n",
      "/home/gokul/.local/lib/python3.10/site-packages/scanpy/preprocessing/_simple.py:843: UserWarning: Received a view of an AnnData. Making a copy.\n",
      "  view_to_actual(adata)\n"
     ]
    }
   ],
   "source": [
    "sc.pp.normalize_total(with_clone, target_sum=1e4)\n",
    "sc.pp.log1p(with_clone)\n",
    "\n",
    "sc.pp.highly_variable_genes(with_clone, n_top_genes=10**3)\n",
    "rna_feats = with_clone[:, with_clone.var.highly_variable == True]\n",
    "\n",
    "sc.pp.scale(rna_feats, max_value=10)\n",
    "sc.pp.scale(with_clone, max_value=10)"
   ]
  },
  {
   "cell_type": "code",
   "execution_count": 13,
   "id": "e5e187d9",
   "metadata": {},
   "outputs": [],
   "source": [
    "# with_clone.write(\"LARRY_WT_preprocessed.h5ad\")\n",
    "rna_feats.write('LARRY_HVGs_preprocessed.h5ad')"
   ]
  },
  {
   "cell_type": "code",
   "execution_count": null,
   "id": "7eef7f5d",
   "metadata": {},
   "outputs": [],
   "source": []
  }
 ],
 "metadata": {
  "kernelspec": {
   "display_name": "Python 3 (ipykernel)",
   "language": "python",
   "name": "python3"
  },
  "language_info": {
   "codemirror_mode": {
    "name": "ipython",
    "version": 3
   },
   "file_extension": ".py",
   "mimetype": "text/x-python",
   "name": "python",
   "nbconvert_exporter": "python",
   "pygments_lexer": "ipython3",
   "version": "3.10.12"
  }
 },
 "nbformat": 4,
 "nbformat_minor": 5
}
