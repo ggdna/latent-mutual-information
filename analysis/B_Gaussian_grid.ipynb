{
 "cells": [
  {
   "cell_type": "markdown",
   "id": "32860b41",
   "metadata": {},
   "source": [
    "# Benchmarking MI estimators in high dimension using Gaussian\n",
    "\n",
    "Here we use correlated Gaussians in high dimension to explore how MI estimators behave in settings with different ambient and (shared) intrinsic dimensionality.\n",
    "\n",
    "This benchmark studies 6 estimators across 9 $k$ values, 15 $d$ values, and 10 true MIs from 0 to 2 bits. In total 2850 datasets. "
   ]
  },
  {
   "cell_type": "code",
   "execution_count": 1,
   "id": "ae1a530f",
   "metadata": {},
   "outputs": [],
   "source": [
    "%%capture\n",
    "\n",
    "from lmi import lmi\n",
    "import time\n",
    "import os\n",
    "\n",
    "import pandas as pd\n",
    "import numpy as np\n",
    "import seaborn as sns\n",
    "import matplotlib.pyplot as plt\n",
    "from matplotlib import rcParams\n",
    "from tqdm.notebook import tqdm\n",
    "import torch\n",
    "from scipy.stats import kendalltau\n",
    "\n",
    "os.environ[\"XLA_PYTHON_CLIENT_PREALLOCATE\"]=\"false\"\n",
    "os.environ[\"XLA_PYTHON_CLIENT_MEM_FRACTION\"]=\".10\"\n",
    "os.environ[\"XLA_PYTHON_CLIENT_ALLOCATOR\"]=\"platform\"\n",
    "from bmi.estimators import MINEEstimator as MINE\n",
    "from bmi.estimators import InfoNCEEstimator as InfoNCE\n",
    "\n",
    "torch.manual_seed(2121)\n",
    "np.random.seed(2121)"
   ]
  },
  {
   "cell_type": "code",
   "execution_count": 2,
   "id": "bbe18cef",
   "metadata": {},
   "outputs": [],
   "source": [
    "def generate_gaussian_dataset(ambient, intrinsic, nuisance, antidiag, samples=10**3):\n",
    "    \n",
    "    assert intrinsic+nuisance <= ambient, \"Dimensionality not adding up\"\n",
    "    \n",
    "    X_nuisance = np.random.normal(size=(samples, nuisance))\n",
    "    Y_nuisance = np.random.normal(size=(samples, nuisance))\n",
    "\n",
    "\n",
    "    cov = np.array([[6, antidiag], [antidiag, 3.5]])\n",
    "    \n",
    "    pts = [np.random.multivariate_normal([0, 0], cov, \n",
    "                                         size=samples) for i in range(intrinsic)]\n",
    "    \n",
    "    pts = np.hstack(pts)\n",
    "    \n",
    "    # one copy of the intrinsic dimensions\n",
    "    Xs = pts[:, [i for i in range(0, 2*intrinsic, 2)]]\n",
    "    Ys = pts[:, [i for i in range(1, 2*intrinsic, 2)]]\n",
    "    \n",
    "    # then randomly sample them to make up the rest of the dimensions\n",
    "    X_redundant = pts[:, np.random.choice(range(0, 2*intrinsic, 2), \n",
    "                                   size = (ambient-(intrinsic+nuisance)))]\n",
    "    \n",
    "    Y_redundant = pts[:, np.random.choice(range(1, 2*intrinsic, 2), \n",
    "                               size = (ambient-(intrinsic+nuisance)))]\n",
    "    \n",
    "    Xs = np.hstack((Xs, X_redundant, X_nuisance))\n",
    "    Ys = np.hstack((Ys, Y_redundant, Y_nuisance))\n",
    "    \n",
    "    return Xs, Ys\n",
    "\n",
    "def mi_from_rho(rho, intrinsic):\n",
    "    return -0.5*np.log2((1-(rho/(np.sqrt(6*3.5)))**2))*intrinsic\n",
    "\n",
    "def rho_from_mi(mi, intrinsic):\n",
    "    return np.sqrt(6*3.5) * np.sqrt(1 - 2**(-2*mi/intrinsic))"
   ]
  },
  {
   "cell_type": "code",
   "execution_count": 3,
   "id": "90ade453-eba7-4872-9f24-e1ea89ebfe08",
   "metadata": {},
   "outputs": [],
   "source": [
    "###########################\n",
    "## Experiment parameters ##\n",
    "###########################\n",
    "\n",
    "N_samples = 2*10**3\n",
    "\n",
    "ambients = np.concatenate((np.arange(1, 6) * 10, \n",
    "                           np.arange(1, 6) * 10**2,\n",
    "                           np.arange(1, 6) * 10**3))\n",
    "\n",
    "intrinsics = np.arange(1,10)\n",
    "\n",
    "true_mis = np.linspace(0, 2, 10)"
   ]
  },
  {
   "cell_type": "code",
   "execution_count": null,
   "id": "01e0c3b0",
   "metadata": {},
   "outputs": [
    {
     "data": {
      "application/vnd.jupyter.widget-view+json": {
       "model_id": "7d1f6c1bf84a49b9a06881a1d1263208",
       "version_major": 2,
       "version_minor": 0
      },
      "text/plain": [
       "intrinsic:   0%|          | 0/9 [00:00<?, ?it/s]"
      ]
     },
     "metadata": {},
     "output_type": "display_data"
    },
    {
     "data": {
      "application/vnd.jupyter.widget-view+json": {
       "model_id": "6dc32f27f8564a66b72361e2db689041",
       "version_major": 2,
       "version_minor": 0
      },
      "text/plain": [
       "ambient:   0%|          | 0/15 [00:00<?, ?it/s]"
      ]
     },
     "metadata": {},
     "output_type": "display_data"
    },
    {
     "data": {
      "application/vnd.jupyter.widget-view+json": {
       "model_id": "",
       "version_major": 2,
       "version_minor": 0
      },
      "text/plain": [
       "anti_diag:   0%|          | 0/10 [00:00<?, ?it/s]"
      ]
     },
     "metadata": {},
     "output_type": "display_data"
    },
    {
     "data": {
      "application/vnd.jupyter.widget-view+json": {
       "model_id": "",
       "version_major": 2,
       "version_minor": 0
      },
      "text/plain": [
       "anti_diag:   0%|          | 0/10 [00:00<?, ?it/s]"
      ]
     },
     "metadata": {},
     "output_type": "display_data"
    },
    {
     "data": {
      "application/vnd.jupyter.widget-view+json": {
       "model_id": "",
       "version_major": 2,
       "version_minor": 0
      },
      "text/plain": [
       "anti_diag:   0%|          | 0/10 [00:00<?, ?it/s]"
      ]
     },
     "metadata": {},
     "output_type": "display_data"
    },
    {
     "data": {
      "application/vnd.jupyter.widget-view+json": {
       "model_id": "",
       "version_major": 2,
       "version_minor": 0
      },
      "text/plain": [
       "anti_diag:   0%|          | 0/10 [00:00<?, ?it/s]"
      ]
     },
     "metadata": {},
     "output_type": "display_data"
    },
    {
     "data": {
      "application/vnd.jupyter.widget-view+json": {
       "model_id": "",
       "version_major": 2,
       "version_minor": 0
      },
      "text/plain": [
       "anti_diag:   0%|          | 0/10 [00:00<?, ?it/s]"
      ]
     },
     "metadata": {},
     "output_type": "display_data"
    },
    {
     "data": {
      "application/vnd.jupyter.widget-view+json": {
       "model_id": "",
       "version_major": 2,
       "version_minor": 0
      },
      "text/plain": [
       "anti_diag:   0%|          | 0/10 [00:00<?, ?it/s]"
      ]
     },
     "metadata": {},
     "output_type": "display_data"
    },
    {
     "data": {
      "application/vnd.jupyter.widget-view+json": {
       "model_id": "",
       "version_major": 2,
       "version_minor": 0
      },
      "text/plain": [
       "anti_diag:   0%|          | 0/10 [00:00<?, ?it/s]"
      ]
     },
     "metadata": {},
     "output_type": "display_data"
    },
    {
     "data": {
      "application/vnd.jupyter.widget-view+json": {
       "model_id": "",
       "version_major": 2,
       "version_minor": 0
      },
      "text/plain": [
       "anti_diag:   0%|          | 0/10 [00:00<?, ?it/s]"
      ]
     },
     "metadata": {},
     "output_type": "display_data"
    },
    {
     "data": {
      "application/vnd.jupyter.widget-view+json": {
       "model_id": "6eb72476f57c4865be68b3a4eadec83f",
       "version_major": 2,
       "version_minor": 0
      },
      "text/plain": [
       "anti_diag:   0%|          | 0/10 [00:00<?, ?it/s]"
      ]
     },
     "metadata": {},
     "output_type": "display_data"
    }
   ],
   "source": [
    "res_d = {\n",
    "\n",
    "    \"True MI\" : [],\n",
    "    \"Ambient dimensions\" : [],\n",
    "    \"Intrinsic dimensions\" : [],\n",
    "    \"Estimator\" : [],\n",
    "    \"Estimate\" : [],\n",
    "}\n",
    "\n",
    "\n",
    "for intrinsic in tqdm(intrinsics,\n",
    "                      position=0, desc='intrinsic', leave=True):\n",
    "    \n",
    "    for ambient in tqdm(ambients, \n",
    "                        position=1, desc='ambient', leave=False):\n",
    "        \n",
    "        for true_mi in tqdm(true_mis,\n",
    "                                position=3, desc='anti_diag', leave=False):\n",
    "            \n",
    "            if intrinsic <= ambient:\n",
    "                \n",
    "                nuisance = (ambient - intrinsic)//2\n",
    "                anti_diag = rho_from_mi(true_mi, intrinsic)\n",
    "                \n",
    "                Xs, Ys = generate_gaussian_dataset(ambient, intrinsic, \n",
    "                                                   nuisance, \n",
    "                                                   anti_diag,\n",
    "                                                  samples=N_samples)\n",
    "\n",
    "                # rescale\n",
    "                Xs = np.nan_to_num((Xs - Xs.mean(axis=0)) / Xs.std(axis=0))\n",
    "                Ys = np.nan_to_num((Ys - Ys.mean(axis=0)) / Ys.std(axis=0))\n",
    "                \n",
    "                infonce = InfoNCE(verbose=False)\n",
    "                infonce_mi = infonce.estimate(Xs, Ys)\n",
    "                \n",
    "                mine = MINE(verbose=False)\n",
    "                mine_mi = mine.estimate(Xs, Ys)\n",
    "\n",
    "                res_d['True MI'].append(true_mi)\n",
    "                res_d['Ambient dimensions'].append(ambient)\n",
    "                res_d['Intrinsic dimensions'].append(intrinsic)\n",
    "                res_d['Estimator'].append(\"InfoNCE\")\n",
    "                res_d['Estimate'].append(max(0, infonce_mi/np.log(2)))\n",
    "                \n",
    "                res_d['True MI'].append(true_mi)\n",
    "                res_d['Ambient dimensions'].append(ambient)\n",
    "                res_d['Intrinsic dimensions'].append(intrinsic)\n",
    "                res_d['Estimator'].append(\"MINE\")\n",
    "                res_d['Estimate'].append(max(0, mine_mi/np.log(2)))\n",
    "\n",
    "\n",
    "                s = np.mean(lmi.ksg.mi(Xs, Ys))\n",
    "                res_d['True MI'].append(true_mi)\n",
    "                res_d['Ambient dimensions'].append(ambient)\n",
    "                res_d['Intrinsic dimensions'].append(intrinsic)\n",
    "                res_d['Estimator'].append(\"KSG\")\n",
    "                res_d['Estimate'].append(s)\n",
    "                \n",
    "                #### Padding trick ###\n",
    "                tXs = Xs.copy()\n",
    "                tYs = Ys.copy()\n",
    "\n",
    "\n",
    "                if ambient < 50:\n",
    "                    tXs = np.tile(Xs, (1, 1 + 50//ambient))\n",
    "                    tYs = np.tile(Ys, (1, 1 + 50//ambient))\n",
    "                ####\n",
    "\n",
    "                s = np.nanmean(lmi.lmi(tXs, tYs, \n",
    "                                      regularizer='models.AECross')[0])\n",
    "                res_d['True MI'].append(true_mi)\n",
    "                res_d['Ambient dimensions'].append(ambient)\n",
    "                res_d['Intrinsic dimensions'].append(intrinsic)\n",
    "                res_d['Estimator'].append(\"LMI\")\n",
    "                res_d['Estimate'].append(s)\n",
    "                \n",
    "                s = np.nanmean(lmi.lmi(tXs, tYs,\n",
    "                                      regularizer='models.AEInfoNCE')[0])\n",
    "                res_d['True MI'].append(true_mi)\n",
    "                res_d['Ambient dimensions'].append(ambient)\n",
    "                res_d['Intrinsic dimensions'].append(intrinsic)\n",
    "                res_d['Estimator'].append(\"LMI-InfoNCE\")\n",
    "                res_d['Estimate'].append(s)\n",
    "                \n",
    "                s = np.nanmean(lmi.lmi(tXs, tYs,\n",
    "                                      regularizer='models.AEMINE')[0])\n",
    "                res_d['True MI'].append(true_mi)\n",
    "                res_d['Ambient dimensions'].append(ambient)\n",
    "                res_d['Intrinsic dimensions'].append(intrinsic)\n",
    "                res_d['Estimator'].append(\"LMI-MINE\")\n",
    "                res_d['Estimate'].append(s)\n",
    "\n",
    "res_df = pd.DataFrame(res_d)"
   ]
  },
  {
   "cell_type": "code",
   "execution_count": null,
   "id": "3f918256",
   "metadata": {},
   "outputs": [],
   "source": [
    "g = res_df.groupby(['Ambient dimensions', 'Intrinsic dimensions', 'Estimator'])\n",
    "def kendall(group):\n",
    "    t = group['True MI']\n",
    "    e = group['Estimate']\n",
    "    return kendalltau(t, e)[0]\n",
    "\n",
    "def mse(group):\n",
    "    t = group['True MI']\n",
    "    e = group['Estimate']\n",
    "    return np.mean((t-e)**2)"
   ]
  },
  {
   "cell_type": "code",
   "execution_count": null,
   "id": "32ee8450",
   "metadata": {},
   "outputs": [],
   "source": [
    "fig, axn = plt.subplots(3, 2, sharex=True, sharey=True, \n",
    "                        figsize=(12,12), dpi=150)\n",
    "\n",
    "cbar_ax = fig.add_axes([.91, .3, .03, .4])\n",
    "\n",
    "k = g.apply(mse).unstack().fillna(0)\n",
    "ests = list(set(res_df['Estimator']))\n",
    "for i, ax in enumerate(axn.flat):\n",
    "    sns.heatmap(k.reset_index().pivot_table(index='Ambient dimensions',\n",
    "                            columns='Intrinsic dimensions',\n",
    "                            values=ests[i]), square=True, cmap='mako_r',\n",
    "                ax=ax,\n",
    "                cbar=i == 0,\n",
    "                vmin=0, vmax=2,\n",
    "                cbar_ax=None if i else cbar_ax)\n",
    "    ax.set_title(ests[i])\n",
    "\n",
    "# axn.flat[5].remove()\n",
    "\n",
    "fig.tight_layout(rect=[0, 0, .9, 1])"
   ]
  },
  {
   "cell_type": "code",
   "execution_count": null,
   "id": "e31b72f9",
   "metadata": {},
   "outputs": [],
   "source": [
    "res_df.to_csv(\"../results/MI_Gaussian_grids.csv\")"
   ]
  },
  {
   "cell_type": "code",
   "execution_count": null,
   "id": "77c0d4cf",
   "metadata": {},
   "outputs": [],
   "source": []
  }
 ],
 "metadata": {
  "kernelspec": {
   "display_name": "Python 3 (ipykernel)",
   "language": "python",
   "name": "python3"
  },
  "language_info": {
   "codemirror_mode": {
    "name": "ipython",
    "version": 3
   },
   "file_extension": ".py",
   "mimetype": "text/x-python",
   "name": "python",
   "nbconvert_exporter": "python",
   "pygments_lexer": "ipython3",
   "version": "3.10.12"
  }
 },
 "nbformat": 4,
 "nbformat_minor": 5
}
