{
 "cells": [
  {
   "cell_type": "markdown",
   "id": "96fc9fbe",
   "metadata": {},
   "source": [
    "# Benchmarking on resampled protein embeddings\n",
    "\n",
    "Evaluating 6 estimators on 200 datasets."
   ]
  },
  {
   "cell_type": "code",
   "execution_count": 1,
   "id": "5ed85f1e",
   "metadata": {},
   "outputs": [],
   "source": [
    "%%capture\n",
    "from lmi import lmi\n",
    "import torch\n",
    "\n",
    "import pandas as pd\n",
    "import numpy as np\n",
    "import seaborn as sns\n",
    "import matplotlib.pyplot as plt\n",
    "from matplotlib import rcParams\n",
    "from tqdm.notebook import tqdm\n",
    "\n",
    "import time\n",
    "import os\n",
    "\n",
    "os.environ[\"XLA_PYTHON_CLIENT_PREALLOCATE\"]=\"false\"\n",
    "os.environ[\"XLA_PYTHON_CLIENT_MEM_FRACTION\"]=\".10\"\n",
    "os.environ[\"XLA_PYTHON_CLIENT_ALLOCATOR\"]=\"platform\"\n",
    "from bmi.estimators import MINEEstimator as MINE\n",
    "from bmi.estimators import InfoNCEEstimator as InfoNCE\n",
    "\n",
    "torch.manual_seed(2121)\n",
    "np.random.seed(2121)"
   ]
  },
  {
   "cell_type": "code",
   "execution_count": 2,
   "id": "c6346c20",
   "metadata": {},
   "outputs": [
    {
     "name": "stdout",
     "output_type": "stream",
     "text": [
      "4403 sequences in E. Coli proteome\n",
      "27448 sequences in A. thaliana proteome\n"
     ]
    }
   ],
   "source": [
    "ecoli = pd.read_csv('../data/ProtT5_embeddings/Ecoli_preprocessed.csv', index_col=0)\n",
    "print(\"%d sequences in E. Coli proteome\" % len(ecoli))\n",
    "\n",
    "athali = pd.read_csv('../data/ProtT5_embeddings/Athaliana_preprocessed.csv', index_col=0)\n",
    "print(\"%d sequences in A. thaliana proteome\" % len(athali))"
   ]
  },
  {
   "cell_type": "code",
   "execution_count": 3,
   "id": "395bd81b",
   "metadata": {},
   "outputs": [
    {
     "name": "stdout",
     "output_type": "stream",
     "text": [
      "Sanity check (percent identical labels, should be ~0.75): 0.753294\n"
     ]
    }
   ],
   "source": [
    "# first we construct a dataset where ecoli proteins and athali proteins are paired\n",
    "\n",
    "X_data, Y_data = [np.zeros(1024)], [np.zeros(1024)]\n",
    "labels = []\n",
    "\n",
    "specs = [ecoli.to_numpy(), athali.iloc[:-1].to_numpy()] # drop last E Coli for even parity lol\n",
    "\n",
    "s_names = ['E. Coli', 'A. Thaliana']\n",
    "\n",
    "N_pairs = min([len(x) for x in specs])//2\n",
    "\n",
    "for i in range(2):\n",
    "    X_data = np.vstack((X_data, specs[i][:N_pairs]))\n",
    "    Y_data = np.vstack((Y_data, specs[i][N_pairs:2*N_pairs]))\n",
    "    labels += [s_names[i]]*(N_pairs)\n",
    "\n",
    "X_data = np.array([x.flatten() for x in X_data[1:]])\n",
    "Y_data = np.array([x.flatten() for x in Y_data[1:]])\n",
    "labels = np.array(labels)\n",
    "\n",
    "assert len(X_data) == len(labels)\n",
    "\n",
    "def generate_dataset(percent_shuffle, N_samples=10**4):\n",
    "    \"\"\"\n",
    "    shuffle pairs in a subset of the data\n",
    "    \"\"\"\n",
    "    \n",
    "    inds = np.arange(len(X_data))\n",
    "    np.random.shuffle(inds)\n",
    "    \n",
    "    Xs = X_data[inds[:N_samples]].copy()\n",
    "    Ys = Y_data[inds[:N_samples]].copy()\n",
    "    Lx = labels[inds[:N_samples]].copy()\n",
    "    Ly = labels[inds[:N_samples]].copy()\n",
    "    \n",
    "    rows_to_shuffle = int(percent_shuffle*len(Xs))\n",
    "    \n",
    "    # get identical shuffles\n",
    "    # thanks to https://stackoverflow.com/questions/4601373/\n",
    "    # better-way-to-shuffle-two-numpy-arrays-in-unison\n",
    "    rng_state = np.random.get_state()\n",
    "    np.random.shuffle(Xs[:rows_to_shuffle])\n",
    "    np.random.set_state(rng_state)\n",
    "    np.random.shuffle(Lx[:rows_to_shuffle])\n",
    "    \n",
    "    return Xs, Ys, Lx, Ly\n",
    "\n",
    "Xs, Ys, Lx, Ly = generate_dataset(0.5)\n",
    "print(\"Sanity check (percent identical labels, should be ~0.75): %f\"\n",
    "      %(sum(Lx == Ly)/len(Lx)))"
   ]
  },
  {
   "cell_type": "code",
   "execution_count": null,
   "id": "b3fde4b4",
   "metadata": {},
   "outputs": [
    {
     "data": {
      "application/vnd.jupyter.widget-view+json": {
       "model_id": "3737ac16a4404aaa82a9bc52ae50ab4c",
       "version_major": 2,
       "version_minor": 0
      },
      "text/plain": [
       "  0%|          | 0/200 [00:00<?, ?it/s]"
      ]
     },
     "metadata": {},
     "output_type": "display_data"
    }
   ],
   "source": [
    "np.seterr(divide='ignore', invalid='ignore')\n",
    "\n",
    "smi_d = {\n",
    "    \"Estimate\" : [],\n",
    "    \"Label MI\" : [],\n",
    "    \"Dimension\" : [],\n",
    "    \"Measure\" : [],\n",
    "    \"Time\" : [],\n",
    "    }\n",
    "\n",
    "for ps in tqdm(np.linspace(0, 1, 200)):\n",
    "    \n",
    "    N_dims = 1024\n",
    "    \n",
    "    Xs, Ys, Lx, Ly = generate_dataset(ps**2)\n",
    "    \n",
    "    DMI = lmi.ksg.midd(Lx, Ly)\n",
    "    Xs = np.nan_to_num((Xs - Xs.mean(axis=0)) / Xs.std(axis=0))\n",
    "    Ys = np.nan_to_num((Ys - Ys.mean(axis=0)) / Ys.std(axis=0))\n",
    "\n",
    "    t0 = time.time()\n",
    "    mine = MINE(verbose=False)\n",
    "    mine_mi = mine.estimate(Xs, Ys) # in nats\n",
    "    t1 = time.time()\n",
    "    \n",
    "    smi_d[\"Estimate\"].append(max(mine_mi/np.log(2), 0))\n",
    "    smi_d[\"Label MI\"].append(DMI)\n",
    "    smi_d[\"Dimension\"].append(N_dims)\n",
    "    smi_d[\"Measure\"].append(\"MINE\")\n",
    "    smi_d[\"Time\"].append(t1-t0)\n",
    "\n",
    "    t0 = time.time()\n",
    "    infonce = InfoNCE(verbose=False)\n",
    "    infonce_mi = infonce.estimate(Xs, Ys)\n",
    "    t1 = time.time()\n",
    "    \n",
    "    smi_d[\"Estimate\"].append(max(infonce_mi/np.log(2), 0))\n",
    "    smi_d[\"Label MI\"].append(DMI)\n",
    "    smi_d[\"Dimension\"].append(N_dims)\n",
    "    smi_d[\"Measure\"].append(\"InfoNCE\")\n",
    "    smi_d[\"Time\"].append(t1-t0)\n",
    "\n",
    "    t0 = time.time()\n",
    "    smi_d[\"Estimate\"].append(np.nanmean(lmi.ksg.mi(Xs, Ys)))\n",
    "    t1 = time.time()\n",
    "    smi_d[\"Label MI\"].append(DMI)\n",
    "    smi_d[\"Dimension\"].append(N_dims)\n",
    "    smi_d[\"Measure\"].append(\"KSG\")\n",
    "    smi_d[\"Time\"].append(t1-t0)\n",
    "    \n",
    "    t0 = time.time()\n",
    "    smi_d[\"Estimate\"].append(np.nanmean(lmi.lmi(Xs, Ys, \n",
    "                                              regularizer='models.AECross')[0]))\n",
    "    t1 = time.time()\n",
    "    smi_d[\"Label MI\"].append(DMI)\n",
    "    smi_d[\"Dimension\"].append(N_dims)\n",
    "    smi_d[\"Measure\"].append(\"LMI\")\n",
    "    smi_d[\"Time\"].append(t1-t0)\n",
    "    \n",
    "    t0 = time.time()\n",
    "    smi_d[\"Estimate\"].append(np.nanmean(lmi.lmi(Xs, Ys, \n",
    "                                              regularizer='models.AEInfoNCE')[0]))\n",
    "    t1 = time.time()\n",
    "    smi_d[\"Label MI\"].append(DMI)\n",
    "    smi_d[\"Dimension\"].append(N_dims)\n",
    "    smi_d[\"Measure\"].append(\"LMI-InfoNCE\")\n",
    "    smi_d[\"Time\"].append(t1-t0)\n",
    "    \n",
    "    t0 = time.time()\n",
    "    smi_d[\"Estimate\"].append(np.nanmean(lmi.lmi(Xs, Ys, \n",
    "                                               regularizer='models.AEMINE')[0]))\n",
    "    t1 = time.time()\n",
    "    smi_d[\"Label MI\"].append(DMI)\n",
    "    smi_d[\"Dimension\"].append(N_dims)\n",
    "    smi_d[\"Measure\"].append(\"LMI-MINE\")\n",
    "    smi_d[\"Time\"].append(t1-t0)"
   ]
  },
  {
   "cell_type": "code",
   "execution_count": null,
   "id": "ce917791",
   "metadata": {},
   "outputs": [],
   "source": [
    "smi_df = pd.DataFrame(smi_d)"
   ]
  },
  {
   "cell_type": "code",
   "execution_count": null,
   "id": "0b037041",
   "metadata": {},
   "outputs": [],
   "source": [
    "rcParams['figure.figsize'] = (4,4)\n",
    "sns.scatterplot(smi_df,\n",
    "                y='Estimate',\n",
    "                x='Label MI',\n",
    "                hue='Measure')"
   ]
  },
  {
   "cell_type": "code",
   "execution_count": null,
   "id": "d1e9c370",
   "metadata": {},
   "outputs": [],
   "source": [
    "smi_df.to_csv(\"../results/B_species_mixing.csv\")"
   ]
  },
  {
   "cell_type": "code",
   "execution_count": null,
   "id": "7a6ea6bc",
   "metadata": {},
   "outputs": [],
   "source": []
  }
 ],
 "metadata": {
  "kernelspec": {
   "display_name": "Python 3 (ipykernel)",
   "language": "python",
   "name": "python3"
  },
  "language_info": {
   "codemirror_mode": {
    "name": "ipython",
    "version": 3
   },
   "file_extension": ".py",
   "mimetype": "text/x-python",
   "name": "python",
   "nbconvert_exporter": "python",
   "pygments_lexer": "ipython3",
   "version": "3.10.12"
  }
 },
 "nbformat": 4,
 "nbformat_minor": 5
}
