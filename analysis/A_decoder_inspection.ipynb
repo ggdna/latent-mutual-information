{
 "cells": [
  {
   "cell_type": "markdown",
   "id": "9d7112a7",
   "metadata": {},
   "source": [
    "# Attributing MI to specific dimensions by inspecting cross-decoders\n",
    "\n",
    "Here, we explore one way of \"interpreting\" an MI estimate. Different dimensions of a variable may contribute more to MI than others. To get a sense of how much each dimension contributes to MI, we can inspect the element-wise error in our cross predictive models.\n",
    "\n",
    "Intuitively, if a dimension is poorly cross-predicted, then it does not contribute to the MI. However, if a dimension is well predicted, it does not necessarily contain mutual information. For example, if a dimension is always 0, it will be well-predicted, but not contribute MI. Yet, the prediction error is often a useful way of pulling out important dimensions. Here we show one example, on the 0-1 MNIST dataset."
   ]
  },
  {
   "cell_type": "code",
   "execution_count": 1,
   "id": "dd847e71",
   "metadata": {},
   "outputs": [
    {
     "name": "stderr",
     "output_type": "stream",
     "text": [
      "/home/gokul/.local/lib/python3.10/site-packages/matplotlib/projections/__init__.py:63: UserWarning: Unable to import Axes3D. This may be due to multiple versions of Matplotlib being installed (e.g. as a system package and as a pip package). As a result, the 3D projection is not available.\n",
      "  warnings.warn(\"Unable to import Axes3D. This may be due to multiple versions of \"\n"
     ]
    }
   ],
   "source": [
    "import time\n",
    "import os\n",
    "\n",
    "from lmi import lmi\n",
    "import pandas as pd\n",
    "import numpy as np\n",
    "import seaborn as sns\n",
    "import matplotlib.pyplot as plt\n",
    "from matplotlib import rcParams\n",
    "import tensorflow as tf\n",
    "from tqdm.notebook import tqdm\n",
    "\n",
    "from scipy.stats import kendalltau\n",
    "\n",
    "from keras.datasets import mnist\n",
    "\n",
    "import torch\n",
    "\n",
    "torch.manual_seed(2121)\n",
    "np.random.seed(2121)"
   ]
  },
  {
   "cell_type": "code",
   "execution_count": 2,
   "id": "e0f6e130",
   "metadata": {},
   "outputs": [
    {
     "name": "stdout",
     "output_type": "stream",
     "text": [
      "Labels: (0, 0)\n"
     ]
    },
    {
     "data": {
      "image/png": "[encoded data removed]",
      "text/plain": [
       "<Figure size 432x288 with 1 Axes>"
      ]
     },
     "metadata": {
      "needs_background": "light"
     },
     "output_type": "display_data"
    },
    {
     "name": "stdout",
     "output_type": "stream",
     "text": [
      "Labels: (1, 1)\n"
     ]
    },
    {
     "data": {
      "image/png": "[encoded data removed]",
      "text/plain": [
       "<Figure size 432x288 with 1 Axes>"
      ]
     },
     "metadata": {
      "needs_background": "light"
     },
     "output_type": "display_data"
    },
    {
     "name": "stdout",
     "output_type": "stream",
     "text": [
      "Sanity check (percent identical labels, should be ~0.75): 0.752400\n"
     ]
    }
   ],
   "source": [
    "(x_train, y_train), _ = mnist.load_data()\n",
    "\n",
    "X_data, Y_data = [], []\n",
    "labels = []\n",
    "\n",
    "for i in range(2):\n",
    "    imgs = [x[0] for x in x_train[np.argwhere(y_train == i)]]\n",
    "    X_data += imgs[:2500]\n",
    "    Y_data += imgs[2500:5000]\n",
    "    labels += [i]*2500\n",
    "\n",
    "X_data = np.array([x.flatten() for x in X_data])\n",
    "Y_data = np.array([x.flatten() for x in Y_data])\n",
    "labels = np.array(labels)\n",
    "\n",
    "assert(len(X_data) == len(Y_data))\n",
    "\n",
    "inds = np.arange(len(labels))\n",
    "np.random.shuffle(inds)\n",
    "\n",
    "X_data = X_data[inds]\n",
    "Y_data = Y_data[inds]\n",
    "labels = labels[inds]\n",
    "\n",
    "def generate_dataset(percent_shuffle, N_samples=10**5):\n",
    "    \"\"\"\n",
    "    \"\"\"\n",
    "    \n",
    "    Xs = X_data[:N_samples].copy()\n",
    "    Ys = Y_data[:N_samples].copy()\n",
    "    Lx = labels[:N_samples].copy()\n",
    "    Ly = labels[:N_samples].copy()\n",
    "    \n",
    "    rows_to_shuffle = int(percent_shuffle*len(labels))    \n",
    "    # get identical shuffles\n",
    "    # thanks to https://stackoverflow.com/questions/4601373/\n",
    "    # better-way-to-shuffle-two-numpy-arrays-in-unison\n",
    "    rng_state = np.random.get_state()\n",
    "    np.random.shuffle(Xs[:rows_to_shuffle])\n",
    "    np.random.set_state(rng_state)\n",
    "    np.random.shuffle(Lx[:rows_to_shuffle])\n",
    "    \n",
    "    return Xs, Ys, Lx, Ly\n",
    "\n",
    "rcParams[\"figure.figsize\"] = (2,1)\n",
    "\n",
    "Xs, Ys, Lx, Ly = generate_dataset(0.5)\n",
    "for k in np.random.choice(np.arange(len(Xs)), 2):\n",
    "    print(\"Labels: (%d, %d)\"%(Lx[k], Ly[k]))\n",
    "    plt.imshow(np.hstack((Xs[k].reshape(28, 28), Ys[k].reshape(28,28))))\n",
    "    plt.axis('off')\n",
    "    plt.show()\n",
    "    \n",
    "print(\"Sanity check (percent identical labels, should be ~0.75): %f\"\n",
    "      %(sum(Lx == Ly)/len(Lx)))"
   ]
  },
  {
   "cell_type": "code",
   "execution_count": 3,
   "id": "dc1b8ff5",
   "metadata": {},
   "outputs": [
    {
     "name": "stderr",
     "output_type": "stream",
     "text": [
      "/home/gokul/latent-mutual-information/analysis/lmi/lmi.py:179: RuntimeWarning: invalid value encountered in divide\n",
      "  Xs = torch.from_numpy(np.nan_to_num((Xs - Xs.mean(axis=0)) / Xs.std(axis=0))).float().cuda()\n",
      "/home/gokul/latent-mutual-information/analysis/lmi/lmi.py:180: RuntimeWarning: invalid value encountered in divide\n",
      "  Ys = torch.from_numpy(np.nan_to_num((Ys - Ys.mean(axis=0)) / Ys.std(axis=0))).float().cuda()\n"
     ]
    },
    {
     "data": {
      "application/vnd.jupyter.widget-view+json": {
       "model_id": "d448eea5202d44608f06583fe35a18f2",
       "version_major": 2,
       "version_minor": 0
      },
      "text/plain": [
       "  0%|          | 0/500 [00:00<?, ?Epoch/s]"
      ]
     },
     "metadata": {},
     "output_type": "display_data"
    },
    {
     "name": "stdout",
     "output_type": "stream",
     "text": [
      "Training stopped at epoch  399\n",
      "Validation loss: 1.1615991115570068\n"
     ]
    }
   ],
   "source": [
    "Xs, Ys, Lx, Ly = generate_dataset(0)\n",
    "est, emb, model = lmi.lmi(Xs, Ys, epochs=500,\n",
    "                           regularizer='models.AECross', \n",
    "                                   quiet=False)\n"
   ]
  },
  {
   "cell_type": "code",
   "execution_count": 4,
   "id": "50c3ec80",
   "metadata": {},
   "outputs": [
    {
     "name": "stderr",
     "output_type": "stream",
     "text": [
      "/tmp/ipykernel_328792/2042423546.py:1: RuntimeWarning: invalid value encountered in divide\n",
      "  Xs = torch.from_numpy(np.nan_to_num((Xs - Xs.mean(axis=0)) / Xs.std(axis=0))).float().cuda()\n",
      "/tmp/ipykernel_328792/2042423546.py:2: RuntimeWarning: invalid value encountered in divide\n",
      "  Ys = torch.from_numpy(np.nan_to_num((Ys - Ys.mean(axis=0)) / Ys.std(axis=0))).float().cuda()\n"
     ]
    }
   ],
   "source": [
    "Xs = torch.from_numpy(np.nan_to_num((Xs - Xs.mean(axis=0)) / Xs.std(axis=0))).float().cuda()\n",
    "Ys = torch.from_numpy(np.nan_to_num((Ys - Ys.mean(axis=0)) / Ys.std(axis=0))).float().cuda()\n",
    "with torch.no_grad():\n",
    "    Zx, Zy = model.encode(Xs, Ys)\n",
    "    cXh, cYh = model.cross_decode(Zx, Zy)"
   ]
  },
  {
   "cell_type": "code",
   "execution_count": 8,
   "id": "6c2ac314",
   "metadata": {},
   "outputs": [
    {
     "data": {
      "image/png": "[encoded data removed]",
      "text/plain": [
       "<Figure size 600x600 with 2 Axes>"
      ]
     },
     "metadata": {
      "needs_background": "light"
     },
     "output_type": "display_data"
    }
   ],
   "source": [
    "el_wise = ((cYh - Ys)**2).mean(axis=0).cpu().numpy()\n",
    "rcParams['figure.figsize'] = (4,4)\n",
    "rcParams['figure.dpi']= 150\n",
    "plt.imshow(el_wise.reshape(28, 28))\n",
    "cbar = plt.colorbar()\n",
    "cbar.set_label('MSE')\n",
    "plt.axis('off')\n",
    "plt.show()"
   ]
  },
  {
   "cell_type": "code",
   "execution_count": 9,
   "id": "7867972d",
   "metadata": {},
   "outputs": [],
   "source": [
    "np.save(\"../results/A_elwise_MSE.npy\", el_wise.reshape(28, 28))"
   ]
  },
  {
   "cell_type": "code",
   "execution_count": null,
   "id": "12a9a39f",
   "metadata": {},
   "outputs": [],
   "source": []
  }
 ],
 "metadata": {
  "kernelspec": {
   "display_name": "Python 3 (ipykernel)",
   "language": "python",
   "name": "python3"
  },
  "language_info": {
   "codemirror_mode": {
    "name": "ipython",
    "version": 3
   },
   "file_extension": ".py",
   "mimetype": "text/x-python",
   "name": "python",
   "nbconvert_exporter": "python",
   "pygments_lexer": "ipython3",
   "version": "3.10.12"
  }
 },
 "nbformat": 4,
 "nbformat_minor": 5
}
