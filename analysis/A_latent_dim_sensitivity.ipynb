{
 "cells": [
  {
   "cell_type": "code",
   "execution_count": 1,
   "id": "9ed800c8-b2a6-4219-a5e7-af8f80fcaf47",
   "metadata": {},
   "outputs": [],
   "source": [
    "%%capture\n",
    "\n",
    "from lmi import lmi\n",
    "import time\n",
    "import os\n",
    "\n",
    "import pandas as pd\n",
    "import numpy as np\n",
    "import seaborn as sns\n",
    "import matplotlib.pyplot as plt\n",
    "from matplotlib import rcParams\n",
    "from tqdm.notebook import tqdm\n",
    "import torch\n",
    "from scipy.stats import kendalltau\n",
    "\n",
    "os.environ[\"XLA_PYTHON_CLIENT_PREALLOCATE\"]=\"false\"\n",
    "os.environ[\"XLA_PYTHON_CLIENT_MEM_FRACTION\"]=\".10\"\n",
    "os.environ[\"XLA_PYTHON_CLIENT_ALLOCATOR\"]=\"platform\"\n",
    "from bmi.estimators import MINEEstimator as MINE\n",
    "from bmi.estimators import InfoNCEEstimator as InfoNCE\n",
    "\n",
    "torch.manual_seed(2121)\n",
    "np.random.seed(2121)"
   ]
  },
  {
   "cell_type": "code",
   "execution_count": 2,
   "id": "aee72975-db3d-4951-b929-8d5a0efc6f5e",
   "metadata": {},
   "outputs": [],
   "source": [
    "def generate_gaussian_dataset(ambient, intrinsic, nuisance, antidiag, samples=10**3):\n",
    "    \n",
    "    assert (intrinsic*2)+nuisance <= ambient, \"Dimensionality not adding up\"\n",
    "    \n",
    "    X_nuisance = np.random.normal(size=(samples, nuisance))\n",
    "    Y_nuisance = np.random.normal(size=(samples, nuisance))\n",
    "\n",
    "\n",
    "    cov = np.array([[6, antidiag], [antidiag, 3.5]])\n",
    "    \n",
    "    pts = [np.random.multivariate_normal([0, 0], cov, \n",
    "                                         size=samples) for i in range(intrinsic)]\n",
    "    \n",
    "    pts = np.hstack(pts)\n",
    "    \n",
    "    # one copy of the intrinsic dimensions\n",
    "    Xs = pts[:, [i for i in range(0, 2*intrinsic, 2)]]\n",
    "    Ys = pts[:, [i for i in range(1, 2*intrinsic, 2)]]\n",
    "    \n",
    "    # then randomly sample them to make up the rest of the dimensions\n",
    "    X_redundant = pts[:, np.random.choice(range(0, 2*intrinsic, 2), \n",
    "                                   size = (ambient-(intrinsic+nuisance)))]\n",
    "    \n",
    "    Y_redundant = pts[:, np.random.choice(range(1, 2*intrinsic, 2), \n",
    "                               size = (ambient-(intrinsic+nuisance)))]\n",
    "    \n",
    "    Xs = np.hstack((Xs, X_redundant, X_nuisance))\n",
    "    Ys = np.hstack((Ys, Y_redundant, Y_nuisance))\n",
    "    \n",
    "    return Xs, Ys\n",
    "\n",
    "def mi_from_rho(rho, intrinsic):\n",
    "    return -0.5*np.log2((1-(rho/(np.sqrt(6*3.5)))**2))*intrinsic\n",
    "\n",
    "def rho_from_mi(mi, intrinsic):\n",
    "    return np.sqrt(6*3.5) * np.sqrt(1 - 2**(-2*mi/intrinsic))"
   ]
  },
  {
   "cell_type": "code",
   "execution_count": 3,
   "id": "4152ec31-0ba0-4e4d-9f75-3a2196a9576e",
   "metadata": {},
   "outputs": [
    {
     "data": {
      "application/vnd.jupyter.widget-view+json": {
       "model_id": "d2e6f0e9463443ec9bce550a47f6a30c",
       "version_major": 2,
       "version_minor": 0
      },
      "text/plain": [
       "  0%|          | 0/15 [00:00<?, ?it/s]"
      ]
     },
     "metadata": {},
     "output_type": "display_data"
    },
    {
     "data": {
      "application/vnd.jupyter.widget-view+json": {
       "model_id": "eb0fa88248f54fb8b357779abc7c9768",
       "version_major": 2,
       "version_minor": 0
      },
      "text/plain": [
       "  0%|          | 0/15 [00:00<?, ?it/s]"
      ]
     },
     "metadata": {},
     "output_type": "display_data"
    },
    {
     "data": {
      "application/vnd.jupyter.widget-view+json": {
       "model_id": "03e7b8c3b0c5402a8eeccc3d4168573e",
       "version_major": 2,
       "version_minor": 0
      },
      "text/plain": [
       "  0%|          | 0/15 [00:00<?, ?it/s]"
      ]
     },
     "metadata": {},
     "output_type": "display_data"
    },
    {
     "data": {
      "application/vnd.jupyter.widget-view+json": {
       "model_id": "c55fbe45cd104d47900e6b983b189dbb",
       "version_major": 2,
       "version_minor": 0
      },
      "text/plain": [
       "  0%|          | 0/15 [00:00<?, ?it/s]"
      ]
     },
     "metadata": {},
     "output_type": "display_data"
    },
    {
     "data": {
      "application/vnd.jupyter.widget-view+json": {
       "model_id": "40eb1424528d4f6b8d704c3a7fb07730",
       "version_major": 2,
       "version_minor": 0
      },
      "text/plain": [
       "  0%|          | 0/15 [00:00<?, ?it/s]"
      ]
     },
     "metadata": {},
     "output_type": "display_data"
    }
   ],
   "source": [
    "ambient = 100\n",
    "intrinsic = 8\n",
    "nuisance = (ambient - intrinsic)//2\n",
    "true_mi = 1\n",
    "antidiag = rho_from_mi(true_mi, intrinsic)\n",
    "N_samples = 5*10**3\n",
    "\n",
    "\n",
    "d = {\n",
    "    \"Latent size\" : [],\n",
    "    \"Estimate\" : [],\n",
    "    \"True MI\" : []\n",
    "}\n",
    "\n",
    "for trials in range(5):\n",
    "    \n",
    "    Xs, Ys = generate_gaussian_dataset(ambient, intrinsic, \n",
    "                                       nuisance, \n",
    "                                       antidiag,\n",
    "                                      samples=N_samples)\n",
    "    \n",
    "    # rescale\n",
    "    Xs = np.nan_to_num((Xs - Xs.mean(axis=0)) / Xs.std(axis=0))\n",
    "    Ys = np.nan_to_num((Ys - Ys.mean(axis=0)) / Ys.std(axis=0))\n",
    "    \n",
    "    for N_dims in tqdm(range(1, 16)):\n",
    "    \n",
    "        d['Latent size'].append(N_dims)\n",
    "        d['Estimate'].append(np.nanmean(lmi.lmi(Xs, Ys, N_dims=N_dims)[0]))\n",
    "        d['True MI'].append(1)\n",
    "    "
   ]
  },
  {
   "cell_type": "code",
   "execution_count": 4,
   "id": "adc167ac-8fd9-47f9-a917-56a5102595e9",
   "metadata": {},
   "outputs": [
    {
     "data": {
      "text/html": [
       "<div>\n",
       "<style scoped>\n",
       "    .dataframe tbody tr th:only-of-type {\n",
       "        vertical-align: middle;\n",
       "    }\n",
       "\n",
       "    .dataframe tbody tr th {\n",
       "        vertical-align: top;\n",
       "    }\n",
       "\n",
       "    .dataframe thead th {\n",
       "        text-align: right;\n",
       "    }\n",
       "</style>\n",
       "<table border=\"1\" class=\"dataframe\">\n",
       "  <thead>\n",
       "    <tr style=\"text-align: right;\">\n",
       "      <th></th>\n",
       "      <th>Latent size</th>\n",
       "      <th>Estimate</th>\n",
       "      <th>True MI</th>\n",
       "    </tr>\n",
       "  </thead>\n",
       "  <tbody>\n",
       "    <tr>\n",
       "      <th>0</th>\n",
       "      <td>1</td>\n",
       "      <td>0.037676</td>\n",
       "      <td>1</td>\n",
       "    </tr>\n",
       "    <tr>\n",
       "      <th>1</th>\n",
       "      <td>2</td>\n",
       "      <td>0.033627</td>\n",
       "      <td>1</td>\n",
       "    </tr>\n",
       "    <tr>\n",
       "      <th>2</th>\n",
       "      <td>3</td>\n",
       "      <td>0.182965</td>\n",
       "      <td>1</td>\n",
       "    </tr>\n",
       "    <tr>\n",
       "      <th>3</th>\n",
       "      <td>4</td>\n",
       "      <td>0.231940</td>\n",
       "      <td>1</td>\n",
       "    </tr>\n",
       "    <tr>\n",
       "      <th>4</th>\n",
       "      <td>5</td>\n",
       "      <td>0.298866</td>\n",
       "      <td>1</td>\n",
       "    </tr>\n",
       "    <tr>\n",
       "      <th>...</th>\n",
       "      <td>...</td>\n",
       "      <td>...</td>\n",
       "      <td>...</td>\n",
       "    </tr>\n",
       "    <tr>\n",
       "      <th>70</th>\n",
       "      <td>11</td>\n",
       "      <td>0.486819</td>\n",
       "      <td>1</td>\n",
       "    </tr>\n",
       "    <tr>\n",
       "      <th>71</th>\n",
       "      <td>12</td>\n",
       "      <td>0.461589</td>\n",
       "      <td>1</td>\n",
       "    </tr>\n",
       "    <tr>\n",
       "      <th>72</th>\n",
       "      <td>13</td>\n",
       "      <td>0.433054</td>\n",
       "      <td>1</td>\n",
       "    </tr>\n",
       "    <tr>\n",
       "      <th>73</th>\n",
       "      <td>14</td>\n",
       "      <td>0.398501</td>\n",
       "      <td>1</td>\n",
       "    </tr>\n",
       "    <tr>\n",
       "      <th>74</th>\n",
       "      <td>15</td>\n",
       "      <td>0.402307</td>\n",
       "      <td>1</td>\n",
       "    </tr>\n",
       "  </tbody>\n",
       "</table>\n",
       "<p>75 rows × 3 columns</p>\n",
       "</div>"
      ],
      "text/plain": [
       "    Latent size  Estimate  True MI\n",
       "0             1  0.037676        1\n",
       "1             2  0.033627        1\n",
       "2             3  0.182965        1\n",
       "3             4  0.231940        1\n",
       "4             5  0.298866        1\n",
       "..          ...       ...      ...\n",
       "70           11  0.486819        1\n",
       "71           12  0.461589        1\n",
       "72           13  0.433054        1\n",
       "73           14  0.398501        1\n",
       "74           15  0.402307        1\n",
       "\n",
       "[75 rows x 3 columns]"
      ]
     },
     "execution_count": 4,
     "metadata": {},
     "output_type": "execute_result"
    }
   ],
   "source": [
    "df = pd.DataFrame(d)\n",
    "df"
   ]
  },
  {
   "cell_type": "code",
   "execution_count": 9,
   "id": "e5db5862-59e4-4360-82a0-b09397023537",
   "metadata": {},
   "outputs": [
    {
     "data": {
      "text/plain": [
       "<Axes: xlabel='Latent size', ylabel='Estimate'>"
      ]
     },
     "execution_count": 9,
     "metadata": {},
     "output_type": "execute_result"
    },
    {
     "data": {
      "image/png": "[encoded data removed]",
      "text/plain": [
       "<Figure size 450x300 with 1 Axes>"
      ]
     },
     "metadata": {},
     "output_type": "display_data"
    }
   ],
   "source": [
    "sns.set_style('whitegrid')\n",
    "rcParams['figure.dpi'] = 150\n",
    "rcParams['figure.figsize'] = (3, 2)\n",
    "rcParams['grid.linewidth'] = 0.5\n",
    "rcParams['grid.linestyle'] = 'dashed'\n",
    "rcParams['legend.fancybox'] = False\n",
    "rcParams['mathtext.fontset'] = 'stix'\n",
    "\n",
    "sns.lineplot(df, x='Latent size', y='Estimate')"
   ]
  },
  {
   "cell_type": "code",
   "execution_count": 6,
   "id": "8d243d31-08a6-40ce-9a26-2417cf6f535c",
   "metadata": {},
   "outputs": [],
   "source": [
    "pxf = pd.read_csv('../data/ProtT5_embeddings/OP_kinases.csv', index_col=0)\n",
    "kinases = [x for x in pxf.keys() if x[:7] == 'Kinase_']\n",
    "targets = [x for x in pxf.keys() if x[:7] == 'Target_']\n",
    "\n",
    "Xs, Ys = pxf[kinases], pxf[targets]"
   ]
  },
  {
   "cell_type": "code",
   "execution_count": 7,
   "id": "29a2b168-9756-4c66-9db0-53c9db0f26de",
   "metadata": {},
   "outputs": [
    {
     "data": {
      "application/vnd.jupyter.widget-view+json": {
       "model_id": "12d3970093d04e618a4a3673d94e8ac9",
       "version_major": 2,
       "version_minor": 0
      },
      "text/plain": [
       "  0%|          | 0/15 [00:00<?, ?it/s]"
      ]
     },
     "metadata": {},
     "output_type": "display_data"
    },
    {
     "data": {
      "application/vnd.jupyter.widget-view+json": {
       "model_id": "6add28421ba84b01bb744871f4630145",
       "version_major": 2,
       "version_minor": 0
      },
      "text/plain": [
       "  0%|          | 0/15 [00:00<?, ?it/s]"
      ]
     },
     "metadata": {},
     "output_type": "display_data"
    },
    {
     "data": {
      "application/vnd.jupyter.widget-view+json": {
       "model_id": "9a0dfd842f404c0bb040e7a5bda74771",
       "version_major": 2,
       "version_minor": 0
      },
      "text/plain": [
       "  0%|          | 0/15 [00:00<?, ?it/s]"
      ]
     },
     "metadata": {},
     "output_type": "display_data"
    },
    {
     "data": {
      "application/vnd.jupyter.widget-view+json": {
       "model_id": "f947ab888138415194c4935fa9315695",
       "version_major": 2,
       "version_minor": 0
      },
      "text/plain": [
       "  0%|          | 0/15 [00:00<?, ?it/s]"
      ]
     },
     "metadata": {},
     "output_type": "display_data"
    },
    {
     "data": {
      "application/vnd.jupyter.widget-view+json": {
       "model_id": "1ce5c809af824716b3b38c2fd5b85d9a",
       "version_major": 2,
       "version_minor": 0
      },
      "text/plain": [
       "  0%|          | 0/15 [00:00<?, ?it/s]"
      ]
     },
     "metadata": {},
     "output_type": "display_data"
    }
   ],
   "source": [
    "d = {\n",
    "    \"Latent size\" : [],\n",
    "    \"Estimate\" : [],\n",
    "    \"True MI\" : []\n",
    "}\n",
    "\n",
    "for trials in range(5):\n",
    "    \n",
    "    for N_dims in tqdm(range(1, 16)):\n",
    "    \n",
    "        d['Latent size'].append(N_dims)\n",
    "        d['Estimate'].append(np.nanmean(lmi.lmi(Xs, Ys, N_dims=N_dims)[0]))\n",
    "        d['True MI'].append(1)"
   ]
  },
  {
   "cell_type": "code",
   "execution_count": 8,
   "id": "8344e7c1-cc84-45de-bd9f-dc5a53029b2f",
   "metadata": {},
   "outputs": [
    {
     "data": {
      "text/plain": [
       "<Axes: xlabel='Latent size', ylabel='Estimate'>"
      ]
     },
     "execution_count": 8,
     "metadata": {},
     "output_type": "execute_result"
    },
    {
     "data": {
      "image/png": "[encoded data removed]",
      "text/plain": [
       "<Figure size 450x300 with 1 Axes>"
      ]
     },
     "metadata": {},
     "output_type": "display_data"
    }
   ],
   "source": [
    "sns.set_style('whitegrid')\n",
    "rcParams['figure.dpi'] = 150\n",
    "rcParams['figure.figsize'] = (3, 2)\n",
    "rcParams['grid.linewidth'] = 0.5\n",
    "rcParams['grid.linestyle'] = 'dashed'\n",
    "rcParams['legend.fancybox'] = False\n",
    "rcParams['mathtext.fontset'] = 'stix'\n",
    "\n",
    "df2 = pd.DataFrame(d)\n",
    "sns.lineplot(df2, x='Latent size', y='Estimate')"
   ]
  },
  {
   "cell_type": "code",
   "execution_count": null,
   "id": "854046bb-d8a4-4e5d-8e3a-c54ad629b489",
   "metadata": {},
   "outputs": [],
   "source": []
  }
 ],
 "metadata": {
  "kernelspec": {
   "display_name": "Python 3 (ipykernel)",
   "language": "python",
   "name": "python3"
  },
  "language_info": {
   "codemirror_mode": {
    "name": "ipython",
    "version": 3
   },
   "file_extension": ".py",
   "mimetype": "text/x-python",
   "name": "python",
   "nbconvert_exporter": "python",
   "pygments_lexer": "ipython3",
   "version": "3.10.12"
  }
 },
 "nbformat": 4,
 "nbformat_minor": 5
}
