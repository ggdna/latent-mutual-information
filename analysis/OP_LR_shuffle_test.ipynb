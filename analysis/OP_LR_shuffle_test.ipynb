{
 "cells": [
  {
   "cell_type": "code",
   "execution_count": 1,
   "id": "4722bf03",
   "metadata": {},
   "outputs": [],
   "source": [
    "%%capture\n",
    "\n",
    "from lmi import lmi\n",
    "import pandas as pd\n",
    "import numpy as np\n",
    "import torch\n",
    "from tqdm.notebook import tqdm\n",
    "\n",
    "import seaborn as sns\n",
    "import matplotlib.pyplot as plt\n",
    "from matplotlib import rcParams\n",
    "\n",
    "import time\n",
    "import os\n",
    "\n",
    "os.environ[\"XLA_PYTHON_CLIENT_MEM_FRACTION\"]=\".10\"\n",
    "os.environ[\"XLA_PYTHON_CLIENT_PREALLOCATE\"]=\"false\"\n",
    "os.environ[\"XLA_PYTHON_CLIENT_ALLOCATOR\"]=\"platform\"\n",
    "from bmi.estimators import MINEEstimator as MINE\n",
    "from bmi.estimators import InfoNCEEstimator as InfoNCE\n",
    "\n",
    "torch.manual_seed(2121)\n",
    "np.random.seed(2121)"
   ]
  },
  {
   "cell_type": "code",
   "execution_count": 2,
   "id": "2e54465c",
   "metadata": {},
   "outputs": [],
   "source": [
    "pxf = pd.read_csv('../data/ProtT5_embeddings/OP_LR.csv', index_col=0)\n",
    "ligands = [x for x in pxf.keys() if x[:2] == 'L_']\n",
    "receptors = [x for x in pxf.keys() if x[:2] == 'R_']"
   ]
  },
  {
   "cell_type": "code",
   "execution_count": 3,
   "id": "529df635",
   "metadata": {},
   "outputs": [],
   "source": [
    "def batch_ksg(X, Y, batch_size=10**3):\n",
    "    \"\"\"\n",
    "    since this dataset is so big, here we implement a batched KSG.\n",
    "    we make batches of 5000 points, estimate MI on each, then take the average pSIMI.\n",
    "    approach used in https://doi.org/10.1103/PhysRevE.100.022404\n",
    "    \"\"\"\n",
    "    psimis = []\n",
    "    inds = np.arange(len(X))\n",
    "    np.random.shuffle(inds)\n",
    "    Xs = X.iloc[inds]\n",
    "    Ys = Y.iloc[inds]\n",
    "    for i in tqdm(range(len(Xs)//batch_size)):\n",
    "        b_psimis = lmi.ksg.mi(Xs[batch_size*i:batch_size*(i+1)],\n",
    "                              Ys[batch_size*i:batch_size*(i+1)])\n",
    "        psimis += list(b_psimis)\n",
    "    return np.mean(psimis)"
   ]
  },
  {
   "cell_type": "code",
   "execution_count": 4,
   "id": "c04146df",
   "metadata": {},
   "outputs": [
    {
     "data": {
      "application/vnd.jupyter.widget-view+json": {
       "model_id": "675913e3ae0a40c7b95dd785d52fcbb0",
       "version_major": 2,
       "version_minor": 0
      },
      "text/plain": [
       "  0%|          | 0/10 [00:00<?, ?it/s]"
      ]
     },
     "metadata": {},
     "output_type": "display_data"
    },
    {
     "data": {
      "application/vnd.jupyter.widget-view+json": {
       "model_id": "0e6fa5d62f1e4eeca02588e152d4f44b",
       "version_major": 2,
       "version_minor": 0
      },
      "text/plain": [
       "  0%|          | 0/4 [00:00<?, ?it/s]"
      ]
     },
     "metadata": {},
     "output_type": "display_data"
    },
    {
     "data": {
      "application/vnd.jupyter.widget-view+json": {
       "model_id": "4173971027f54f568abb7a6754d914c9",
       "version_major": 2,
       "version_minor": 0
      },
      "text/plain": [
       "  0%|          | 0/4 [00:00<?, ?it/s]"
      ]
     },
     "metadata": {},
     "output_type": "display_data"
    },
    {
     "data": {
      "application/vnd.jupyter.widget-view+json": {
       "model_id": "7f1e9c8745854fa3b75a6e68fd7be2b0",
       "version_major": 2,
       "version_minor": 0
      },
      "text/plain": [
       "  0%|          | 0/4 [00:00<?, ?it/s]"
      ]
     },
     "metadata": {},
     "output_type": "display_data"
    },
    {
     "data": {
      "application/vnd.jupyter.widget-view+json": {
       "model_id": "f4c65754e41f4ed680f7476161e4eebe",
       "version_major": 2,
       "version_minor": 0
      },
      "text/plain": [
       "  0%|          | 0/4 [00:00<?, ?it/s]"
      ]
     },
     "metadata": {},
     "output_type": "display_data"
    },
    {
     "data": {
      "application/vnd.jupyter.widget-view+json": {
       "model_id": "c826f92956484114b490afe8d58af495",
       "version_major": 2,
       "version_minor": 0
      },
      "text/plain": [
       "  0%|          | 0/4 [00:00<?, ?it/s]"
      ]
     },
     "metadata": {},
     "output_type": "display_data"
    },
    {
     "data": {
      "application/vnd.jupyter.widget-view+json": {
       "model_id": "d100a09bd1284eb99beec845b643c34d",
       "version_major": 2,
       "version_minor": 0
      },
      "text/plain": [
       "  0%|          | 0/4 [00:00<?, ?it/s]"
      ]
     },
     "metadata": {},
     "output_type": "display_data"
    },
    {
     "data": {
      "application/vnd.jupyter.widget-view+json": {
       "model_id": "8f98412b45454d59bd0560002b68bc22",
       "version_major": 2,
       "version_minor": 0
      },
      "text/plain": [
       "  0%|          | 0/4 [00:00<?, ?it/s]"
      ]
     },
     "metadata": {},
     "output_type": "display_data"
    },
    {
     "data": {
      "application/vnd.jupyter.widget-view+json": {
       "model_id": "982416f8f3b54ef9a3dd6a1fc5cace98",
       "version_major": 2,
       "version_minor": 0
      },
      "text/plain": [
       "  0%|          | 0/4 [00:00<?, ?it/s]"
      ]
     },
     "metadata": {},
     "output_type": "display_data"
    },
    {
     "data": {
      "application/vnd.jupyter.widget-view+json": {
       "model_id": "95e8f98a5e1f4391a5494096b3c188fd",
       "version_major": 2,
       "version_minor": 0
      },
      "text/plain": [
       "  0%|          | 0/4 [00:00<?, ?it/s]"
      ]
     },
     "metadata": {},
     "output_type": "display_data"
    },
    {
     "data": {
      "application/vnd.jupyter.widget-view+json": {
       "model_id": "9f7404eb1ae74894acb1e642701f8a39",
       "version_major": 2,
       "version_minor": 0
      },
      "text/plain": [
       "  0%|          | 0/4 [00:00<?, ?it/s]"
      ]
     },
     "metadata": {},
     "output_type": "display_data"
    }
   ],
   "source": [
    "d = {\n",
    "    \"Estimator\" : [],\n",
    "    \"Shuffled\" : [],\n",
    "    \"Estimate\" : []\n",
    "}\n",
    "\n",
    "N_shuffles = 10\n",
    "\n",
    "for _ in tqdm(range(N_shuffles)):\n",
    "    \n",
    "    Xs, Ys = pxf[ligands].sample(frac=1), pxf[receptors]\n",
    "    \n",
    "    infonce = InfoNCE(verbose=False)\n",
    "    infonce_mi = infonce.estimate(Xs, Ys)\n",
    "    \n",
    "    mine = MINE(verbose=False)\n",
    "    mine_mi = mine.estimate(Xs, Ys)\n",
    "    \n",
    "    psimis, emb, model = lmi.lmi(Xs, Ys)\n",
    "    \n",
    "    d['Estimator'].append('InfoNCE')\n",
    "    d['Shuffled'].append(True)\n",
    "    d['Estimate'].append(infonce_mi)\n",
    "    \n",
    "    d['Estimator'].append('MINE')\n",
    "    d['Shuffled'].append(True)\n",
    "    d['Estimate'].append(mine_mi)\n",
    "    \n",
    "    d['Estimator'].append('LMI')\n",
    "    d['Shuffled'].append(True)\n",
    "    d['Estimate'].append(np.nanmean(psimis))\n",
    "    \n",
    "    d['Estimator'].append('KSG')\n",
    "    d['Shuffled'].append(True)\n",
    "    d['Estimate'].append(batch_ksg(Xs, Ys))"
   ]
  },
  {
   "cell_type": "code",
   "execution_count": 5,
   "id": "ae49947a",
   "metadata": {},
   "outputs": [
    {
     "name": "stdout",
     "output_type": "stream",
     "text": [
      "0.8393044471740723\n"
     ]
    },
    {
     "data": {
      "application/vnd.jupyter.widget-view+json": {
       "model_id": "004084b39ef848849fba3b42553c5a7d",
       "version_major": 2,
       "version_minor": 0
      },
      "text/plain": [
       "  0%|          | 0/300 [00:00<?, ?Epoch/s]"
      ]
     },
     "metadata": {},
     "output_type": "display_data"
    },
    {
     "name": "stdout",
     "output_type": "stream",
     "text": [
      "2.8262951472016136\n"
     ]
    },
    {
     "data": {
      "application/vnd.jupyter.widget-view+json": {
       "model_id": "e7acb691879d4fea9ec55672e239697a",
       "version_major": 2,
       "version_minor": 0
      },
      "text/plain": [
       "  0%|          | 0/4 [00:00<?, ?it/s]"
      ]
     },
     "metadata": {},
     "output_type": "display_data"
    },
    {
     "data": {
      "text/html": [
       "<div>\n",
       "<style scoped>\n",
       "    .dataframe tbody tr th:only-of-type {\n",
       "        vertical-align: middle;\n",
       "    }\n",
       "\n",
       "    .dataframe tbody tr th {\n",
       "        vertical-align: top;\n",
       "    }\n",
       "\n",
       "    .dataframe thead th {\n",
       "        text-align: right;\n",
       "    }\n",
       "</style>\n",
       "<table border=\"1\" class=\"dataframe\">\n",
       "  <thead>\n",
       "    <tr style=\"text-align: right;\">\n",
       "      <th></th>\n",
       "      <th>Estimator</th>\n",
       "      <th>Shuffled</th>\n",
       "      <th>Estimate</th>\n",
       "    </tr>\n",
       "  </thead>\n",
       "  <tbody>\n",
       "    <tr>\n",
       "      <th>0</th>\n",
       "      <td>InfoNCE</td>\n",
       "      <td>True</td>\n",
       "      <td>1.287460e-05</td>\n",
       "    </tr>\n",
       "    <tr>\n",
       "      <th>1</th>\n",
       "      <td>MINE</td>\n",
       "      <td>True</td>\n",
       "      <td>-1.346260e-03</td>\n",
       "    </tr>\n",
       "    <tr>\n",
       "      <th>2</th>\n",
       "      <td>LMI</td>\n",
       "      <td>True</td>\n",
       "      <td>-1.111531e-02</td>\n",
       "    </tr>\n",
       "    <tr>\n",
       "      <th>3</th>\n",
       "      <td>KSG</td>\n",
       "      <td>True</td>\n",
       "      <td>7.704774e-03</td>\n",
       "    </tr>\n",
       "    <tr>\n",
       "      <th>4</th>\n",
       "      <td>InfoNCE</td>\n",
       "      <td>True</td>\n",
       "      <td>-5.936623e-03</td>\n",
       "    </tr>\n",
       "    <tr>\n",
       "      <th>5</th>\n",
       "      <td>MINE</td>\n",
       "      <td>True</td>\n",
       "      <td>-9.536743e-07</td>\n",
       "    </tr>\n",
       "    <tr>\n",
       "      <th>6</th>\n",
       "      <td>LMI</td>\n",
       "      <td>True</td>\n",
       "      <td>-2.082772e-02</td>\n",
       "    </tr>\n",
       "    <tr>\n",
       "      <th>7</th>\n",
       "      <td>KSG</td>\n",
       "      <td>True</td>\n",
       "      <td>1.841126e-02</td>\n",
       "    </tr>\n",
       "    <tr>\n",
       "      <th>8</th>\n",
       "      <td>InfoNCE</td>\n",
       "      <td>True</td>\n",
       "      <td>3.814697e-06</td>\n",
       "    </tr>\n",
       "    <tr>\n",
       "      <th>9</th>\n",
       "      <td>MINE</td>\n",
       "      <td>True</td>\n",
       "      <td>2.574921e-05</td>\n",
       "    </tr>\n",
       "    <tr>\n",
       "      <th>10</th>\n",
       "      <td>LMI</td>\n",
       "      <td>True</td>\n",
       "      <td>-4.768664e-02</td>\n",
       "    </tr>\n",
       "    <tr>\n",
       "      <th>11</th>\n",
       "      <td>KSG</td>\n",
       "      <td>True</td>\n",
       "      <td>-7.102865e-03</td>\n",
       "    </tr>\n",
       "    <tr>\n",
       "      <th>12</th>\n",
       "      <td>InfoNCE</td>\n",
       "      <td>True</td>\n",
       "      <td>-7.629395e-05</td>\n",
       "    </tr>\n",
       "    <tr>\n",
       "      <th>13</th>\n",
       "      <td>MINE</td>\n",
       "      <td>True</td>\n",
       "      <td>-1.621246e-05</td>\n",
       "    </tr>\n",
       "    <tr>\n",
       "      <th>14</th>\n",
       "      <td>LMI</td>\n",
       "      <td>True</td>\n",
       "      <td>4.211429e-02</td>\n",
       "    </tr>\n",
       "    <tr>\n",
       "      <th>15</th>\n",
       "      <td>KSG</td>\n",
       "      <td>True</td>\n",
       "      <td>-2.710358e-03</td>\n",
       "    </tr>\n",
       "    <tr>\n",
       "      <th>16</th>\n",
       "      <td>InfoNCE</td>\n",
       "      <td>True</td>\n",
       "      <td>9.822845e-04</td>\n",
       "    </tr>\n",
       "    <tr>\n",
       "      <th>17</th>\n",
       "      <td>MINE</td>\n",
       "      <td>True</td>\n",
       "      <td>8.820891e-04</td>\n",
       "    </tr>\n",
       "    <tr>\n",
       "      <th>18</th>\n",
       "      <td>LMI</td>\n",
       "      <td>True</td>\n",
       "      <td>-2.225104e-04</td>\n",
       "    </tr>\n",
       "    <tr>\n",
       "      <th>19</th>\n",
       "      <td>KSG</td>\n",
       "      <td>True</td>\n",
       "      <td>4.287545e-03</td>\n",
       "    </tr>\n",
       "    <tr>\n",
       "      <th>20</th>\n",
       "      <td>InfoNCE</td>\n",
       "      <td>True</td>\n",
       "      <td>2.412796e-04</td>\n",
       "    </tr>\n",
       "    <tr>\n",
       "      <th>21</th>\n",
       "      <td>MINE</td>\n",
       "      <td>True</td>\n",
       "      <td>1.642704e-03</td>\n",
       "    </tr>\n",
       "    <tr>\n",
       "      <th>22</th>\n",
       "      <td>LMI</td>\n",
       "      <td>True</td>\n",
       "      <td>-1.274265e-02</td>\n",
       "    </tr>\n",
       "    <tr>\n",
       "      <th>23</th>\n",
       "      <td>KSG</td>\n",
       "      <td>True</td>\n",
       "      <td>-1.323892e-02</td>\n",
       "    </tr>\n",
       "    <tr>\n",
       "      <th>24</th>\n",
       "      <td>InfoNCE</td>\n",
       "      <td>True</td>\n",
       "      <td>-4.356861e-03</td>\n",
       "    </tr>\n",
       "    <tr>\n",
       "      <th>25</th>\n",
       "      <td>MINE</td>\n",
       "      <td>True</td>\n",
       "      <td>9.536743e-07</td>\n",
       "    </tr>\n",
       "    <tr>\n",
       "      <th>26</th>\n",
       "      <td>LMI</td>\n",
       "      <td>True</td>\n",
       "      <td>2.183842e-02</td>\n",
       "    </tr>\n",
       "    <tr>\n",
       "      <th>27</th>\n",
       "      <td>KSG</td>\n",
       "      <td>True</td>\n",
       "      <td>-1.037325e-02</td>\n",
       "    </tr>\n",
       "    <tr>\n",
       "      <th>28</th>\n",
       "      <td>InfoNCE</td>\n",
       "      <td>True</td>\n",
       "      <td>0.000000e+00</td>\n",
       "    </tr>\n",
       "    <tr>\n",
       "      <th>29</th>\n",
       "      <td>MINE</td>\n",
       "      <td>True</td>\n",
       "      <td>8.659959e-04</td>\n",
       "    </tr>\n",
       "    <tr>\n",
       "      <th>30</th>\n",
       "      <td>LMI</td>\n",
       "      <td>True</td>\n",
       "      <td>-5.588698e-02</td>\n",
       "    </tr>\n",
       "    <tr>\n",
       "      <th>31</th>\n",
       "      <td>KSG</td>\n",
       "      <td>True</td>\n",
       "      <td>1.001871e-03</td>\n",
       "    </tr>\n",
       "    <tr>\n",
       "      <th>32</th>\n",
       "      <td>InfoNCE</td>\n",
       "      <td>True</td>\n",
       "      <td>-2.106667e-03</td>\n",
       "    </tr>\n",
       "    <tr>\n",
       "      <th>33</th>\n",
       "      <td>MINE</td>\n",
       "      <td>True</td>\n",
       "      <td>0.000000e+00</td>\n",
       "    </tr>\n",
       "    <tr>\n",
       "      <th>34</th>\n",
       "      <td>LMI</td>\n",
       "      <td>True</td>\n",
       "      <td>-4.799484e-03</td>\n",
       "    </tr>\n",
       "    <tr>\n",
       "      <th>35</th>\n",
       "      <td>KSG</td>\n",
       "      <td>True</td>\n",
       "      <td>-8.666226e-03</td>\n",
       "    </tr>\n",
       "    <tr>\n",
       "      <th>36</th>\n",
       "      <td>InfoNCE</td>\n",
       "      <td>True</td>\n",
       "      <td>3.623962e-05</td>\n",
       "    </tr>\n",
       "    <tr>\n",
       "      <th>37</th>\n",
       "      <td>MINE</td>\n",
       "      <td>True</td>\n",
       "      <td>9.536743e-07</td>\n",
       "    </tr>\n",
       "    <tr>\n",
       "      <th>38</th>\n",
       "      <td>LMI</td>\n",
       "      <td>True</td>\n",
       "      <td>2.215259e-02</td>\n",
       "    </tr>\n",
       "    <tr>\n",
       "      <th>39</th>\n",
       "      <td>KSG</td>\n",
       "      <td>True</td>\n",
       "      <td>1.287933e-02</td>\n",
       "    </tr>\n",
       "    <tr>\n",
       "      <th>40</th>\n",
       "      <td>InfoNCE</td>\n",
       "      <td>False</td>\n",
       "      <td>8.393044e-01</td>\n",
       "    </tr>\n",
       "    <tr>\n",
       "      <th>41</th>\n",
       "      <td>MINE</td>\n",
       "      <td>False</td>\n",
       "      <td>3.936768e-03</td>\n",
       "    </tr>\n",
       "    <tr>\n",
       "      <th>42</th>\n",
       "      <td>LMI</td>\n",
       "      <td>False</td>\n",
       "      <td>2.826295e+00</td>\n",
       "    </tr>\n",
       "    <tr>\n",
       "      <th>43</th>\n",
       "      <td>KSG</td>\n",
       "      <td>False</td>\n",
       "      <td>1.886564e+00</td>\n",
       "    </tr>\n",
       "  </tbody>\n",
       "</table>\n",
       "</div>"
      ],
      "text/plain": [
       "   Estimator  Shuffled      Estimate\n",
       "0    InfoNCE      True  1.287460e-05\n",
       "1       MINE      True -1.346260e-03\n",
       "2        LMI      True -1.111531e-02\n",
       "3        KSG      True  7.704774e-03\n",
       "4    InfoNCE      True -5.936623e-03\n",
       "5       MINE      True -9.536743e-07\n",
       "6        LMI      True -2.082772e-02\n",
       "7        KSG      True  1.841126e-02\n",
       "8    InfoNCE      True  3.814697e-06\n",
       "9       MINE      True  2.574921e-05\n",
       "10       LMI      True -4.768664e-02\n",
       "11       KSG      True -7.102865e-03\n",
       "12   InfoNCE      True -7.629395e-05\n",
       "13      MINE      True -1.621246e-05\n",
       "14       LMI      True  4.211429e-02\n",
       "15       KSG      True -2.710358e-03\n",
       "16   InfoNCE      True  9.822845e-04\n",
       "17      MINE      True  8.820891e-04\n",
       "18       LMI      True -2.225104e-04\n",
       "19       KSG      True  4.287545e-03\n",
       "20   InfoNCE      True  2.412796e-04\n",
       "21      MINE      True  1.642704e-03\n",
       "22       LMI      True -1.274265e-02\n",
       "23       KSG      True -1.323892e-02\n",
       "24   InfoNCE      True -4.356861e-03\n",
       "25      MINE      True  9.536743e-07\n",
       "26       LMI      True  2.183842e-02\n",
       "27       KSG      True -1.037325e-02\n",
       "28   InfoNCE      True  0.000000e+00\n",
       "29      MINE      True  8.659959e-04\n",
       "30       LMI      True -5.588698e-02\n",
       "31       KSG      True  1.001871e-03\n",
       "32   InfoNCE      True -2.106667e-03\n",
       "33      MINE      True  0.000000e+00\n",
       "34       LMI      True -4.799484e-03\n",
       "35       KSG      True -8.666226e-03\n",
       "36   InfoNCE      True  3.623962e-05\n",
       "37      MINE      True  9.536743e-07\n",
       "38       LMI      True  2.215259e-02\n",
       "39       KSG      True  1.287933e-02\n",
       "40   InfoNCE     False  8.393044e-01\n",
       "41      MINE     False  3.936768e-03\n",
       "42       LMI     False  2.826295e+00\n",
       "43       KSG     False  1.886564e+00"
      ]
     },
     "execution_count": 5,
     "metadata": {},
     "output_type": "execute_result"
    }
   ],
   "source": [
    "Xs, Ys = pxf[ligands], pxf[receptors]\n",
    "\n",
    "infonce = InfoNCE(verbose=False)\n",
    "infonce_mi = infonce.estimate(Xs, Ys)\n",
    "print(infonce_mi)\n",
    "mine = MINE(verbose=False)\n",
    "mine_mi = mine.estimate(Xs, Ys)\n",
    "\n",
    "psimis, emb, model = lmi.lmi(Xs, Ys, N_dims=8, quiet=False)\n",
    "print(np.nanmean(psimis))\n",
    "\n",
    "d['Estimator'].append('InfoNCE')\n",
    "d['Shuffled'].append(False)\n",
    "d['Estimate'].append(infonce_mi)\n",
    "\n",
    "d['Estimator'].append('MINE')\n",
    "d['Shuffled'].append(False)\n",
    "d['Estimate'].append(mine_mi)\n",
    "\n",
    "d['Estimator'].append('LMI')\n",
    "d['Shuffled'].append(False)\n",
    "d['Estimate'].append(np.nanmean(psimis))\n",
    "\n",
    "d['Estimator'].append('KSG')\n",
    "d['Shuffled'].append(False)\n",
    "d['Estimate'].append(batch_ksg(Xs, Ys))\n",
    "\n",
    "df = pd.DataFrame(d)\n",
    "df"
   ]
  },
  {
   "cell_type": "code",
   "execution_count": 6,
   "id": "bbe5f54f",
   "metadata": {},
   "outputs": [
    {
     "data": {
      "image/png": "[encoded data removed]",
      "text/plain": [
       "<Figure size 432x288 with 1 Axes>"
      ]
     },
     "metadata": {
      "needs_background": "light"
     },
     "output_type": "display_data"
    }
   ],
   "source": [
    "ax = sns.stripplot(df[df['Shuffled']], x='Estimate', y='Estimator',\n",
    "             alpha=0.8, color='grey', label='Shuffled')\n",
    "\n",
    "ax.scatter(df['Estimate'].iloc[-4], 0, s=200, marker='*', color='slateblue', label='Unshuffled')\n",
    "ax.scatter(df['Estimate'].iloc[-3], 1, s=200, marker='*', color='slateblue')\n",
    "ax.scatter(df['Estimate'].iloc[-2], 2, s=200, marker='*', color='slateblue')\n",
    "ax.scatter(df['Estimate'].iloc[-1], 3, s=200, marker='*', color='slateblue')\n",
    "ax.legend()\n",
    "\n",
    "handles, labels = ax.get_legend_handles_labels()  \n",
    "lgd = dict(zip(labels, handles))\n",
    "ax.legend(lgd.values(), lgd.keys())\n",
    "\n",
    "plt.show()"
   ]
  },
  {
   "cell_type": "code",
   "execution_count": 7,
   "id": "fe559d0d",
   "metadata": {},
   "outputs": [],
   "source": [
    "df.to_csv('../results/OP_LR_shuffle_test.csv')"
   ]
  },
  {
   "cell_type": "code",
   "execution_count": 8,
   "id": "9ba03c79-f3db-4e24-990c-4f139fa508a9",
   "metadata": {},
   "outputs": [
    {
     "data": {
      "text/html": [
       "<div>\n",
       "<style scoped>\n",
       "    .dataframe tbody tr th:only-of-type {\n",
       "        vertical-align: middle;\n",
       "    }\n",
       "\n",
       "    .dataframe tbody tr th {\n",
       "        vertical-align: top;\n",
       "    }\n",
       "\n",
       "    .dataframe thead th {\n",
       "        text-align: right;\n",
       "    }\n",
       "</style>\n",
       "<table border=\"1\" class=\"dataframe\">\n",
       "  <thead>\n",
       "    <tr style=\"text-align: right;\">\n",
       "      <th></th>\n",
       "      <th>Shuffled</th>\n",
       "      <th>Estimate</th>\n",
       "    </tr>\n",
       "    <tr>\n",
       "      <th>Estimator</th>\n",
       "      <th></th>\n",
       "      <th></th>\n",
       "    </tr>\n",
       "  </thead>\n",
       "  <tbody>\n",
       "    <tr>\n",
       "      <th>InfoNCE</th>\n",
       "      <td>0.0</td>\n",
       "      <td>0.002289</td>\n",
       "    </tr>\n",
       "    <tr>\n",
       "      <th>KSG</th>\n",
       "      <td>0.0</td>\n",
       "      <td>0.010535</td>\n",
       "    </tr>\n",
       "    <tr>\n",
       "      <th>LMI</th>\n",
       "      <td>0.0</td>\n",
       "      <td>0.030605</td>\n",
       "    </tr>\n",
       "    <tr>\n",
       "      <th>MINE</th>\n",
       "      <td>0.0</td>\n",
       "      <td>0.000790</td>\n",
       "    </tr>\n",
       "  </tbody>\n",
       "</table>\n",
       "</div>"
      ],
      "text/plain": [
       "           Shuffled  Estimate\n",
       "Estimator                    \n",
       "InfoNCE         0.0  0.002289\n",
       "KSG             0.0  0.010535\n",
       "LMI             0.0  0.030605\n",
       "MINE            0.0  0.000790"
      ]
     },
     "execution_count": 8,
     "metadata": {},
     "output_type": "execute_result"
    }
   ],
   "source": [
    "df[df['Shuffled']==True].groupby('Estimator').std()"
   ]
  },
  {
   "cell_type": "code",
   "execution_count": 9,
   "id": "fa521f6f-3150-4158-b290-819c69a0f099",
   "metadata": {},
   "outputs": [
    {
     "data": {
      "text/html": [
       "<div>\n",
       "<style scoped>\n",
       "    .dataframe tbody tr th:only-of-type {\n",
       "        vertical-align: middle;\n",
       "    }\n",
       "\n",
       "    .dataframe tbody tr th {\n",
       "        vertical-align: top;\n",
       "    }\n",
       "\n",
       "    .dataframe thead th {\n",
       "        text-align: right;\n",
       "    }\n",
       "</style>\n",
       "<table border=\"1\" class=\"dataframe\">\n",
       "  <thead>\n",
       "    <tr style=\"text-align: right;\">\n",
       "      <th></th>\n",
       "      <th>Shuffled</th>\n",
       "      <th>Estimate</th>\n",
       "    </tr>\n",
       "    <tr>\n",
       "      <th>Estimator</th>\n",
       "      <th></th>\n",
       "      <th></th>\n",
       "    </tr>\n",
       "  </thead>\n",
       "  <tbody>\n",
       "    <tr>\n",
       "      <th>InfoNCE</th>\n",
       "      <td>1.0</td>\n",
       "      <td>-0.001120</td>\n",
       "    </tr>\n",
       "    <tr>\n",
       "      <th>KSG</th>\n",
       "      <td>1.0</td>\n",
       "      <td>0.000219</td>\n",
       "    </tr>\n",
       "    <tr>\n",
       "      <th>LMI</th>\n",
       "      <td>1.0</td>\n",
       "      <td>-0.006718</td>\n",
       "    </tr>\n",
       "    <tr>\n",
       "      <th>MINE</th>\n",
       "      <td>1.0</td>\n",
       "      <td>0.000206</td>\n",
       "    </tr>\n",
       "  </tbody>\n",
       "</table>\n",
       "</div>"
      ],
      "text/plain": [
       "           Shuffled  Estimate\n",
       "Estimator                    \n",
       "InfoNCE         1.0 -0.001120\n",
       "KSG             1.0  0.000219\n",
       "LMI             1.0 -0.006718\n",
       "MINE            1.0  0.000206"
      ]
     },
     "execution_count": 9,
     "metadata": {},
     "output_type": "execute_result"
    }
   ],
   "source": [
    "df[df['Shuffled']==True].groupby('Estimator').mean()"
   ]
  },
  {
   "cell_type": "code",
   "execution_count": null,
   "id": "aed4638c-a7fb-4bb9-b21d-bbadf0bab5b4",
   "metadata": {},
   "outputs": [],
   "source": []
  }
 ],
 "metadata": {
  "kernelspec": {
   "display_name": "Python 3 (ipykernel)",
   "language": "python",
   "name": "python3"
  },
  "language_info": {
   "codemirror_mode": {
    "name": "ipython",
    "version": 3
   },
   "file_extension": ".py",
   "mimetype": "text/x-python",
   "name": "python",
   "nbconvert_exporter": "python",
   "pygments_lexer": "ipython3",
   "version": "3.10.12"
  }
 },
 "nbformat": 4,
 "nbformat_minor": 5
}
