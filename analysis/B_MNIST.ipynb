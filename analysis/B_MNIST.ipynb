{
 "cells": [
  {
   "cell_type": "markdown",
   "id": "b7473901",
   "metadata": {},
   "source": [
    "# Benchmarking MI estimators by resampling MNIST\n",
    "\n",
    "Here, we resample paired images from MNIST to construct \"real\" high dimensional variables with known or well approximated MI.\n",
    "\n",
    "\n"
   ]
  },
  {
   "cell_type": "code",
   "execution_count": 1,
   "id": "b95a6c8f",
   "metadata": {},
   "outputs": [],
   "source": [
    "%%capture\n",
    "\n",
    "import time\n",
    "import os\n",
    "\n",
    "os.environ[\"XLA_PYTHON_CLIENT_MEM_FRACTION\"]=\".10\"\n",
    "os.environ[\"XLA_PYTHON_CLIENT_PREALLOCATE\"]=\"false\"\n",
    "os.environ[\"XLA_PYTHON_CLIENT_ALLOCATOR\"]=\"platform\"\n",
    "\n",
    "from lmi import lmi\n",
    "import pandas as pd\n",
    "import numpy as np\n",
    "import seaborn as sns\n",
    "import matplotlib.pyplot as plt\n",
    "from matplotlib import rcParams\n",
    "import torch\n",
    "from tqdm.notebook import tqdm\n",
    "\n",
    "from scipy.stats import kendalltau\n",
    "\n",
    "from keras.datasets import mnist\n",
    "\n",
    "from bmi.estimators import MINEEstimator as MINE\n",
    "from bmi.estimators import InfoNCEEstimator as InfoNCE\n",
    "\n",
    "torch.manual_seed(2121)\n",
    "np.random.seed(2121)"
   ]
  },
  {
   "cell_type": "code",
   "execution_count": 2,
   "id": "9fe0f575",
   "metadata": {},
   "outputs": [
    {
     "name": "stdout",
     "output_type": "stream",
     "text": [
      "Labels: (0, 0)\n"
     ]
    },
    {
     "data": {
      "image/png": "[encoded data removed]",
      "text/plain": [
       "<Figure size 432x288 with 1 Axes>"
      ]
     },
     "metadata": {
      "needs_background": "light"
     },
     "output_type": "display_data"
    },
    {
     "name": "stdout",
     "output_type": "stream",
     "text": [
      "Labels: (1, 1)\n"
     ]
    },
    {
     "data": {
      "image/png": "[encoded data removed]",
      "text/plain": [
       "<Figure size 432x288 with 1 Axes>"
      ]
     },
     "metadata": {
      "needs_background": "light"
     },
     "output_type": "display_data"
    },
    {
     "name": "stdout",
     "output_type": "stream",
     "text": [
      "Sanity check (percent identical labels, should be ~0.75): 0.752400\n"
     ]
    }
   ],
   "source": [
    "(x_train, y_train), _ = mnist.load_data()\n",
    "\n",
    "X_data, Y_data = [], []\n",
    "labels = []\n",
    "\n",
    "for i in range(2):\n",
    "    imgs = [x[0] for x in x_train[np.argwhere(y_train == i)]]\n",
    "    X_data += imgs[:2500]\n",
    "    Y_data += imgs[2500:5000]\n",
    "    labels += [i]*2500\n",
    "\n",
    "X_data = np.array([x.flatten() for x in X_data])\n",
    "Y_data = np.array([x.flatten() for x in Y_data])\n",
    "labels = np.array(labels)\n",
    "\n",
    "assert len(X_data) == len(Y_data)\n",
    "\n",
    "def generate_dataset(percent_shuffle, N_samples=5*10**3):\n",
    "    \"\"\"\n",
    "    shuffle pairs in a subset of the data\n",
    "    \"\"\"\n",
    "    \n",
    "    inds = np.arange(len(labels))\n",
    "    np.random.shuffle(inds)\n",
    "    \n",
    "    Xs = X_data[inds[:N_samples]].copy()\n",
    "    Ys = Y_data[inds[:N_samples]].copy()\n",
    "    Lx = labels[inds[:N_samples]].copy()\n",
    "    Ly = labels[inds[:N_samples]].copy()\n",
    "    \n",
    "    rows_to_shuffle = int(percent_shuffle*len(Xs))\n",
    "    \n",
    "    # get identical shuffles\n",
    "    # thanks to https://stackoverflow.com/questions/4601373/\n",
    "    # better-way-to-shuffle-two-numpy-arrays-in-unison\n",
    "    rng_state = np.random.get_state()\n",
    "    np.random.shuffle(Xs[:rows_to_shuffle])\n",
    "    np.random.set_state(rng_state)\n",
    "    np.random.shuffle(Lx[:rows_to_shuffle])\n",
    "    \n",
    "    return Xs, Ys, Lx, Ly\n",
    "\n",
    "rcParams[\"figure.figsize\"] = (2,1)\n",
    "\n",
    "Xs, Ys, Lx, Ly = generate_dataset(0.5)\n",
    "for k in np.random.choice(np.arange(len(Xs)), 2):\n",
    "    print(\"Labels: (%d, %d)\"%(Lx[k], Ly[k]))\n",
    "    plt.imshow(np.hstack((Xs[k].reshape(28, 28), Ys[k].reshape(28,28))))\n",
    "    plt.axis('off')\n",
    "    plt.show()\n",
    "    \n",
    "print(\"Sanity check (percent identical labels, should be ~0.75): %f\"\n",
    "      %(sum(Lx == Ly)/len(Lx)))"
   ]
  },
  {
   "cell_type": "code",
   "execution_count": 3,
   "id": "efe4cb60",
   "metadata": {},
   "outputs": [
    {
     "data": {
      "application/vnd.jupyter.widget-view+json": {
       "model_id": "f685dc80ae1f49f7a2442aa3374a6558",
       "version_major": 2,
       "version_minor": 0
      },
      "text/plain": [
       "  0%|          | 0/200 [00:00<?, ?it/s]"
      ]
     },
     "metadata": {},
     "output_type": "display_data"
    }
   ],
   "source": [
    "np.seterr(divide='ignore', invalid='ignore')\n",
    "\n",
    "smi_d = {\n",
    "    \"Estimate\" : [],\n",
    "    \"Label MI\" : [],\n",
    "    \"Dimension\" : [],\n",
    "    \"Measure\" : [],\n",
    "    \"Time\" : [],\n",
    "    }\n",
    "\n",
    "for ps in tqdm(np.linspace(0, 1, 200)):\n",
    "    \n",
    "    N_dims = 784\n",
    "    \n",
    "    Xs, Ys, Lx, Ly = generate_dataset(ps**2)\n",
    "    \n",
    "    Xs = np.nan_to_num((Xs - Xs.mean(axis=0)) / Xs.std(axis=0))\n",
    "    Ys = np.nan_to_num((Ys - Ys.mean(axis=0)) / Ys.std(axis=0))\n",
    "    \n",
    "    DMI = lmi.ksg.midd(Lx, Ly)\n",
    "    t0 = time.time()\n",
    "    mine = MINE(verbose=False)\n",
    "    mine_mi = mine.estimate(Xs, Ys) # in nats\n",
    "    t1 = time.time()\n",
    "    \n",
    "    smi_d[\"Estimate\"].append(mine_mi/np.log(2))\n",
    "    smi_d[\"Label MI\"].append(DMI)\n",
    "    smi_d[\"Dimension\"].append(N_dims)\n",
    "    smi_d[\"Measure\"].append(\"MINE\")\n",
    "    smi_d[\"Time\"].append(t1-t0)\n",
    "\n",
    "    t0 = time.time()\n",
    "    infonce = InfoNCE(verbose=False)\n",
    "    infonce_mi = infonce.estimate(Xs, Ys)\n",
    "    t1 = time.time()\n",
    "    \n",
    "    smi_d[\"Estimate\"].append(infonce_mi/np.log(2))\n",
    "    smi_d[\"Label MI\"].append(DMI)\n",
    "    smi_d[\"Dimension\"].append(N_dims)\n",
    "    smi_d[\"Measure\"].append(\"InfoNCE\")\n",
    "    smi_d[\"Time\"].append(t1-t0)\n",
    "\n",
    "    t0 = time.time()\n",
    "    smi_d[\"Estimate\"].append(np.mean(lmi.ksg.mi(Xs, Ys)))\n",
    "    t1 = time.time()\n",
    "    smi_d[\"Label MI\"].append(DMI)\n",
    "    smi_d[\"Dimension\"].append(N_dims)\n",
    "    smi_d[\"Measure\"].append(\"KSG\")\n",
    "    smi_d[\"Time\"].append(t1-t0)\n",
    "    \n",
    "    t0 = time.time()\n",
    "    smi_d[\"Estimate\"].append(np.nanmean(lmi.lmi(Xs, Ys)[0]))\n",
    "    t1 = time.time()\n",
    "    smi_d[\"Label MI\"].append(DMI)\n",
    "    smi_d[\"Dimension\"].append(N_dims)\n",
    "    smi_d[\"Measure\"].append(\"LMI-Cross\")\n",
    "    smi_d[\"Time\"].append(t1-t0)\n",
    "    \n",
    "    t0 = time.time()\n",
    "    smi_d[\"Estimate\"].append(np.nanmean(lmi.lmi(Xs, Ys,\n",
    "                                              regularizer='models.AEInfoNCE')[0]))\n",
    "    t1 = time.time()\n",
    "    smi_d[\"Label MI\"].append(DMI)\n",
    "    smi_d[\"Dimension\"].append(N_dims)\n",
    "    smi_d[\"Measure\"].append(\"LMI-InfoNCE\")\n",
    "    smi_d[\"Time\"].append(t1-t0)\n",
    "    \n",
    "    t0 = time.time()\n",
    "    smi_d[\"Estimate\"].append(np.nanmean(lmi.lmi(Xs, Ys,\n",
    "                                               regularizer='models.AEMINE')[0]))\n",
    "    t1 = time.time()\n",
    "    smi_d[\"Label MI\"].append(DMI)\n",
    "    smi_d[\"Dimension\"].append(N_dims)\n",
    "    smi_d[\"Measure\"].append(\"LMI-MINE\")\n",
    "    smi_d[\"Time\"].append(t1-t0)\n"
   ]
  },
  {
   "cell_type": "code",
   "execution_count": 4,
   "id": "56483b20",
   "metadata": {},
   "outputs": [],
   "source": [
    "smi_df = pd.DataFrame(smi_d)"
   ]
  },
  {
   "cell_type": "code",
   "execution_count": 5,
   "id": "ada2e716",
   "metadata": {},
   "outputs": [
    {
     "data": {
      "text/plain": [
       "<Axes: xlabel='Label MI', ylabel='Estimate'>"
      ]
     },
     "execution_count": 5,
     "metadata": {},
     "output_type": "execute_result"
    },
    {
     "data": {
      "image/png": "[encoded data removed]",
      "text/plain": [
       "<Figure size 288x288 with 1 Axes>"
      ]
     },
     "metadata": {
      "needs_background": "light"
     },
     "output_type": "display_data"
    }
   ],
   "source": [
    "rcParams['figure.figsize'] = (4,4)\n",
    "sns.scatterplot(smi_df,\n",
    "                y='Estimate',\n",
    "                x='Label MI',\n",
    "                hue='Measure')"
   ]
  },
  {
   "cell_type": "code",
   "execution_count": 6,
   "id": "1eb6cd53",
   "metadata": {},
   "outputs": [],
   "source": [
    "smi_df.to_csv(\"../results/B_MNIST.csv\")"
   ]
  },
  {
   "cell_type": "code",
   "execution_count": null,
   "id": "9018c108",
   "metadata": {},
   "outputs": [],
   "source": []
  }
 ],
 "metadata": {
  "kernelspec": {
   "display_name": "Python 3 (ipykernel)",
   "language": "python",
   "name": "python3"
  },
  "language_info": {
   "codemirror_mode": {
    "name": "ipython",
    "version": 3
   },
   "file_extension": ".py",
   "mimetype": "text/x-python",
   "name": "python",
   "nbconvert_exporter": "python",
   "pygments_lexer": "ipython3",
   "version": "3.10.12"
  }
 },
 "nbformat": 4,
 "nbformat_minor": 5
}
