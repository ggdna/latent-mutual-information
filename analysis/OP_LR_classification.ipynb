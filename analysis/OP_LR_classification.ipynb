{
 "cells": [
  {
   "cell_type": "code",
   "execution_count": 1,
   "id": "43856af1",
   "metadata": {},
   "outputs": [],
   "source": [
    "%%capture\n",
    "from lmi import lmi\n",
    "import pandas as pd\n",
    "import numpy as np\n",
    "import torch\n",
    "from tqdm.notebook import tqdm\n",
    "\n",
    "import seaborn as sns\n",
    "import matplotlib.pyplot as plt\n",
    "from matplotlib import rcParams\n",
    "\n",
    "import time\n",
    "import os\n",
    "\n",
    "from sklearn.metrics import roc_auc_score, roc_curve\n",
    "\n",
    "torch.manual_seed(2121)"
   ]
  },
  {
   "cell_type": "code",
   "execution_count": 2,
   "id": "d64e671b",
   "metadata": {},
   "outputs": [
    {
     "name": "stdout",
     "output_type": "stream",
     "text": [
      "Total proteins: 1702\n"
     ]
    }
   ],
   "source": [
    "pxf = pd.read_csv('../data/ProtT5_embeddings/OP_LR.csv', index_col=0)\n",
    "ligands = [x for x in pxf.keys() if x[:2] == 'L_']\n",
    "receptors = [x for x in pxf.keys() if x[:2] == 'R_']\n",
    "\n",
    "prots = list(set(list(pxf['L UniProt'].values) + list(pxf['R UniProt'].values)))\n",
    "print('Total proteins: %d' %(len(prots)))"
   ]
  },
  {
   "cell_type": "code",
   "execution_count": 3,
   "id": "941d4297",
   "metadata": {},
   "outputs": [
    {
     "data": {
      "application/vnd.jupyter.widget-view+json": {
       "model_id": "5103c663247c428bab2ab19f0175b12a",
       "version_major": 2,
       "version_minor": 0
      },
      "text/plain": [
       "  0%|          | 0/20 [00:00<?, ?it/s]"
      ]
     },
     "metadata": {},
     "output_type": "display_data"
    }
   ],
   "source": [
    "trials = range(20)\n",
    "\n",
    "d = {\n",
    "    'Trial number' : [],\n",
    "    'TPR' : [],\n",
    "    'FPR' : [],\n",
    "    'ROCAUC' : []\n",
    "}\n",
    "\n",
    "for T in tqdm(trials):\n",
    "    \n",
    "    held_out = np.random.choice(prots, 170)\n",
    "\n",
    "    train = pxf[(~pxf['L UniProt'].isin(held_out)) & (~pxf['R UniProt'].isin(held_out))]\n",
    "    val = pxf[(pxf['L UniProt'].isin(held_out)) | (pxf['R UniProt'].isin(held_out))]\n",
    "    assert len(train) + len(val) == len(pxf), \"Something wrong with split\"\n",
    "\n",
    "    # cursed\n",
    "    train_inds = [pxf.index.get_loc(train.iloc[i].name) for i in range(len(train))]\n",
    "    val_inds = [pxf.index.get_loc(val.iloc[i].name) for i in range(len(val))]\n",
    "\n",
    "    held_out_embeddings = {}\n",
    "    for h in held_out:\n",
    "\n",
    "        h_is_ligand = pxf[pxf['L UniProt'] == h]\n",
    "        if len(h_is_ligand) > 0:\n",
    "            held_out_embeddings[h] = h_is_ligand.iloc[0][ligands].values\n",
    "        else:\n",
    "            h_is_r = pxf[pxf['R UniProt'] == h]\n",
    "            held_out_embeddings[h] = h_is_r.iloc[0][receptors].values\n",
    "\n",
    "    pairs = list(zip(np.repeat(held_out, len(held_out), axis=0),\n",
    "                       np.tile(held_out, (len(held_out), 1)).flatten()))\n",
    "\n",
    "    annotations = [p in [tuple(x) for x in pxf[['L UniProt', 'R UniProt']].values] \\\n",
    "                   for p in pairs]\n",
    "\n",
    "    # print(\"Training set size: %d\" %len(train_inds))\n",
    "\n",
    "    Xs = pxf[ligands].to_numpy()\n",
    "    Ys = pxf[receptors].to_numpy()\n",
    "\n",
    "    Xs = np.nan_to_num((Xs - Xs.mean(axis=0)) / Xs.std(axis=0))\n",
    "    Ys = np.nan_to_num((Ys - Ys.mean(axis=0)) / Ys.std(axis=0))\n",
    "\n",
    "    pxf[ligands], pxf[receptors] = Xs, Ys\n",
    "\n",
    "    Xs, Ys = torch.from_numpy(Xs).float().cuda(), torch.from_numpy(Ys).float().cuda()\n",
    "\n",
    "    Xs = torch.clip(Xs, min=-10, max=10)\n",
    "    Ys = torch.clip(Ys, min=-10, max=10)\n",
    "\n",
    "    Zx, Zy, model = lmi.ae(Xs, Ys, train_inds, val_inds, quiet=True)\n",
    "\n",
    "\n",
    "\n",
    "    qXs = [held_out_embeddings[h].astype(float) for h in held_out]\n",
    "    qYs = [held_out_embeddings[h].astype(float) for h in held_out]\n",
    "\n",
    "    qXs = torch.from_numpy(np.repeat(qXs, len(qXs), axis=0))\n",
    "    qYs = torch.from_numpy(np.tile(qYs, (len(qYs), 1)))\n",
    "\n",
    "    qXs = torch.from_numpy(np.nan_to_num((qXs - qXs.mean(axis=0)) \n",
    "                                         / qXs.std(axis=0))).float().cuda()\n",
    "    qYs = torch.from_numpy(np.nan_to_num((qYs - qYs.mean(axis=0)) \n",
    "                                         / qYs.std(axis=0))).float().cuda()\n",
    "\n",
    "    with torch.no_grad():\n",
    "        qZx, qZy = model.encode(qXs, qYs)\n",
    "        qZx, qZy = qZx.cpu(), qZy.cpu()\n",
    "\n",
    "    pred = lmi.ksg.out_of_sample_pmi(Zx, \n",
    "                               Zy, \n",
    "                               qZx, \n",
    "                               qZy)\n",
    "\n",
    "    fpr, tpr, th = roc_curve(annotations, pred)\n",
    "    roc_auc = roc_auc_score(annotations, pred)\n",
    "    \n",
    "    d['Trial number'] += [T]*len(fpr)\n",
    "    d['FPR'] += list(fpr)\n",
    "    d['TPR'] += list(tpr)\n",
    "    d['ROCAUC'] += [roc_auc]*len(fpr)"
   ]
  },
  {
   "cell_type": "code",
   "execution_count": 4,
   "id": "769ac04e",
   "metadata": {},
   "outputs": [],
   "source": [
    "df = pd.DataFrame(d)"
   ]
  },
  {
   "cell_type": "code",
   "execution_count": 5,
   "id": "d7db4eaa",
   "metadata": {},
   "outputs": [
    {
     "data": {
      "text/plain": [
       "(0.0, 1.0)"
      ]
     },
     "execution_count": 5,
     "metadata": {},
     "output_type": "execute_result"
    },
    {
     "data": {
      "image/png": "[encoded data removed]",
      "text/plain": [
       "<Figure size 432x288 with 1 Axes>"
      ]
     },
     "metadata": {
      "needs_background": "light"
     },
     "output_type": "display_data"
    }
   ],
   "source": [
    "for T in trials:\n",
    "    fpr = df[df['Trial number'] == T]['FPR']\n",
    "    tpr = df[df['Trial number'] == T]['TPR']\n",
    "    roc_auc = df[df['Trial number'] == T]['ROCAUC'].iloc[0]\n",
    "    plt.plot(fpr, tpr, 'b', label = 'AUC = %0.2f' % roc_auc, alpha=0.1)\n",
    "\n",
    "plt.legend(loc = 'lower right')\n",
    "plt.plot([0, 1], [0, 1],'r--')\n",
    "plt.xlim([0, 1])\n",
    "plt.ylim([0, 1])"
   ]
  },
  {
   "cell_type": "code",
   "execution_count": 6,
   "id": "7b4b25b2",
   "metadata": {},
   "outputs": [],
   "source": [
    "df.to_csv('../results/OP_LR_roc.csv')"
   ]
  },
  {
   "cell_type": "code",
   "execution_count": null,
   "id": "07c3c8c1",
   "metadata": {},
   "outputs": [],
   "source": []
  }
 ],
 "metadata": {
  "kernelspec": {
   "display_name": "Python 3 (ipykernel)",
   "language": "python",
   "name": "python3"
  },
  "language_info": {
   "codemirror_mode": {
    "name": "ipython",
    "version": 3
   },
   "file_extension": ".py",
   "mimetype": "text/x-python",
   "name": "python",
   "nbconvert_exporter": "python",
   "pygments_lexer": "ipython3",
   "version": "3.10.12"
  }
 },
 "nbformat": 4,
 "nbformat_minor": 5
}
