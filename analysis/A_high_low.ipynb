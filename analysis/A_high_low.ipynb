{
 "cells": [
  {
   "cell_type": "code",
   "execution_count": 1,
   "id": "a644d92f-bd19-4f60-b1ae-cbb0af3be17e",
   "metadata": {},
   "outputs": [],
   "source": [
    "%%capture\n",
    "\n",
    "import time\n",
    "import os\n",
    "\n",
    "os.environ[\"XLA_PYTHON_CLIENT_MEM_FRACTION\"]=\".10\"\n",
    "os.environ[\"XLA_PYTHON_CLIENT_PREALLOCATE\"]=\"false\"\n",
    "os.environ[\"XLA_PYTHON_CLIENT_ALLOCATOR\"]=\"platform\"\n",
    "\n",
    "from lmi import lmi\n",
    "import pandas as pd\n",
    "import numpy as np\n",
    "import seaborn as sns\n",
    "import matplotlib.pyplot as plt\n",
    "from matplotlib import rcParams\n",
    "import torch\n",
    "from tqdm.notebook import tqdm\n",
    "\n",
    "from scipy.stats import kendalltau\n",
    "\n",
    "from keras.datasets import mnist\n",
    "\n",
    "from bmi.estimators import MINEEstimator as MINE\n",
    "from bmi.estimators import InfoNCEEstimator as InfoNCE\n",
    "\n",
    "torch.manual_seed(2121)\n",
    "np.random.seed(2121)"
   ]
  },
  {
   "cell_type": "code",
   "execution_count": 2,
   "id": "40f91485-456b-4c9e-9e32-961501acc892",
   "metadata": {},
   "outputs": [],
   "source": [
    "(x_train, y_train), _ = mnist.load_data()"
   ]
  },
  {
   "cell_type": "code",
   "execution_count": 3,
   "id": "a3b1f6cd-8f07-44d0-abca-f8290d57e255",
   "metadata": {},
   "outputs": [],
   "source": [
    "Xs = np.array([x.flatten() for x in x_train])\n",
    "Ys = y_train.reshape(-1, 1)"
   ]
  },
  {
   "cell_type": "code",
   "execution_count": 4,
   "id": "35759d4f-6a71-4617-850a-2f529dec26e5",
   "metadata": {},
   "outputs": [
    {
     "name": "stderr",
     "output_type": "stream",
     "text": [
      "/home/gokul/latent-mutual-information/analysis/lmi/lmi.py:179: RuntimeWarning: invalid value encountered in divide\n",
      "  Xs = torch.from_numpy(np.nan_to_num((Xs - Xs.mean(axis=0)) / Xs.std(axis=0))).float().cuda()\n"
     ]
    },
    {
     "data": {
      "text/plain": [
       "2.0860428854801856"
      ]
     },
     "execution_count": 4,
     "metadata": {},
     "output_type": "execute_result"
    }
   ],
   "source": [
    "np.nanmean(lmi.lmi(Xs, Ys, N_dims=1)[0])"
   ]
  },
  {
   "cell_type": "code",
   "execution_count": 5,
   "id": "f04ed704-cacb-4d2a-ab1d-85e69e3facdc",
   "metadata": {},
   "outputs": [
    {
     "data": {
      "text/plain": [
       "0.46752166748046875"
      ]
     },
     "execution_count": 5,
     "metadata": {},
     "output_type": "execute_result"
    }
   ],
   "source": [
    "infonce = InfoNCE(verbose=False)\n",
    "infonce_mi = infonce.estimate(Xs, Ys)\n",
    "infonce_mi"
   ]
  },
  {
   "cell_type": "code",
   "execution_count": 6,
   "id": "022685ad-1fb1-4c3e-8d5d-e1a4542ad33e",
   "metadata": {},
   "outputs": [
    {
     "data": {
      "text/plain": [
       "0.01957714557647705"
      ]
     },
     "execution_count": 6,
     "metadata": {},
     "output_type": "execute_result"
    }
   ],
   "source": [
    "mine = MINE(verbose=False)\n",
    "mine_mi = mine.estimate(Xs, Ys) # in nats\n",
    "mine_mi"
   ]
  },
  {
   "cell_type": "code",
   "execution_count": 7,
   "id": "16208857-703d-47a1-a26c-edc15f96e2e5",
   "metadata": {},
   "outputs": [
    {
     "data": {
      "text/plain": [
       "3.3198709267551885"
      ]
     },
     "execution_count": 7,
     "metadata": {},
     "output_type": "execute_result"
    }
   ],
   "source": [
    "# entropy of label\n",
    "\n",
    "lmi.ksg.midd(y_train, y_train)"
   ]
  },
  {
   "cell_type": "code",
   "execution_count": 8,
   "id": "e92b85cc-1910-478d-81bc-a6bbf4131ac1",
   "metadata": {},
   "outputs": [
    {
     "data": {
      "text/plain": [
       "60000"
      ]
     },
     "execution_count": 8,
     "metadata": {},
     "output_type": "execute_result"
    }
   ],
   "source": [
    "len(Ys)"
   ]
  },
  {
   "cell_type": "code",
   "execution_count": null,
   "id": "2f9578e5-0008-4d35-b7fa-06b5eedd2290",
   "metadata": {},
   "outputs": [],
   "source": []
  }
 ],
 "metadata": {
  "kernelspec": {
   "display_name": "Python 3 (ipykernel)",
   "language": "python",
   "name": "python3"
  },
  "language_info": {
   "codemirror_mode": {
    "name": "ipython",
    "version": 3
   },
   "file_extension": ".py",
   "mimetype": "text/x-python",
   "name": "python",
   "nbconvert_exporter": "python",
   "pygments_lexer": "ipython3",
   "version": "3.10.12"
  }
 },
 "nbformat": 4,
 "nbformat_minor": 5
}
