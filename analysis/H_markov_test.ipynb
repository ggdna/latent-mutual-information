{
 "cells": [
  {
   "cell_type": "markdown",
   "id": "4a27cf5d",
   "metadata": {},
   "source": [
    "# Hematopoiesis LT hidden variable test\n",
    "\n",
    "In this notebook, we'll perform the test for hidden variables in LT-seq data from hematopoietic stem cells (Fig 4).\n",
    "\n",
    "We will estimate LMI between day 2 cells and their day 6 progenitors, and compare this to SIMI between sisters cells in separate wells in day 6.\n",
    "\n",
    "We will perform the estimates for 20 different random pairings of cells within clones (since many clones are sampled more than once at a time point). This will give a sense of the variance of the estimate.\n",
    "\n",
    "For each estimate, we will shuffle the datasets (unpairing the variables) and estimate LMI as a negative control.\n",
    "\n",
    "\n",
    "First, we load the libraries and relevant data.\n"
   ]
  },
  {
   "cell_type": "code",
   "execution_count": 1,
   "id": "178c284c",
   "metadata": {},
   "outputs": [],
   "source": [
    "%%capture\n",
    "\n",
    "from lmi import lmi\n",
    "\n",
    "import pandas as pd\n",
    "import numpy as np\n",
    "import seaborn as sns\n",
    "import matplotlib.pyplot as plt\n",
    "from matplotlib import rcParams\n",
    "\n",
    "from tqdm.notebook import tqdm\n",
    "\n",
    "import scanpy as sc\n",
    "from scipy.stats import sem"
   ]
  },
  {
   "cell_type": "code",
   "execution_count": 2,
   "id": "8703aed7",
   "metadata": {},
   "outputs": [
    {
     "name": "stdout",
     "output_type": "stream",
     "text": [
      "Number of common clones: 1243\n"
     ]
    }
   ],
   "source": [
    "adata = sc.read('../data/LARRY_HVGs_preprocessed.h5ad')\n",
    "t2_clones = adata[adata.obs['time'] == 2]\n",
    "t6_clones = adata[adata.obs['time'] == 6]\n",
    "common_clones = set([x for x in t2_clones.obs['clone'].values \n",
    "                     if x in t6_clones.obs['clone'].values])\n",
    "print(\"Number of common clones: %d\" %(len(common_clones)))\n",
    "\n",
    "cxf = adata.to_df()\n",
    "for name in adata.obs.keys():\n",
    "    cxf[name] = adata.obs[name].values\n",
    "rnas = cxf.keys()[:-7]"
   ]
  },
  {
   "cell_type": "markdown",
   "id": "090429b1",
   "metadata": {},
   "source": [
    "Now we'll use the pandas sample function to randomly pair cells within clones between time points 2 and 6. Then we'll compute SIMI, then shuffle the DataFrames and recompute for the negative control."
   ]
  },
  {
   "cell_type": "code",
   "execution_count": 3,
   "id": "f62a293c",
   "metadata": {},
   "outputs": [
    {
     "data": {
      "application/vnd.jupyter.widget-view+json": {
       "model_id": "68523906c9a34e70935f9e8a4de60b2d",
       "version_major": 2,
       "version_minor": 0
      },
      "text/plain": [
       "  0%|          | 0/20 [00:00<?, ?it/s]"
      ]
     },
     "metadata": {},
     "output_type": "display_data"
    }
   ],
   "source": [
    "N_samples = 20\n",
    "\n",
    "d = {\n",
    "    \"Shuffled?\" : [],\n",
    "    \"Timepoints\" : [],\n",
    "    \"LMI\" : []\n",
    "}\n",
    "\n",
    "for _ in tqdm(range(N_samples)):\n",
    "    t2 = cxf[(cxf['time'] == 2) & (cxf['clone'].isin(common_clones))].groupby('clone').sample(n=1)\n",
    "    t6 = cxf[(cxf['time'] == 6) & (cxf['clone'].isin(common_clones))].groupby('clone').sample(n=1)\n",
    "    pMIs = lmi.lmi(t2[rnas], t6[rnas],)[0]\n",
    "    \n",
    "    d[\"Shuffled?\"].append(\"Real\")\n",
    "    d[\"Timepoints\"].append(\"2-6\")\n",
    "    d[\"LMI\"].append(np.nanmean(pMIs))\n",
    "    \n",
    "\n",
    "    pMIs = lmi.lmi(t2[rnas], t6[rnas].sample(frac=1), epochs=10**3)[0]\n",
    "    \n",
    "    d[\"Shuffled?\"].append(\"Shuffled\")\n",
    "    d[\"Timepoints\"].append(\"2-6\")\n",
    "    d[\"LMI\"].append(np.nanmean(pMIs))"
   ]
  },
  {
   "cell_type": "code",
   "execution_count": 4,
   "id": "627c4781",
   "metadata": {},
   "outputs": [
    {
     "name": "stdout",
     "output_type": "stream",
     "text": [
      "Mean: 0.299351\n",
      "SEM: 0.025012\n",
      "Mean: -0.010936\n",
      "SEM: 0.006783\n"
     ]
    }
   ],
   "source": [
    "df = pd.DataFrame(d)\n",
    "r = df[df['Shuffled?'] == \"Real\"]['LMI']\n",
    "s = df[df['Shuffled?'] == \"Shuffled\"]['LMI']\n",
    "print(\"Mean: %f\" % np.mean(r))\n",
    "print(\"SEM: %f\" % sem(r))\n",
    "print(\"Mean: %f\" % np.mean(s))\n",
    "print(\"SEM: %f\" % sem(s))"
   ]
  },
  {
   "cell_type": "code",
   "execution_count": 5,
   "id": "1fa0995b",
   "metadata": {},
   "outputs": [
    {
     "name": "stdout",
     "output_type": "stream",
     "text": [
      "Number of common clones: 677\n"
     ]
    }
   ],
   "source": [
    "w2_clones = t6_clones[t6_clones.obs['well'] == 2]\n",
    "w1_clones = t6_clones[t6_clones.obs['well'] == 1]\n",
    "common_clones = set([x for x in w2_clones.obs['clone'].values \n",
    "                     if x in w1_clones.obs['clone'].values])\n",
    "print(\"Number of common clones: %d\" %(len(common_clones)))"
   ]
  },
  {
   "cell_type": "code",
   "execution_count": 6,
   "id": "09049aed",
   "metadata": {},
   "outputs": [
    {
     "data": {
      "application/vnd.jupyter.widget-view+json": {
       "model_id": "f6a87ef220274a109977a1830a91a501",
       "version_major": 2,
       "version_minor": 0
      },
      "text/plain": [
       "  0%|          | 0/20 [00:00<?, ?it/s]"
      ]
     },
     "metadata": {},
     "output_type": "display_data"
    }
   ],
   "source": [
    "for _ in tqdm(range(N_samples)):\n",
    "\n",
    "    w2 = cxf[(cxf['well'] == 2) & (cxf['time'] == 6) &\n",
    "                   (cxf['clone'].isin(common_clones))].groupby('clone').sample(n=1)\n",
    "    w1 = cxf[(cxf['well'] == 1) & (cxf['time'] == 6) &\n",
    "                   (cxf['clone'].isin(common_clones))].groupby('clone').sample(n=1)\n",
    "    \n",
    "\n",
    "    pMIs = lmi.lmi(w2[rnas], w1[rnas], epochs=10**3)[0]\n",
    "    \n",
    "    d[\"Shuffled?\"].append(\"Real\")\n",
    "    d[\"Timepoints\"].append(\"6-6\")\n",
    "    d[\"LMI\"].append(np.nanmean(pMIs))\n",
    "    \n",
    "    pMIs = lmi.lmi(w2[rnas], w1[rnas].sample(frac=1))[0]\n",
    "    \n",
    "    d[\"Shuffled?\"].append(\"Shuffled\")\n",
    "    d[\"Timepoints\"].append(\"6-6\")\n",
    "    d[\"LMI\"].append(np.nanmean(pMIs))"
   ]
  },
  {
   "cell_type": "code",
   "execution_count": 7,
   "id": "723886dd-67ed-47ab-b4b9-8ff7c2e649a7",
   "metadata": {},
   "outputs": [
    {
     "name": "stdout",
     "output_type": "stream",
     "text": [
      "Mean: 0.965338\n",
      "SEM: 0.016375\n",
      "Mean: 0.000562\n",
      "SEM: 0.011603\n"
     ]
    }
   ],
   "source": [
    "whole_df = pd.DataFrame(d)\n",
    "df = whole_df[whole_df['Timepoints'] == \"6-6\"]\n",
    "r = df[df['Shuffled?'] == \"Real\"]['LMI']\n",
    "s = df[df['Shuffled?'] == \"Shuffled\"]['LMI']\n",
    "print(\"Mean: %f\" % np.mean(r))\n",
    "print(\"SEM: %f\" % sem(r))\n",
    "print(\"Mean: %f\" % np.mean(s))\n",
    "print(\"SEM: %f\" % sem(s))"
   ]
  },
  {
   "cell_type": "code",
   "execution_count": 8,
   "id": "ca812644",
   "metadata": {},
   "outputs": [
    {
     "data": {
      "text/html": [
       "<div>\n",
       "<style scoped>\n",
       "    .dataframe tbody tr th:only-of-type {\n",
       "        vertical-align: middle;\n",
       "    }\n",
       "\n",
       "    .dataframe tbody tr th {\n",
       "        vertical-align: top;\n",
       "    }\n",
       "\n",
       "    .dataframe thead th {\n",
       "        text-align: right;\n",
       "    }\n",
       "</style>\n",
       "<table border=\"1\" class=\"dataframe\">\n",
       "  <thead>\n",
       "    <tr style=\"text-align: right;\">\n",
       "      <th></th>\n",
       "      <th></th>\n",
       "      <th>LMI</th>\n",
       "    </tr>\n",
       "    <tr>\n",
       "      <th>Timepoints</th>\n",
       "      <th>Shuffled?</th>\n",
       "      <th></th>\n",
       "    </tr>\n",
       "  </thead>\n",
       "  <tbody>\n",
       "    <tr>\n",
       "      <th rowspan=\"2\" valign=\"top\">2-6</th>\n",
       "      <th>Real</th>\n",
       "      <td>0.299351</td>\n",
       "    </tr>\n",
       "    <tr>\n",
       "      <th>Shuffled</th>\n",
       "      <td>-0.010936</td>\n",
       "    </tr>\n",
       "    <tr>\n",
       "      <th rowspan=\"2\" valign=\"top\">6-6</th>\n",
       "      <th>Real</th>\n",
       "      <td>0.965338</td>\n",
       "    </tr>\n",
       "    <tr>\n",
       "      <th>Shuffled</th>\n",
       "      <td>0.000562</td>\n",
       "    </tr>\n",
       "  </tbody>\n",
       "</table>\n",
       "</div>"
      ],
      "text/plain": [
       "                           LMI\n",
       "Timepoints Shuffled?          \n",
       "2-6        Real       0.299351\n",
       "           Shuffled  -0.010936\n",
       "6-6        Real       0.965338\n",
       "           Shuffled   0.000562"
      ]
     },
     "execution_count": 8,
     "metadata": {},
     "output_type": "execute_result"
    }
   ],
   "source": [
    "whole_df.groupby(['Timepoints', 'Shuffled?']).mean()"
   ]
  },
  {
   "cell_type": "code",
   "execution_count": 9,
   "id": "f3d06f42",
   "metadata": {},
   "outputs": [],
   "source": [
    "df.to_csv(\"../results/H_markov_test.csv\")"
   ]
  }
 ],
 "metadata": {
  "kernelspec": {
   "display_name": "Python 3 (ipykernel)",
   "language": "python",
   "name": "python3"
  },
  "language_info": {
   "codemirror_mode": {
    "name": "ipython",
    "version": 3
   },
   "file_extension": ".py",
   "mimetype": "text/x-python",
   "name": "python",
   "nbconvert_exporter": "python",
   "pygments_lexer": "ipython3",
   "version": "3.10.12"
  }
 },
 "nbformat": 4,
 "nbformat_minor": 5
}
