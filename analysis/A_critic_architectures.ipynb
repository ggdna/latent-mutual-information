{
 "cells": [
  {
   "cell_type": "code",
   "execution_count": 1,
   "id": "9f51d37a-c2cd-4f4e-a54e-cb9bb3857463",
   "metadata": {},
   "outputs": [],
   "source": [
    "%%capture\n",
    "\n",
    "import time\n",
    "import os\n",
    "\n",
    "import pandas as pd\n",
    "import numpy as np\n",
    "import seaborn as sns\n",
    "import matplotlib.pyplot as plt\n",
    "from matplotlib import rcParams\n",
    "from tqdm.notebook import tqdm\n",
    "import torch\n",
    "\n",
    "os.environ[\"XLA_PYTHON_CLIENT_PREALLOCATE\"]=\"false\"\n",
    "os.environ[\"XLA_PYTHON_CLIENT_MEM_FRACTION\"]=\".10\"\n",
    "os.environ[\"XLA_PYTHON_CLIENT_ALLOCATOR\"]=\"platform\"\n",
    "from bmi.estimators import MINEEstimator as MINE\n",
    "from bmi.estimators import InfoNCEEstimator as InfoNCE\n",
    "\n",
    "torch.manual_seed(2121)\n",
    "np.random.seed(2121)"
   ]
  },
  {
   "cell_type": "code",
   "execution_count": 2,
   "id": "56dccd97-4438-4ff0-9189-88ffda50b20c",
   "metadata": {},
   "outputs": [],
   "source": [
    "def generate_gaussian_dataset(ambient, intrinsic, nuisance, antidiag, samples=10**3):\n",
    "    \n",
    "    assert intrinsic+nuisance <= ambient, \"Dimensionality not adding up\"\n",
    "    \n",
    "    X_nuisance = np.random.normal(size=(samples, nuisance))\n",
    "    Y_nuisance = np.random.normal(size=(samples, nuisance))\n",
    "\n",
    "\n",
    "    cov = np.array([[6, antidiag], [antidiag, 3.5]])\n",
    "    \n",
    "    pts = [np.random.multivariate_normal([0, 0], cov, \n",
    "                                         size=samples) for i in range(intrinsic)]\n",
    "    \n",
    "    pts = np.hstack(pts)\n",
    "    \n",
    "    # one copy of the intrinsic dimensions\n",
    "    Xs = pts[:, [i for i in range(0, 2*intrinsic, 2)]]\n",
    "    Ys = pts[:, [i for i in range(1, 2*intrinsic, 2)]]\n",
    "    \n",
    "    # then randomly sample them to make up the rest of the dimensions\n",
    "    X_redundant = pts[:, np.random.choice(range(0, 2*intrinsic, 2), \n",
    "                                   size = (ambient-(intrinsic+nuisance)))]\n",
    "    \n",
    "    Y_redundant = pts[:, np.random.choice(range(1, 2*intrinsic, 2), \n",
    "                               size = (ambient-(intrinsic+nuisance)))]\n",
    "    \n",
    "    Xs = np.hstack((Xs, X_redundant, X_nuisance))\n",
    "    Ys = np.hstack((Ys, Y_redundant, Y_nuisance))\n",
    "    \n",
    "    return Xs, Ys\n",
    "\n",
    "def mi_from_rho(rho, intrinsic):\n",
    "    return -0.5*np.log2((1-(rho/(np.sqrt(6*3.5)))**2))*intrinsic\n",
    "\n",
    "def rho_from_mi(mi, intrinsic):\n",
    "    return np.sqrt(6*3.5) * np.sqrt(1 - 2**(-2*mi/intrinsic))"
   ]
  },
  {
   "cell_type": "code",
   "execution_count": 3,
   "id": "adb02d66-8eee-4875-a6ae-26508eadab28",
   "metadata": {},
   "outputs": [
    {
     "data": {
      "application/vnd.jupyter.widget-view+json": {
       "model_id": "727c57d540694196b3d8cf1cbd967a75",
       "version_major": 2,
       "version_minor": 0
      },
      "text/plain": [
       "  0%|          | 0/4 [00:00<?, ?it/s]"
      ]
     },
     "metadata": {},
     "output_type": "display_data"
    },
    {
     "data": {
      "application/vnd.jupyter.widget-view+json": {
       "model_id": "",
       "version_major": 2,
       "version_minor": 0
      },
      "text/plain": [
       "ambient:   0%|          | 0/3 [00:00<?, ?it/s]"
      ]
     },
     "metadata": {},
     "output_type": "display_data"
    },
    {
     "data": {
      "application/vnd.jupyter.widget-view+json": {
       "model_id": "",
       "version_major": 2,
       "version_minor": 0
      },
      "text/plain": [
       "ambient:   0%|          | 0/3 [00:00<?, ?it/s]"
      ]
     },
     "metadata": {},
     "output_type": "display_data"
    },
    {
     "data": {
      "application/vnd.jupyter.widget-view+json": {
       "model_id": "",
       "version_major": 2,
       "version_minor": 0
      },
      "text/plain": [
       "ambient:   0%|          | 0/3 [00:00<?, ?it/s]"
      ]
     },
     "metadata": {},
     "output_type": "display_data"
    },
    {
     "data": {
      "application/vnd.jupyter.widget-view+json": {
       "model_id": "",
       "version_major": 2,
       "version_minor": 0
      },
      "text/plain": [
       "ambient:   0%|          | 0/3 [00:00<?, ?it/s]"
      ]
     },
     "metadata": {},
     "output_type": "display_data"
    }
   ],
   "source": [
    "N_samples = 5000\n",
    "intrinsic = 1\n",
    "true_mi = 1\n",
    "anti_diag = rho_from_mi(true_mi, intrinsic)\n",
    "\n",
    "\n",
    "smi_d = {\n",
    "    \"Estimate\" : [],\n",
    "    \"True MI\" : [],\n",
    "    \"Dimensions\" : [],\n",
    "    \"Max layer size\" : [],\n",
    "    \"Measure\" : [],\n",
    "    \"Time\" : [],\n",
    "    }\n",
    "\n",
    "for L in tqdm(range(4, 11, 2)):\n",
    "\n",
    "    for ambient in tqdm([10, 100, 1000], leave=False, desc='ambient'):\n",
    "\n",
    "        nuisance = (ambient - intrinsic)//2\n",
    "\n",
    "        Xs, Ys = generate_gaussian_dataset(ambient, intrinsic, \n",
    "                                       nuisance, \n",
    "                                       anti_diag,\n",
    "                                      samples=N_samples)\n",
    "\n",
    "        L1 = 2**L\n",
    "        L2 = L1//2\n",
    "    \n",
    "        t0 = time.time()\n",
    "        mine = MINE(verbose=False, hidden_layers=(L1, L2))\n",
    "        mine_mi = mine.estimate(Xs, Ys) # in nats\n",
    "        t1 = time.time()\n",
    "        \n",
    "        smi_d[\"Estimate\"].append(mine_mi/np.log(2))\n",
    "        smi_d['Dimensions'].append(ambient)\n",
    "        smi_d[\"True MI\"].append(1)\n",
    "        smi_d[\"Max layer size\"].append(L1)\n",
    "        smi_d[\"Measure\"].append(\"MINE\")\n",
    "        smi_d[\"Time\"].append(t1-t0)\n",
    "    \n",
    "        t0 = time.time()\n",
    "        infonce = InfoNCE(verbose=False, hidden_layers=(L1, L2))\n",
    "        infonce_mi = infonce.estimate(Xs, Ys)\n",
    "        t1 = time.time()\n",
    "        \n",
    "        smi_d[\"Estimate\"].append(infonce_mi/np.log(2))\n",
    "        smi_d['Dimensions'].append(ambient)\n",
    "        smi_d[\"True MI\"].append(1)\n",
    "        smi_d[\"Max layer size\"].append(L1)\n",
    "        smi_d[\"Measure\"].append(\"InfoNCE\")\n",
    "        smi_d[\"Time\"].append(t1-t0)"
   ]
  },
  {
   "cell_type": "code",
   "execution_count": 4,
   "id": "29bf7b02-9550-4bd3-8d3e-e5be7fa6fe7f",
   "metadata": {},
   "outputs": [],
   "source": [
    "pd.DataFrame(smi_d).to_csv(\"../results/A_critic.csv\")"
   ]
  },
  {
   "cell_type": "code",
   "execution_count": null,
   "id": "bd30fcdc-f14c-4179-a10a-84282261b6d9",
   "metadata": {},
   "outputs": [],
   "source": []
  }
 ],
 "metadata": {
  "kernelspec": {
   "display_name": "Python 3 (ipykernel)",
   "language": "python",
   "name": "python3"
  },
  "language_info": {
   "codemirror_mode": {
    "name": "ipython",
    "version": 3
   },
   "file_extension": ".py",
   "mimetype": "text/x-python",
   "name": "python",
   "nbconvert_exporter": "python",
   "pygments_lexer": "ipython3",
   "version": "3.10.12"
  }
 },
 "nbformat": 4,
 "nbformat_minor": 5
}
