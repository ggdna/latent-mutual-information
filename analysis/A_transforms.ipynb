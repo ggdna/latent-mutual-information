{
 "cells": [
  {
   "cell_type": "code",
   "execution_count": 1,
   "id": "dde51362-8834-414c-9faa-41c1231884ed",
   "metadata": {},
   "outputs": [],
   "source": [
    "%%capture\n",
    "\n",
    "from lmi import lmi\n",
    "import time\n",
    "import os\n",
    "\n",
    "import pandas as pd\n",
    "import numpy as np\n",
    "import seaborn as sns\n",
    "import matplotlib.pyplot as plt\n",
    "from matplotlib import rcParams\n",
    "from tqdm.notebook import tqdm\n",
    "import torch\n",
    "from scipy.stats import kendalltau\n",
    "\n",
    "os.environ[\"XLA_PYTHON_CLIENT_PREALLOCATE\"]=\"false\"\n",
    "os.environ[\"XLA_PYTHON_CLIENT_MEM_FRACTION\"]=\".10\"\n",
    "os.environ[\"XLA_PYTHON_CLIENT_ALLOCATOR\"]=\"platform\"\n",
    "from bmi.estimators import MINEEstimator as MINE\n",
    "from bmi.estimators import InfoNCEEstimator as InfoNCE\n",
    "\n",
    "torch.manual_seed(2121)\n",
    "np.random.seed(2121)\n",
    "\n",
    "from scipy.special import erf"
   ]
  },
  {
   "cell_type": "code",
   "execution_count": 2,
   "id": "9bab8665-2c1e-40c9-8b3b-7d822efa247a",
   "metadata": {},
   "outputs": [],
   "source": [
    "#############################\n",
    "#### from bmi github src ####\n",
    "#############################\n",
    "\n",
    "def half_cube(x: float) -> float:\n",
    "    \"\"\"The mapping x * sqrt(x), i.e., a signed version of x^(3/2) mapping.\"\"\"\n",
    "    return x * np.sqrt(np.abs(x))\n",
    "\n",
    "def normal_cdf(x):\n",
    "    return 0.5 * (1 + erf(x / 2**0.5))\n",
    "\n",
    "def asinh(x):\n",
    "    return np.arcsinh(x)\n",
    "\n",
    "\n",
    "def generate_gaussian_dataset(ambient, intrinsic, nuisance, antidiag, samples=10**3):\n",
    "    \n",
    "    assert intrinsic+nuisance <= ambient, \"Dimensionality not adding up\"\n",
    "    \n",
    "    X_nuisance = np.random.normal(size=(samples, nuisance))\n",
    "    Y_nuisance = np.random.normal(size=(samples, nuisance))\n",
    "\n",
    "\n",
    "    cov = np.array([[6, antidiag], [antidiag, 3.5]])\n",
    "    \n",
    "    pts = [np.random.multivariate_normal([0, 0], cov, \n",
    "                                         size=samples) for i in range(intrinsic)]\n",
    "    \n",
    "    pts = np.hstack(pts)\n",
    "    \n",
    "    # one copy of the intrinsic dimensions\n",
    "    Xs = pts[:, [i for i in range(0, 2*intrinsic, 2)]]\n",
    "    Ys = pts[:, [i for i in range(1, 2*intrinsic, 2)]]\n",
    "    \n",
    "    # then randomly sample them to make up the rest of the dimensions\n",
    "    X_redundant = pts[:, np.random.choice(range(0, 2*intrinsic, 2), \n",
    "                                   size = (ambient-(intrinsic+nuisance)))]\n",
    "    \n",
    "    Y_redundant = pts[:, np.random.choice(range(1, 2*intrinsic, 2), \n",
    "                               size = (ambient-(intrinsic+nuisance)))]\n",
    "    \n",
    "    Xs = np.hstack((Xs, X_redundant, X_nuisance))\n",
    "    Ys = np.hstack((Ys, Y_redundant, Y_nuisance))\n",
    "    \n",
    "    return Xs, Ys\n",
    "\n",
    "def mi_from_rho(rho, intrinsic):\n",
    "    return -0.5*np.log2((1-(rho/(np.sqrt(6*3.5)))**2))*intrinsic\n",
    "\n",
    "def rho_from_mi(mi, intrinsic):\n",
    "    return np.sqrt(6*3.5) * np.sqrt(1 - 2**(-2*mi/intrinsic))"
   ]
  },
  {
   "cell_type": "code",
   "execution_count": 3,
   "id": "b868c0bb-94d7-4c04-94bb-38462d44147b",
   "metadata": {},
   "outputs": [],
   "source": [
    "###########################\n",
    "## Experiment parameters ##\n",
    "###########################\n",
    "\n",
    "N_samples = 2*10**3\n",
    "\n",
    "ambients = np.arange(1, 2) * 10**3\n",
    "\n",
    "intrinsics = np.arange(1,10)\n",
    "\n",
    "true_mis = np.linspace(0, 2, 5)"
   ]
  },
  {
   "cell_type": "code",
   "execution_count": 4,
   "id": "ef688b87-bbd6-4e4d-b4a0-defe5606b972",
   "metadata": {},
   "outputs": [
    {
     "data": {
      "application/vnd.jupyter.widget-view+json": {
       "model_id": "893f5bea417a45d9915cfe64d3f79e77",
       "version_major": 2,
       "version_minor": 0
      },
      "text/plain": [
       "intrinsic:   0%|          | 0/9 [00:00<?, ?it/s]"
      ]
     },
     "metadata": {},
     "output_type": "display_data"
    },
    {
     "data": {
      "application/vnd.jupyter.widget-view+json": {
       "model_id": "",
       "version_major": 2,
       "version_minor": 0
      },
      "text/plain": [
       "ambient:   0%|          | 0/1 [00:00<?, ?it/s]"
      ]
     },
     "metadata": {},
     "output_type": "display_data"
    },
    {
     "data": {
      "application/vnd.jupyter.widget-view+json": {
       "model_id": "",
       "version_major": 2,
       "version_minor": 0
      },
      "text/plain": [
       "anti_diag:   0%|          | 0/5 [00:00<?, ?it/s]"
      ]
     },
     "metadata": {},
     "output_type": "display_data"
    },
    {
     "data": {
      "application/vnd.jupyter.widget-view+json": {
       "model_id": "",
       "version_major": 2,
       "version_minor": 0
      },
      "text/plain": [
       "ambient:   0%|          | 0/1 [00:00<?, ?it/s]"
      ]
     },
     "metadata": {},
     "output_type": "display_data"
    },
    {
     "data": {
      "application/vnd.jupyter.widget-view+json": {
       "model_id": "",
       "version_major": 2,
       "version_minor": 0
      },
      "text/plain": [
       "anti_diag:   0%|          | 0/5 [00:00<?, ?it/s]"
      ]
     },
     "metadata": {},
     "output_type": "display_data"
    },
    {
     "data": {
      "application/vnd.jupyter.widget-view+json": {
       "model_id": "",
       "version_major": 2,
       "version_minor": 0
      },
      "text/plain": [
       "ambient:   0%|          | 0/1 [00:00<?, ?it/s]"
      ]
     },
     "metadata": {},
     "output_type": "display_data"
    },
    {
     "data": {
      "application/vnd.jupyter.widget-view+json": {
       "model_id": "",
       "version_major": 2,
       "version_minor": 0
      },
      "text/plain": [
       "anti_diag:   0%|          | 0/5 [00:00<?, ?it/s]"
      ]
     },
     "metadata": {},
     "output_type": "display_data"
    },
    {
     "data": {
      "application/vnd.jupyter.widget-view+json": {
       "model_id": "",
       "version_major": 2,
       "version_minor": 0
      },
      "text/plain": [
       "ambient:   0%|          | 0/1 [00:00<?, ?it/s]"
      ]
     },
     "metadata": {},
     "output_type": "display_data"
    },
    {
     "data": {
      "application/vnd.jupyter.widget-view+json": {
       "model_id": "",
       "version_major": 2,
       "version_minor": 0
      },
      "text/plain": [
       "anti_diag:   0%|          | 0/5 [00:00<?, ?it/s]"
      ]
     },
     "metadata": {},
     "output_type": "display_data"
    },
    {
     "data": {
      "application/vnd.jupyter.widget-view+json": {
       "model_id": "",
       "version_major": 2,
       "version_minor": 0
      },
      "text/plain": [
       "ambient:   0%|          | 0/1 [00:00<?, ?it/s]"
      ]
     },
     "metadata": {},
     "output_type": "display_data"
    },
    {
     "data": {
      "application/vnd.jupyter.widget-view+json": {
       "model_id": "",
       "version_major": 2,
       "version_minor": 0
      },
      "text/plain": [
       "anti_diag:   0%|          | 0/5 [00:00<?, ?it/s]"
      ]
     },
     "metadata": {},
     "output_type": "display_data"
    },
    {
     "data": {
      "application/vnd.jupyter.widget-view+json": {
       "model_id": "",
       "version_major": 2,
       "version_minor": 0
      },
      "text/plain": [
       "ambient:   0%|          | 0/1 [00:00<?, ?it/s]"
      ]
     },
     "metadata": {},
     "output_type": "display_data"
    },
    {
     "data": {
      "application/vnd.jupyter.widget-view+json": {
       "model_id": "",
       "version_major": 2,
       "version_minor": 0
      },
      "text/plain": [
       "anti_diag:   0%|          | 0/5 [00:00<?, ?it/s]"
      ]
     },
     "metadata": {},
     "output_type": "display_data"
    },
    {
     "data": {
      "application/vnd.jupyter.widget-view+json": {
       "model_id": "",
       "version_major": 2,
       "version_minor": 0
      },
      "text/plain": [
       "ambient:   0%|          | 0/1 [00:00<?, ?it/s]"
      ]
     },
     "metadata": {},
     "output_type": "display_data"
    },
    {
     "data": {
      "application/vnd.jupyter.widget-view+json": {
       "model_id": "",
       "version_major": 2,
       "version_minor": 0
      },
      "text/plain": [
       "anti_diag:   0%|          | 0/5 [00:00<?, ?it/s]"
      ]
     },
     "metadata": {},
     "output_type": "display_data"
    },
    {
     "data": {
      "application/vnd.jupyter.widget-view+json": {
       "model_id": "",
       "version_major": 2,
       "version_minor": 0
      },
      "text/plain": [
       "ambient:   0%|          | 0/1 [00:00<?, ?it/s]"
      ]
     },
     "metadata": {},
     "output_type": "display_data"
    },
    {
     "data": {
      "application/vnd.jupyter.widget-view+json": {
       "model_id": "",
       "version_major": 2,
       "version_minor": 0
      },
      "text/plain": [
       "anti_diag:   0%|          | 0/5 [00:00<?, ?it/s]"
      ]
     },
     "metadata": {},
     "output_type": "display_data"
    },
    {
     "data": {
      "application/vnd.jupyter.widget-view+json": {
       "model_id": "",
       "version_major": 2,
       "version_minor": 0
      },
      "text/plain": [
       "ambient:   0%|          | 0/1 [00:00<?, ?it/s]"
      ]
     },
     "metadata": {},
     "output_type": "display_data"
    },
    {
     "data": {
      "application/vnd.jupyter.widget-view+json": {
       "model_id": "",
       "version_major": 2,
       "version_minor": 0
      },
      "text/plain": [
       "anti_diag:   0%|          | 0/5 [00:00<?, ?it/s]"
      ]
     },
     "metadata": {},
     "output_type": "display_data"
    }
   ],
   "source": [
    "res_d = {\n",
    "\n",
    "    \"True MI\" : [],\n",
    "    \"Ambient dimensions\" : [],\n",
    "    \"Intrinsic dimensions\" : [],\n",
    "    \"Estimator\" : [],\n",
    "    \"Estimate\" : [],\n",
    "    \"Transformation\" : []\n",
    "}\n",
    "\n",
    "\n",
    "for intrinsic in tqdm(intrinsics,\n",
    "                      position=0, desc='intrinsic', leave=True):\n",
    "    \n",
    "    for ambient in tqdm(ambients, \n",
    "                        position=1, desc='ambient', leave=False):\n",
    "        \n",
    "        for true_mi in tqdm(true_mis,\n",
    "                                position=3, desc='anti_diag', leave=False):\n",
    "            \n",
    "            if intrinsic <= ambient:\n",
    "                \n",
    "                nuisance = (ambient - intrinsic)//2\n",
    "                anti_diag = rho_from_mi(true_mi, intrinsic)\n",
    "                \n",
    "                Xs, Ys = generate_gaussian_dataset(ambient, intrinsic, \n",
    "                                                   nuisance, \n",
    "                                                   anti_diag,\n",
    "                                                  samples=N_samples)\n",
    "\n",
    "                Xs = half_cube(Xs)\n",
    "                Ys = half_cube(Ys)\n",
    "\n",
    "                # rescale\n",
    "                Xs = np.nan_to_num((Xs - Xs.mean(axis=0)) / Xs.std(axis=0))\n",
    "                Ys = np.nan_to_num((Ys - Ys.mean(axis=0)) / Ys.std(axis=0))\n",
    "                \n",
    "                infonce = InfoNCE(verbose=False)\n",
    "                infonce_mi = infonce.estimate(Xs, Ys)\n",
    "                \n",
    "                mine = MINE(verbose=False)\n",
    "                mine_mi = mine.estimate(Xs, Ys)\n",
    "\n",
    "                res_d['True MI'].append(true_mi)\n",
    "                res_d['Ambient dimensions'].append(ambient)\n",
    "                res_d['Intrinsic dimensions'].append(intrinsic)\n",
    "                res_d['Estimator'].append(\"InfoNCE\")\n",
    "                res_d['Estimate'].append(max(0, infonce_mi/np.log(2)))\n",
    "                res_d['Transformation'].append('Half cube')\n",
    "                \n",
    "                res_d['True MI'].append(true_mi)\n",
    "                res_d['Ambient dimensions'].append(ambient)\n",
    "                res_d['Intrinsic dimensions'].append(intrinsic)\n",
    "                res_d['Estimator'].append(\"MINE\")\n",
    "                res_d['Estimate'].append(max(0, mine_mi/np.log(2)))\n",
    "                res_d['Transformation'].append('Half cube')\n",
    "\n",
    "\n",
    "                s = np.mean(lmi.ksg.mi(Xs, Ys))\n",
    "                res_d['True MI'].append(true_mi)\n",
    "                res_d['Ambient dimensions'].append(ambient)\n",
    "                res_d['Intrinsic dimensions'].append(intrinsic)\n",
    "                res_d['Estimator'].append(\"KSG\")\n",
    "                res_d['Estimate'].append(s)\n",
    "                res_d['Transformation'].append('Half cube')\n",
    "                \n",
    "                s = np.nanmean(lmi.lmi(Xs, Ys,)[0])\n",
    "                res_d['True MI'].append(true_mi)\n",
    "                res_d['Ambient dimensions'].append(ambient)\n",
    "                res_d['Intrinsic dimensions'].append(intrinsic)\n",
    "                res_d['Estimator'].append(\"LMI\")\n",
    "                res_d['Estimate'].append(s)\n",
    "                res_d['Transformation'].append('Half cube')"
   ]
  },
  {
   "cell_type": "code",
   "execution_count": 5,
   "id": "f8998a66-8d3c-4f45-9065-6ca91ae814e3",
   "metadata": {},
   "outputs": [
    {
     "data": {
      "application/vnd.jupyter.widget-view+json": {
       "model_id": "e0bcceb837484829942364d0826671dc",
       "version_major": 2,
       "version_minor": 0
      },
      "text/plain": [
       "intrinsic:   0%|          | 0/9 [00:00<?, ?it/s]"
      ]
     },
     "metadata": {},
     "output_type": "display_data"
    },
    {
     "data": {
      "application/vnd.jupyter.widget-view+json": {
       "model_id": "",
       "version_major": 2,
       "version_minor": 0
      },
      "text/plain": [
       "ambient:   0%|          | 0/1 [00:00<?, ?it/s]"
      ]
     },
     "metadata": {},
     "output_type": "display_data"
    },
    {
     "data": {
      "application/vnd.jupyter.widget-view+json": {
       "model_id": "",
       "version_major": 2,
       "version_minor": 0
      },
      "text/plain": [
       "anti_diag:   0%|          | 0/5 [00:00<?, ?it/s]"
      ]
     },
     "metadata": {},
     "output_type": "display_data"
    },
    {
     "data": {
      "application/vnd.jupyter.widget-view+json": {
       "model_id": "",
       "version_major": 2,
       "version_minor": 0
      },
      "text/plain": [
       "ambient:   0%|          | 0/1 [00:00<?, ?it/s]"
      ]
     },
     "metadata": {},
     "output_type": "display_data"
    },
    {
     "data": {
      "application/vnd.jupyter.widget-view+json": {
       "model_id": "",
       "version_major": 2,
       "version_minor": 0
      },
      "text/plain": [
       "anti_diag:   0%|          | 0/5 [00:00<?, ?it/s]"
      ]
     },
     "metadata": {},
     "output_type": "display_data"
    },
    {
     "data": {
      "application/vnd.jupyter.widget-view+json": {
       "model_id": "",
       "version_major": 2,
       "version_minor": 0
      },
      "text/plain": [
       "ambient:   0%|          | 0/1 [00:00<?, ?it/s]"
      ]
     },
     "metadata": {},
     "output_type": "display_data"
    },
    {
     "data": {
      "application/vnd.jupyter.widget-view+json": {
       "model_id": "",
       "version_major": 2,
       "version_minor": 0
      },
      "text/plain": [
       "anti_diag:   0%|          | 0/5 [00:00<?, ?it/s]"
      ]
     },
     "metadata": {},
     "output_type": "display_data"
    },
    {
     "data": {
      "application/vnd.jupyter.widget-view+json": {
       "model_id": "",
       "version_major": 2,
       "version_minor": 0
      },
      "text/plain": [
       "ambient:   0%|          | 0/1 [00:00<?, ?it/s]"
      ]
     },
     "metadata": {},
     "output_type": "display_data"
    },
    {
     "data": {
      "application/vnd.jupyter.widget-view+json": {
       "model_id": "",
       "version_major": 2,
       "version_minor": 0
      },
      "text/plain": [
       "anti_diag:   0%|          | 0/5 [00:00<?, ?it/s]"
      ]
     },
     "metadata": {},
     "output_type": "display_data"
    },
    {
     "data": {
      "application/vnd.jupyter.widget-view+json": {
       "model_id": "",
       "version_major": 2,
       "version_minor": 0
      },
      "text/plain": [
       "ambient:   0%|          | 0/1 [00:00<?, ?it/s]"
      ]
     },
     "metadata": {},
     "output_type": "display_data"
    },
    {
     "data": {
      "application/vnd.jupyter.widget-view+json": {
       "model_id": "",
       "version_major": 2,
       "version_minor": 0
      },
      "text/plain": [
       "anti_diag:   0%|          | 0/5 [00:00<?, ?it/s]"
      ]
     },
     "metadata": {},
     "output_type": "display_data"
    },
    {
     "data": {
      "application/vnd.jupyter.widget-view+json": {
       "model_id": "",
       "version_major": 2,
       "version_minor": 0
      },
      "text/plain": [
       "ambient:   0%|          | 0/1 [00:00<?, ?it/s]"
      ]
     },
     "metadata": {},
     "output_type": "display_data"
    },
    {
     "data": {
      "application/vnd.jupyter.widget-view+json": {
       "model_id": "",
       "version_major": 2,
       "version_minor": 0
      },
      "text/plain": [
       "anti_diag:   0%|          | 0/5 [00:00<?, ?it/s]"
      ]
     },
     "metadata": {},
     "output_type": "display_data"
    },
    {
     "data": {
      "application/vnd.jupyter.widget-view+json": {
       "model_id": "",
       "version_major": 2,
       "version_minor": 0
      },
      "text/plain": [
       "ambient:   0%|          | 0/1 [00:00<?, ?it/s]"
      ]
     },
     "metadata": {},
     "output_type": "display_data"
    },
    {
     "data": {
      "application/vnd.jupyter.widget-view+json": {
       "model_id": "",
       "version_major": 2,
       "version_minor": 0
      },
      "text/plain": [
       "anti_diag:   0%|          | 0/5 [00:00<?, ?it/s]"
      ]
     },
     "metadata": {},
     "output_type": "display_data"
    },
    {
     "data": {
      "application/vnd.jupyter.widget-view+json": {
       "model_id": "",
       "version_major": 2,
       "version_minor": 0
      },
      "text/plain": [
       "ambient:   0%|          | 0/1 [00:00<?, ?it/s]"
      ]
     },
     "metadata": {},
     "output_type": "display_data"
    },
    {
     "data": {
      "application/vnd.jupyter.widget-view+json": {
       "model_id": "",
       "version_major": 2,
       "version_minor": 0
      },
      "text/plain": [
       "anti_diag:   0%|          | 0/5 [00:00<?, ?it/s]"
      ]
     },
     "metadata": {},
     "output_type": "display_data"
    },
    {
     "data": {
      "application/vnd.jupyter.widget-view+json": {
       "model_id": "",
       "version_major": 2,
       "version_minor": 0
      },
      "text/plain": [
       "ambient:   0%|          | 0/1 [00:00<?, ?it/s]"
      ]
     },
     "metadata": {},
     "output_type": "display_data"
    },
    {
     "data": {
      "application/vnd.jupyter.widget-view+json": {
       "model_id": "",
       "version_major": 2,
       "version_minor": 0
      },
      "text/plain": [
       "anti_diag:   0%|          | 0/5 [00:00<?, ?it/s]"
      ]
     },
     "metadata": {},
     "output_type": "display_data"
    }
   ],
   "source": [
    "for intrinsic in tqdm(intrinsics,\n",
    "                      position=0, desc='intrinsic', leave=True):\n",
    "    \n",
    "    for ambient in tqdm(ambients, \n",
    "                        position=1, desc='ambient', leave=False):\n",
    "        \n",
    "        for true_mi in tqdm(true_mis,\n",
    "                                position=3, desc='anti_diag', leave=False):\n",
    "            \n",
    "            if intrinsic <= ambient:\n",
    "                \n",
    "                nuisance = (ambient - intrinsic)//2\n",
    "                anti_diag = rho_from_mi(true_mi, intrinsic)\n",
    "                \n",
    "                Xs, Ys = generate_gaussian_dataset(ambient, intrinsic, \n",
    "                                                   nuisance, \n",
    "                                                   anti_diag,\n",
    "                                                  samples=N_samples)\n",
    "\n",
    "                # rescale\n",
    "                Xs = np.nan_to_num((Xs - Xs.mean(axis=0)) / Xs.std(axis=0))\n",
    "                Ys = np.nan_to_num((Ys - Ys.mean(axis=0)) / Ys.std(axis=0))\n",
    "                \n",
    "                infonce = InfoNCE(verbose=False)\n",
    "                infonce_mi = infonce.estimate(Xs, Ys)\n",
    "                \n",
    "                mine = MINE(verbose=False)\n",
    "                mine_mi = mine.estimate(Xs, Ys)\n",
    "\n",
    "                res_d['True MI'].append(true_mi)\n",
    "                res_d['Ambient dimensions'].append(ambient)\n",
    "                res_d['Intrinsic dimensions'].append(intrinsic)\n",
    "                res_d['Estimator'].append(\"InfoNCE\")\n",
    "                res_d['Estimate'].append(max(0, infonce_mi/np.log(2)))\n",
    "                res_d['Transformation'].append('None')\n",
    "                \n",
    "                res_d['True MI'].append(true_mi)\n",
    "                res_d['Ambient dimensions'].append(ambient)\n",
    "                res_d['Intrinsic dimensions'].append(intrinsic)\n",
    "                res_d['Estimator'].append(\"MINE\")\n",
    "                res_d['Estimate'].append(max(0, mine_mi/np.log(2)))\n",
    "                res_d['Transformation'].append('None')\n",
    "\n",
    "\n",
    "                s = np.mean(lmi.ksg.mi(Xs, Ys))\n",
    "                res_d['True MI'].append(true_mi)\n",
    "                res_d['Ambient dimensions'].append(ambient)\n",
    "                res_d['Intrinsic dimensions'].append(intrinsic)\n",
    "                res_d['Estimator'].append(\"KSG\")\n",
    "                res_d['Estimate'].append(s)\n",
    "                res_d['Transformation'].append('None')\n",
    "                \n",
    "                s = np.nanmean(lmi.lmi(Xs, Ys,)[0])\n",
    "                res_d['True MI'].append(true_mi)\n",
    "                res_d['Ambient dimensions'].append(ambient)\n",
    "                res_d['Intrinsic dimensions'].append(intrinsic)\n",
    "                res_d['Estimator'].append(\"LMI\")\n",
    "                res_d['Estimate'].append(s)\n",
    "                res_d['Transformation'].append('None')"
   ]
  },
  {
   "cell_type": "code",
   "execution_count": 6,
   "id": "91cc5e75-893a-44a8-83b6-26a9d1d41cf9",
   "metadata": {},
   "outputs": [
    {
     "data": {
      "application/vnd.jupyter.widget-view+json": {
       "model_id": "063c3721584e49baa177cb89b83e54c0",
       "version_major": 2,
       "version_minor": 0
      },
      "text/plain": [
       "intrinsic:   0%|          | 0/9 [00:00<?, ?it/s]"
      ]
     },
     "metadata": {},
     "output_type": "display_data"
    },
    {
     "data": {
      "application/vnd.jupyter.widget-view+json": {
       "model_id": "",
       "version_major": 2,
       "version_minor": 0
      },
      "text/plain": [
       "ambient:   0%|          | 0/1 [00:00<?, ?it/s]"
      ]
     },
     "metadata": {},
     "output_type": "display_data"
    },
    {
     "data": {
      "application/vnd.jupyter.widget-view+json": {
       "model_id": "",
       "version_major": 2,
       "version_minor": 0
      },
      "text/plain": [
       "anti_diag:   0%|          | 0/5 [00:00<?, ?it/s]"
      ]
     },
     "metadata": {},
     "output_type": "display_data"
    },
    {
     "data": {
      "application/vnd.jupyter.widget-view+json": {
       "model_id": "",
       "version_major": 2,
       "version_minor": 0
      },
      "text/plain": [
       "ambient:   0%|          | 0/1 [00:00<?, ?it/s]"
      ]
     },
     "metadata": {},
     "output_type": "display_data"
    },
    {
     "data": {
      "application/vnd.jupyter.widget-view+json": {
       "model_id": "",
       "version_major": 2,
       "version_minor": 0
      },
      "text/plain": [
       "anti_diag:   0%|          | 0/5 [00:00<?, ?it/s]"
      ]
     },
     "metadata": {},
     "output_type": "display_data"
    },
    {
     "data": {
      "application/vnd.jupyter.widget-view+json": {
       "model_id": "",
       "version_major": 2,
       "version_minor": 0
      },
      "text/plain": [
       "ambient:   0%|          | 0/1 [00:00<?, ?it/s]"
      ]
     },
     "metadata": {},
     "output_type": "display_data"
    },
    {
     "data": {
      "application/vnd.jupyter.widget-view+json": {
       "model_id": "",
       "version_major": 2,
       "version_minor": 0
      },
      "text/plain": [
       "anti_diag:   0%|          | 0/5 [00:00<?, ?it/s]"
      ]
     },
     "metadata": {},
     "output_type": "display_data"
    },
    {
     "data": {
      "application/vnd.jupyter.widget-view+json": {
       "model_id": "",
       "version_major": 2,
       "version_minor": 0
      },
      "text/plain": [
       "ambient:   0%|          | 0/1 [00:00<?, ?it/s]"
      ]
     },
     "metadata": {},
     "output_type": "display_data"
    },
    {
     "data": {
      "application/vnd.jupyter.widget-view+json": {
       "model_id": "",
       "version_major": 2,
       "version_minor": 0
      },
      "text/plain": [
       "anti_diag:   0%|          | 0/5 [00:00<?, ?it/s]"
      ]
     },
     "metadata": {},
     "output_type": "display_data"
    },
    {
     "data": {
      "application/vnd.jupyter.widget-view+json": {
       "model_id": "",
       "version_major": 2,
       "version_minor": 0
      },
      "text/plain": [
       "ambient:   0%|          | 0/1 [00:00<?, ?it/s]"
      ]
     },
     "metadata": {},
     "output_type": "display_data"
    },
    {
     "data": {
      "application/vnd.jupyter.widget-view+json": {
       "model_id": "",
       "version_major": 2,
       "version_minor": 0
      },
      "text/plain": [
       "anti_diag:   0%|          | 0/5 [00:00<?, ?it/s]"
      ]
     },
     "metadata": {},
     "output_type": "display_data"
    },
    {
     "data": {
      "application/vnd.jupyter.widget-view+json": {
       "model_id": "",
       "version_major": 2,
       "version_minor": 0
      },
      "text/plain": [
       "ambient:   0%|          | 0/1 [00:00<?, ?it/s]"
      ]
     },
     "metadata": {},
     "output_type": "display_data"
    },
    {
     "data": {
      "application/vnd.jupyter.widget-view+json": {
       "model_id": "",
       "version_major": 2,
       "version_minor": 0
      },
      "text/plain": [
       "anti_diag:   0%|          | 0/5 [00:00<?, ?it/s]"
      ]
     },
     "metadata": {},
     "output_type": "display_data"
    },
    {
     "data": {
      "application/vnd.jupyter.widget-view+json": {
       "model_id": "",
       "version_major": 2,
       "version_minor": 0
      },
      "text/plain": [
       "ambient:   0%|          | 0/1 [00:00<?, ?it/s]"
      ]
     },
     "metadata": {},
     "output_type": "display_data"
    },
    {
     "data": {
      "application/vnd.jupyter.widget-view+json": {
       "model_id": "",
       "version_major": 2,
       "version_minor": 0
      },
      "text/plain": [
       "anti_diag:   0%|          | 0/5 [00:00<?, ?it/s]"
      ]
     },
     "metadata": {},
     "output_type": "display_data"
    },
    {
     "data": {
      "application/vnd.jupyter.widget-view+json": {
       "model_id": "",
       "version_major": 2,
       "version_minor": 0
      },
      "text/plain": [
       "ambient:   0%|          | 0/1 [00:00<?, ?it/s]"
      ]
     },
     "metadata": {},
     "output_type": "display_data"
    },
    {
     "data": {
      "application/vnd.jupyter.widget-view+json": {
       "model_id": "",
       "version_major": 2,
       "version_minor": 0
      },
      "text/plain": [
       "anti_diag:   0%|          | 0/5 [00:00<?, ?it/s]"
      ]
     },
     "metadata": {},
     "output_type": "display_data"
    },
    {
     "data": {
      "application/vnd.jupyter.widget-view+json": {
       "model_id": "",
       "version_major": 2,
       "version_minor": 0
      },
      "text/plain": [
       "ambient:   0%|          | 0/1 [00:00<?, ?it/s]"
      ]
     },
     "metadata": {},
     "output_type": "display_data"
    },
    {
     "data": {
      "application/vnd.jupyter.widget-view+json": {
       "model_id": "",
       "version_major": 2,
       "version_minor": 0
      },
      "text/plain": [
       "anti_diag:   0%|          | 0/5 [00:00<?, ?it/s]"
      ]
     },
     "metadata": {},
     "output_type": "display_data"
    }
   ],
   "source": [
    "for intrinsic in tqdm(intrinsics,\n",
    "                      position=0, desc='intrinsic', leave=True):\n",
    "    \n",
    "    for ambient in tqdm(ambients, \n",
    "                        position=1, desc='ambient', leave=False):\n",
    "        \n",
    "        for true_mi in tqdm(true_mis,\n",
    "                                position=3, desc='anti_diag', leave=False):\n",
    "            \n",
    "            if intrinsic <= ambient:\n",
    "                \n",
    "                nuisance = (ambient - intrinsic)//2\n",
    "                anti_diag = rho_from_mi(true_mi, intrinsic)\n",
    "                \n",
    "                Xs, Ys = generate_gaussian_dataset(ambient, intrinsic, \n",
    "                                                   nuisance, \n",
    "                                                   anti_diag,\n",
    "                                                  samples=N_samples)\n",
    "\n",
    "                Xs = asinh(Xs)\n",
    "                Ys = asinh(Ys)\n",
    "\n",
    "                # rescale\n",
    "                Xs = np.nan_to_num((Xs - Xs.mean(axis=0)) / Xs.std(axis=0))\n",
    "                Ys = np.nan_to_num((Ys - Ys.mean(axis=0)) / Ys.std(axis=0))\n",
    "                \n",
    "                infonce = InfoNCE(verbose=False)\n",
    "                infonce_mi = infonce.estimate(Xs, Ys)\n",
    "                \n",
    "                mine = MINE(verbose=False)\n",
    "                mine_mi = mine.estimate(Xs, Ys)\n",
    "\n",
    "                res_d['True MI'].append(true_mi)\n",
    "                res_d['Ambient dimensions'].append(ambient)\n",
    "                res_d['Intrinsic dimensions'].append(intrinsic)\n",
    "                res_d['Estimator'].append(\"InfoNCE\")\n",
    "                res_d['Estimate'].append(max(0, infonce_mi/np.log(2)))\n",
    "                res_d['Transformation'].append('Asinh')\n",
    "                \n",
    "                res_d['True MI'].append(true_mi)\n",
    "                res_d['Ambient dimensions'].append(ambient)\n",
    "                res_d['Intrinsic dimensions'].append(intrinsic)\n",
    "                res_d['Estimator'].append(\"MINE\")\n",
    "                res_d['Estimate'].append(max(0, mine_mi/np.log(2)))\n",
    "                res_d['Transformation'].append('Asinh')\n",
    "\n",
    "\n",
    "                s = np.mean(lmi.ksg.mi(Xs, Ys))\n",
    "                res_d['True MI'].append(true_mi)\n",
    "                res_d['Ambient dimensions'].append(ambient)\n",
    "                res_d['Intrinsic dimensions'].append(intrinsic)\n",
    "                res_d['Estimator'].append(\"KSG\")\n",
    "                res_d['Estimate'].append(s)\n",
    "                res_d['Transformation'].append('Asinh')\n",
    "                \n",
    "                s = np.nanmean(lmi.lmi(Xs, Ys,)[0])\n",
    "                res_d['True MI'].append(true_mi)\n",
    "                res_d['Ambient dimensions'].append(ambient)\n",
    "                res_d['Intrinsic dimensions'].append(intrinsic)\n",
    "                res_d['Estimator'].append(\"LMI\")\n",
    "                res_d['Estimate'].append(s)\n",
    "                res_d['Transformation'].append('Asinh')"
   ]
  },
  {
   "cell_type": "code",
   "execution_count": 7,
   "id": "9516fd07-8f55-4a36-8d06-f9f45a2cf150",
   "metadata": {},
   "outputs": [
    {
     "data": {
      "application/vnd.jupyter.widget-view+json": {
       "model_id": "3e8f14e59cac4df98aa9398bda3b884e",
       "version_major": 2,
       "version_minor": 0
      },
      "text/plain": [
       "intrinsic:   0%|          | 0/9 [00:00<?, ?it/s]"
      ]
     },
     "metadata": {},
     "output_type": "display_data"
    },
    {
     "data": {
      "application/vnd.jupyter.widget-view+json": {
       "model_id": "",
       "version_major": 2,
       "version_minor": 0
      },
      "text/plain": [
       "ambient:   0%|          | 0/1 [00:00<?, ?it/s]"
      ]
     },
     "metadata": {},
     "output_type": "display_data"
    },
    {
     "data": {
      "application/vnd.jupyter.widget-view+json": {
       "model_id": "",
       "version_major": 2,
       "version_minor": 0
      },
      "text/plain": [
       "anti_diag:   0%|          | 0/5 [00:00<?, ?it/s]"
      ]
     },
     "metadata": {},
     "output_type": "display_data"
    },
    {
     "data": {
      "application/vnd.jupyter.widget-view+json": {
       "model_id": "",
       "version_major": 2,
       "version_minor": 0
      },
      "text/plain": [
       "ambient:   0%|          | 0/1 [00:00<?, ?it/s]"
      ]
     },
     "metadata": {},
     "output_type": "display_data"
    },
    {
     "data": {
      "application/vnd.jupyter.widget-view+json": {
       "model_id": "",
       "version_major": 2,
       "version_minor": 0
      },
      "text/plain": [
       "anti_diag:   0%|          | 0/5 [00:00<?, ?it/s]"
      ]
     },
     "metadata": {},
     "output_type": "display_data"
    },
    {
     "data": {
      "application/vnd.jupyter.widget-view+json": {
       "model_id": "",
       "version_major": 2,
       "version_minor": 0
      },
      "text/plain": [
       "ambient:   0%|          | 0/1 [00:00<?, ?it/s]"
      ]
     },
     "metadata": {},
     "output_type": "display_data"
    },
    {
     "data": {
      "application/vnd.jupyter.widget-view+json": {
       "model_id": "",
       "version_major": 2,
       "version_minor": 0
      },
      "text/plain": [
       "anti_diag:   0%|          | 0/5 [00:00<?, ?it/s]"
      ]
     },
     "metadata": {},
     "output_type": "display_data"
    },
    {
     "data": {
      "application/vnd.jupyter.widget-view+json": {
       "model_id": "",
       "version_major": 2,
       "version_minor": 0
      },
      "text/plain": [
       "ambient:   0%|          | 0/1 [00:00<?, ?it/s]"
      ]
     },
     "metadata": {},
     "output_type": "display_data"
    },
    {
     "data": {
      "application/vnd.jupyter.widget-view+json": {
       "model_id": "",
       "version_major": 2,
       "version_minor": 0
      },
      "text/plain": [
       "anti_diag:   0%|          | 0/5 [00:00<?, ?it/s]"
      ]
     },
     "metadata": {},
     "output_type": "display_data"
    },
    {
     "data": {
      "application/vnd.jupyter.widget-view+json": {
       "model_id": "",
       "version_major": 2,
       "version_minor": 0
      },
      "text/plain": [
       "ambient:   0%|          | 0/1 [00:00<?, ?it/s]"
      ]
     },
     "metadata": {},
     "output_type": "display_data"
    },
    {
     "data": {
      "application/vnd.jupyter.widget-view+json": {
       "model_id": "",
       "version_major": 2,
       "version_minor": 0
      },
      "text/plain": [
       "anti_diag:   0%|          | 0/5 [00:00<?, ?it/s]"
      ]
     },
     "metadata": {},
     "output_type": "display_data"
    },
    {
     "data": {
      "application/vnd.jupyter.widget-view+json": {
       "model_id": "",
       "version_major": 2,
       "version_minor": 0
      },
      "text/plain": [
       "ambient:   0%|          | 0/1 [00:00<?, ?it/s]"
      ]
     },
     "metadata": {},
     "output_type": "display_data"
    },
    {
     "data": {
      "application/vnd.jupyter.widget-view+json": {
       "model_id": "",
       "version_major": 2,
       "version_minor": 0
      },
      "text/plain": [
       "anti_diag:   0%|          | 0/5 [00:00<?, ?it/s]"
      ]
     },
     "metadata": {},
     "output_type": "display_data"
    },
    {
     "data": {
      "application/vnd.jupyter.widget-view+json": {
       "model_id": "",
       "version_major": 2,
       "version_minor": 0
      },
      "text/plain": [
       "ambient:   0%|          | 0/1 [00:00<?, ?it/s]"
      ]
     },
     "metadata": {},
     "output_type": "display_data"
    },
    {
     "data": {
      "application/vnd.jupyter.widget-view+json": {
       "model_id": "",
       "version_major": 2,
       "version_minor": 0
      },
      "text/plain": [
       "anti_diag:   0%|          | 0/5 [00:00<?, ?it/s]"
      ]
     },
     "metadata": {},
     "output_type": "display_data"
    },
    {
     "data": {
      "application/vnd.jupyter.widget-view+json": {
       "model_id": "",
       "version_major": 2,
       "version_minor": 0
      },
      "text/plain": [
       "ambient:   0%|          | 0/1 [00:00<?, ?it/s]"
      ]
     },
     "metadata": {},
     "output_type": "display_data"
    },
    {
     "data": {
      "application/vnd.jupyter.widget-view+json": {
       "model_id": "",
       "version_major": 2,
       "version_minor": 0
      },
      "text/plain": [
       "anti_diag:   0%|          | 0/5 [00:00<?, ?it/s]"
      ]
     },
     "metadata": {},
     "output_type": "display_data"
    },
    {
     "data": {
      "application/vnd.jupyter.widget-view+json": {
       "model_id": "",
       "version_major": 2,
       "version_minor": 0
      },
      "text/plain": [
       "ambient:   0%|          | 0/1 [00:00<?, ?it/s]"
      ]
     },
     "metadata": {},
     "output_type": "display_data"
    },
    {
     "data": {
      "application/vnd.jupyter.widget-view+json": {
       "model_id": "",
       "version_major": 2,
       "version_minor": 0
      },
      "text/plain": [
       "anti_diag:   0%|          | 0/5 [00:00<?, ?it/s]"
      ]
     },
     "metadata": {},
     "output_type": "display_data"
    }
   ],
   "source": [
    "for intrinsic in tqdm(intrinsics,\n",
    "                      position=0, desc='intrinsic', leave=True):\n",
    "    \n",
    "    for ambient in tqdm(ambients, \n",
    "                        position=1, desc='ambient', leave=False):\n",
    "        \n",
    "        for true_mi in tqdm(true_mis,\n",
    "                                position=3, desc='anti_diag', leave=False):\n",
    "            \n",
    "            if intrinsic <= ambient:\n",
    "                \n",
    "                nuisance = (ambient - intrinsic)//2\n",
    "                anti_diag = rho_from_mi(true_mi, intrinsic)\n",
    "                \n",
    "                Xs, Ys = generate_gaussian_dataset(ambient, intrinsic, \n",
    "                                                   nuisance, \n",
    "                                                   anti_diag,\n",
    "                                                  samples=N_samples)\n",
    "\n",
    "                Xs = normal_cdf(Xs)\n",
    "                Ys = normal_cdf(Ys)\n",
    "\n",
    "                # rescale\n",
    "                Xs = np.nan_to_num((Xs - Xs.mean(axis=0)) / Xs.std(axis=0))\n",
    "                Ys = np.nan_to_num((Ys - Ys.mean(axis=0)) / Ys.std(axis=0))\n",
    "                \n",
    "                infonce = InfoNCE(verbose=False)\n",
    "                infonce_mi = infonce.estimate(Xs, Ys)\n",
    "                \n",
    "                mine = MINE(verbose=False)\n",
    "                mine_mi = mine.estimate(Xs, Ys)\n",
    "\n",
    "                res_d['True MI'].append(true_mi)\n",
    "                res_d['Ambient dimensions'].append(ambient)\n",
    "                res_d['Intrinsic dimensions'].append(intrinsic)\n",
    "                res_d['Estimator'].append(\"InfoNCE\")\n",
    "                res_d['Estimate'].append(max(0, infonce_mi/np.log(2)))\n",
    "                res_d['Transformation'].append('Uniform margins')\n",
    "                \n",
    "                res_d['True MI'].append(true_mi)\n",
    "                res_d['Ambient dimensions'].append(ambient)\n",
    "                res_d['Intrinsic dimensions'].append(intrinsic)\n",
    "                res_d['Estimator'].append(\"MINE\")\n",
    "                res_d['Estimate'].append(max(0, mine_mi/np.log(2)))\n",
    "                res_d['Transformation'].append('Uniform margins')\n",
    "\n",
    "\n",
    "                s = np.mean(lmi.ksg.mi(Xs, Ys))\n",
    "                res_d['True MI'].append(true_mi)\n",
    "                res_d['Ambient dimensions'].append(ambient)\n",
    "                res_d['Intrinsic dimensions'].append(intrinsic)\n",
    "                res_d['Estimator'].append(\"KSG\")\n",
    "                res_d['Estimate'].append(s)\n",
    "                res_d['Transformation'].append('Uniform margins')\n",
    "                \n",
    "                s = np.nanmean(lmi.lmi(Xs, Ys,)[0])\n",
    "                res_d['True MI'].append(true_mi)\n",
    "                res_d['Ambient dimensions'].append(ambient)\n",
    "                res_d['Intrinsic dimensions'].append(intrinsic)\n",
    "                res_d['Estimator'].append(\"LMI\")\n",
    "                res_d['Estimate'].append(s)\n",
    "                res_d['Transformation'].append('Uniform margins')"
   ]
  },
  {
   "cell_type": "code",
   "execution_count": 8,
   "id": "9a1aaf3d-8617-4668-a1b8-7ba2c530659c",
   "metadata": {},
   "outputs": [
    {
     "data": {
      "text/html": [
       "<div>\n",
       "<style scoped>\n",
       "    .dataframe tbody tr th:only-of-type {\n",
       "        vertical-align: middle;\n",
       "    }\n",
       "\n",
       "    .dataframe tbody tr th {\n",
       "        vertical-align: top;\n",
       "    }\n",
       "\n",
       "    .dataframe thead th {\n",
       "        text-align: right;\n",
       "    }\n",
       "</style>\n",
       "<table border=\"1\" class=\"dataframe\">\n",
       "  <thead>\n",
       "    <tr style=\"text-align: right;\">\n",
       "      <th></th>\n",
       "      <th>True MI</th>\n",
       "      <th>Ambient dimensions</th>\n",
       "      <th>Intrinsic dimensions</th>\n",
       "      <th>Estimator</th>\n",
       "      <th>Estimate</th>\n",
       "      <th>Transformation</th>\n",
       "    </tr>\n",
       "  </thead>\n",
       "  <tbody>\n",
       "    <tr>\n",
       "      <th>0</th>\n",
       "      <td>0.0</td>\n",
       "      <td>1000</td>\n",
       "      <td>1</td>\n",
       "      <td>InfoNCE</td>\n",
       "      <td>0.000000e+00</td>\n",
       "      <td>Half cube</td>\n",
       "    </tr>\n",
       "    <tr>\n",
       "      <th>1</th>\n",
       "      <td>0.0</td>\n",
       "      <td>1000</td>\n",
       "      <td>1</td>\n",
       "      <td>MINE</td>\n",
       "      <td>5.503445e-06</td>\n",
       "      <td>Half cube</td>\n",
       "    </tr>\n",
       "    <tr>\n",
       "      <th>2</th>\n",
       "      <td>0.0</td>\n",
       "      <td>1000</td>\n",
       "      <td>1</td>\n",
       "      <td>KSG</td>\n",
       "      <td>-3.067194e-03</td>\n",
       "      <td>Half cube</td>\n",
       "    </tr>\n",
       "    <tr>\n",
       "      <th>3</th>\n",
       "      <td>0.0</td>\n",
       "      <td>1000</td>\n",
       "      <td>1</td>\n",
       "      <td>LMI</td>\n",
       "      <td>-7.418311e-03</td>\n",
       "      <td>Half cube</td>\n",
       "    </tr>\n",
       "    <tr>\n",
       "      <th>4</th>\n",
       "      <td>0.5</td>\n",
       "      <td>1000</td>\n",
       "      <td>1</td>\n",
       "      <td>InfoNCE</td>\n",
       "      <td>0.000000e+00</td>\n",
       "      <td>Half cube</td>\n",
       "    </tr>\n",
       "    <tr>\n",
       "      <th>...</th>\n",
       "      <td>...</td>\n",
       "      <td>...</td>\n",
       "      <td>...</td>\n",
       "      <td>...</td>\n",
       "      <td>...</td>\n",
       "      <td>...</td>\n",
       "    </tr>\n",
       "    <tr>\n",
       "      <th>715</th>\n",
       "      <td>1.5</td>\n",
       "      <td>1000</td>\n",
       "      <td>9</td>\n",
       "      <td>LMI</td>\n",
       "      <td>4.810593e-01</td>\n",
       "      <td>Uniform margins</td>\n",
       "    </tr>\n",
       "    <tr>\n",
       "      <th>716</th>\n",
       "      <td>2.0</td>\n",
       "      <td>1000</td>\n",
       "      <td>9</td>\n",
       "      <td>InfoNCE</td>\n",
       "      <td>1.375861e-06</td>\n",
       "      <td>Uniform margins</td>\n",
       "    </tr>\n",
       "    <tr>\n",
       "      <th>717</th>\n",
       "      <td>2.0</td>\n",
       "      <td>1000</td>\n",
       "      <td>9</td>\n",
       "      <td>MINE</td>\n",
       "      <td>8.599133e-08</td>\n",
       "      <td>Uniform margins</td>\n",
       "    </tr>\n",
       "    <tr>\n",
       "      <th>718</th>\n",
       "      <td>2.0</td>\n",
       "      <td>1000</td>\n",
       "      <td>9</td>\n",
       "      <td>KSG</td>\n",
       "      <td>-1.503220e-02</td>\n",
       "      <td>Uniform margins</td>\n",
       "    </tr>\n",
       "    <tr>\n",
       "      <th>719</th>\n",
       "      <td>2.0</td>\n",
       "      <td>1000</td>\n",
       "      <td>9</td>\n",
       "      <td>LMI</td>\n",
       "      <td>5.194025e-01</td>\n",
       "      <td>Uniform margins</td>\n",
       "    </tr>\n",
       "  </tbody>\n",
       "</table>\n",
       "<p>720 rows × 6 columns</p>\n",
       "</div>"
      ],
      "text/plain": [
       "     True MI  Ambient dimensions  Intrinsic dimensions Estimator  \\\n",
       "0        0.0                1000                     1   InfoNCE   \n",
       "1        0.0                1000                     1      MINE   \n",
       "2        0.0                1000                     1       KSG   \n",
       "3        0.0                1000                     1       LMI   \n",
       "4        0.5                1000                     1   InfoNCE   \n",
       "..       ...                 ...                   ...       ...   \n",
       "715      1.5                1000                     9       LMI   \n",
       "716      2.0                1000                     9   InfoNCE   \n",
       "717      2.0                1000                     9      MINE   \n",
       "718      2.0                1000                     9       KSG   \n",
       "719      2.0                1000                     9       LMI   \n",
       "\n",
       "         Estimate   Transformation  \n",
       "0    0.000000e+00        Half cube  \n",
       "1    5.503445e-06        Half cube  \n",
       "2   -3.067194e-03        Half cube  \n",
       "3   -7.418311e-03        Half cube  \n",
       "4    0.000000e+00        Half cube  \n",
       "..            ...              ...  \n",
       "715  4.810593e-01  Uniform margins  \n",
       "716  1.375861e-06  Uniform margins  \n",
       "717  8.599133e-08  Uniform margins  \n",
       "718 -1.503220e-02  Uniform margins  \n",
       "719  5.194025e-01  Uniform margins  \n",
       "\n",
       "[720 rows x 6 columns]"
      ]
     },
     "execution_count": 8,
     "metadata": {},
     "output_type": "execute_result"
    }
   ],
   "source": [
    "res_df = pd.DataFrame(res_d)\n",
    "res_df"
   ]
  },
  {
   "cell_type": "code",
   "execution_count": 9,
   "id": "94cda799-071a-40f7-8ceb-86e0c83aafcd",
   "metadata": {},
   "outputs": [],
   "source": [
    "g = res_df.groupby(['Transformation', 'Intrinsic dimensions', 'Estimator'])\n",
    "def kendall(group):\n",
    "    t = group['True MI']\n",
    "    e = group['Estimate']\n",
    "    return kendalltau(t, e)[0]\n",
    "\n",
    "def mse(group):\n",
    "    t = group['True MI']\n",
    "    e = group['Estimate']\n",
    "    return np.mean((t-e)**2)"
   ]
  },
  {
   "cell_type": "code",
   "execution_count": 10,
   "id": "f3e6e3cd-e2a6-4b55-a971-da4c7d031fef",
   "metadata": {},
   "outputs": [
    {
     "name": "stderr",
     "output_type": "stream",
     "text": [
      "/tmp/ipykernel_321360/3789682215.py:20: UserWarning: This figure includes Axes that are not compatible with tight_layout, so results might be incorrect.\n",
      "  fig.tight_layout(rect=[0, 0, .9, 1])\n"
     ]
    },
    {
     "data": {
      "image/png": "[encoded data removed]",
      "text/plain": [
       "<Figure size 1800x900 with 5 Axes>"
      ]
     },
     "metadata": {
      "needs_background": "light"
     },
     "output_type": "display_data"
    }
   ],
   "source": [
    "fig, axn = plt.subplots(2, 2, sharex=True, sharey=True, \n",
    "                        figsize=(12,6), dpi=150)\n",
    "\n",
    "cbar_ax = fig.add_axes([.91, .3, .03, .4])\n",
    "\n",
    "k = g.apply(mse).unstack().fillna(0)\n",
    "ests = list(set(res_df['Estimator']))\n",
    "for i, ax in enumerate(axn.flat):\n",
    "    sns.heatmap(k.reset_index().pivot_table(index='Transformation',\n",
    "                            columns='Intrinsic dimensions',\n",
    "                            values=ests[i]), square=True, cmap='mako_r',\n",
    "                ax=ax,\n",
    "                cbar=i == 0,\n",
    "                vmin=0, vmax=2,\n",
    "                cbar_ax=None if i else cbar_ax)\n",
    "    ax.set_title(ests[i])\n",
    "\n",
    "# axn.flat[5].remove()\n",
    "\n",
    "fig.tight_layout(rect=[0, 0, .9, 1])"
   ]
  },
  {
   "cell_type": "code",
   "execution_count": null,
   "id": "4909f60d-f2ae-4d82-b4a8-03f3274a0ef5",
   "metadata": {},
   "outputs": [],
   "source": []
  }
 ],
 "metadata": {
  "kernelspec": {
   "display_name": "Python 3 (ipykernel)",
   "language": "python",
   "name": "python3"
  },
  "language_info": {
   "codemirror_mode": {
    "name": "ipython",
    "version": 3
   },
   "file_extension": ".py",
   "mimetype": "text/x-python",
   "name": "python",
   "nbconvert_exporter": "python",
   "pygments_lexer": "ipython3",
   "version": "3.10.12"
  }
 },
 "nbformat": 4,
 "nbformat_minor": 5
}
