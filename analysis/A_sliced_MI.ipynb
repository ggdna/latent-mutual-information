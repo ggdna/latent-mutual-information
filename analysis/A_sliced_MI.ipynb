{
 "cells": [
  {
   "cell_type": "code",
   "execution_count": 1,
   "id": "4477f603-987b-44b3-b3f4-89fed882ab4f",
   "metadata": {},
   "outputs": [],
   "source": [
    "%%capture\n",
    "\n",
    "from lmi import lmi\n",
    "import time\n",
    "import os\n",
    "\n",
    "import pandas as pd\n",
    "import numpy as np\n",
    "import seaborn as sns\n",
    "import matplotlib.pyplot as plt\n",
    "from matplotlib import rcParams\n",
    "from tqdm.notebook import tqdm\n",
    "import torch\n",
    "from scipy.stats import kendalltau\n",
    "\n",
    "torch.manual_seed(2121)\n",
    "np.random.seed(2121)"
   ]
  },
  {
   "cell_type": "code",
   "execution_count": 2,
   "id": "17fed85b-f182-4cca-8fdc-54b931bdb4bf",
   "metadata": {},
   "outputs": [],
   "source": [
    "def half_cube(x: float) -> float:\n",
    "    \"\"\"The mapping x * sqrt(x), i.e., a signed version of x^(3/2) mapping.\"\"\"\n",
    "    return x * np.sqrt(np.abs(x))\n",
    "\n",
    "def normal_cdf(x):\n",
    "    return 0.5 * (1 + erf(x / 2**0.5))\n",
    "\n",
    "def asinh(x):\n",
    "    return np.arcsinh(x)\n",
    "\n",
    "\n",
    "def generate_gaussian_dataset(ambient, intrinsic, nuisance, antidiag, samples=10**3):\n",
    "    \n",
    "    assert intrinsic+nuisance <= ambient, \"Dimensionality not adding up\"\n",
    "    \n",
    "    X_nuisance = np.random.normal(size=(samples, nuisance))\n",
    "    Y_nuisance = np.random.normal(size=(samples, nuisance))\n",
    "\n",
    "\n",
    "    cov = np.array([[6, antidiag], [antidiag, 3.5]])\n",
    "    \n",
    "    pts = [np.random.multivariate_normal([0, 0], cov, \n",
    "                                         size=samples) for i in range(intrinsic)]\n",
    "    \n",
    "    pts = np.hstack(pts)\n",
    "    \n",
    "    # one copy of the intrinsic dimensions\n",
    "    Xs = pts[:, [i for i in range(0, 2*intrinsic, 2)]]\n",
    "    Ys = pts[:, [i for i in range(1, 2*intrinsic, 2)]]\n",
    "    \n",
    "    # then randomly sample them to make up the rest of the dimensions\n",
    "    X_redundant = pts[:, np.random.choice(range(0, 2*intrinsic, 2), \n",
    "                                   size = (ambient-(intrinsic+nuisance)))]\n",
    "    \n",
    "    Y_redundant = pts[:, np.random.choice(range(1, 2*intrinsic, 2), \n",
    "                               size = (ambient-(intrinsic+nuisance)))]\n",
    "    \n",
    "    Xs = np.hstack((Xs, X_redundant, X_nuisance))\n",
    "    Ys = np.hstack((Ys, Y_redundant, Y_nuisance))\n",
    "    \n",
    "    return Xs, Ys\n",
    "\n",
    "def mi_from_rho(rho, intrinsic):\n",
    "    return -0.5*np.log2((1-(rho/(np.sqrt(6*3.5)))**2))*intrinsic\n",
    "\n",
    "def rho_from_mi(mi, intrinsic):\n",
    "    return np.sqrt(6*3.5) * np.sqrt(1 - 2**(-2*mi/intrinsic))"
   ]
  },
  {
   "cell_type": "code",
   "execution_count": 43,
   "id": "9bbca4ef-bb35-495e-9fcc-304908bf1d36",
   "metadata": {},
   "outputs": [],
   "source": [
    "def sliced_MI(Xs, Ys, n_projections=1000):\n",
    "    \n",
    "    dX = Xs.shape[1]\n",
    "    dY = Ys.shape[1]\n",
    "\n",
    "    pX = np.random.normal(size = (dX,n_projections))\n",
    "    pX = pX/np.sqrt(np.sum(pX**2))\n",
    "    \n",
    "    pY = np.random.normal(size = (dY, n_projections))\n",
    "    pY = pY/np.sqrt(np.sum(pY**2))\n",
    "\n",
    "    sX = np.dot(Xs, pX).T\n",
    "    sY = np.dot(Ys, pY).T\n",
    "\n",
    "    smi = 0\n",
    "    for p in range(n_projections):\n",
    "        smi += np.mean(lmi.ksg.mi(sX[p], sY[p]))\n",
    "\n",
    "    return smi/n_projections"
   ]
  },
  {
   "cell_type": "code",
   "execution_count": 48,
   "id": "9e60f204-854a-4a27-b35d-837fe6bb2bef",
   "metadata": {},
   "outputs": [],
   "source": [
    "###########################\n",
    "## Experiment parameters ##\n",
    "###########################\n",
    "\n",
    "N_samples = 2*10**3\n",
    "\n",
    "ambients = np.concatenate((np.arange(1, 2) * 10, \n",
    "                           np.arange(1, 2) * 10**2,\n",
    "                           np.arange(1, 2) * 10**3))\n",
    "\n",
    "intrinsics = np.arange(1,10)\n",
    "\n",
    "true_mis = np.linspace(0, 2, 5)"
   ]
  },
  {
   "cell_type": "code",
   "execution_count": 49,
   "id": "b14c53db-b281-446f-81e9-16db0995d27a",
   "metadata": {},
   "outputs": [
    {
     "data": {
      "application/vnd.jupyter.widget-view+json": {
       "model_id": "931a039041624109baa7820af0c7eb6f",
       "version_major": 2,
       "version_minor": 0
      },
      "text/plain": [
       "intrinsic:   0%|          | 0/9 [00:00<?, ?it/s]"
      ]
     },
     "metadata": {},
     "output_type": "display_data"
    },
    {
     "data": {
      "application/vnd.jupyter.widget-view+json": {
       "model_id": "",
       "version_major": 2,
       "version_minor": 0
      },
      "text/plain": [
       "ambient:   0%|          | 0/3 [00:00<?, ?it/s]"
      ]
     },
     "metadata": {},
     "output_type": "display_data"
    },
    {
     "data": {
      "application/vnd.jupyter.widget-view+json": {
       "model_id": "",
       "version_major": 2,
       "version_minor": 0
      },
      "text/plain": [
       "anti_diag:   0%|          | 0/5 [00:00<?, ?it/s]"
      ]
     },
     "metadata": {},
     "output_type": "display_data"
    },
    {
     "data": {
      "application/vnd.jupyter.widget-view+json": {
       "model_id": "",
       "version_major": 2,
       "version_minor": 0
      },
      "text/plain": [
       "anti_diag:   0%|          | 0/5 [00:00<?, ?it/s]"
      ]
     },
     "metadata": {},
     "output_type": "display_data"
    },
    {
     "data": {
      "application/vnd.jupyter.widget-view+json": {
       "model_id": "",
       "version_major": 2,
       "version_minor": 0
      },
      "text/plain": [
       "anti_diag:   0%|          | 0/5 [00:00<?, ?it/s]"
      ]
     },
     "metadata": {},
     "output_type": "display_data"
    },
    {
     "data": {
      "application/vnd.jupyter.widget-view+json": {
       "model_id": "",
       "version_major": 2,
       "version_minor": 0
      },
      "text/plain": [
       "ambient:   0%|          | 0/3 [00:00<?, ?it/s]"
      ]
     },
     "metadata": {},
     "output_type": "display_data"
    },
    {
     "data": {
      "application/vnd.jupyter.widget-view+json": {
       "model_id": "",
       "version_major": 2,
       "version_minor": 0
      },
      "text/plain": [
       "anti_diag:   0%|          | 0/5 [00:00<?, ?it/s]"
      ]
     },
     "metadata": {},
     "output_type": "display_data"
    },
    {
     "data": {
      "application/vnd.jupyter.widget-view+json": {
       "model_id": "",
       "version_major": 2,
       "version_minor": 0
      },
      "text/plain": [
       "anti_diag:   0%|          | 0/5 [00:00<?, ?it/s]"
      ]
     },
     "metadata": {},
     "output_type": "display_data"
    },
    {
     "data": {
      "application/vnd.jupyter.widget-view+json": {
       "model_id": "",
       "version_major": 2,
       "version_minor": 0
      },
      "text/plain": [
       "anti_diag:   0%|          | 0/5 [00:00<?, ?it/s]"
      ]
     },
     "metadata": {},
     "output_type": "display_data"
    },
    {
     "data": {
      "application/vnd.jupyter.widget-view+json": {
       "model_id": "",
       "version_major": 2,
       "version_minor": 0
      },
      "text/plain": [
       "ambient:   0%|          | 0/3 [00:00<?, ?it/s]"
      ]
     },
     "metadata": {},
     "output_type": "display_data"
    },
    {
     "data": {
      "application/vnd.jupyter.widget-view+json": {
       "model_id": "",
       "version_major": 2,
       "version_minor": 0
      },
      "text/plain": [
       "anti_diag:   0%|          | 0/5 [00:00<?, ?it/s]"
      ]
     },
     "metadata": {},
     "output_type": "display_data"
    },
    {
     "data": {
      "application/vnd.jupyter.widget-view+json": {
       "model_id": "",
       "version_major": 2,
       "version_minor": 0
      },
      "text/plain": [
       "anti_diag:   0%|          | 0/5 [00:00<?, ?it/s]"
      ]
     },
     "metadata": {},
     "output_type": "display_data"
    },
    {
     "data": {
      "application/vnd.jupyter.widget-view+json": {
       "model_id": "",
       "version_major": 2,
       "version_minor": 0
      },
      "text/plain": [
       "anti_diag:   0%|          | 0/5 [00:00<?, ?it/s]"
      ]
     },
     "metadata": {},
     "output_type": "display_data"
    },
    {
     "data": {
      "application/vnd.jupyter.widget-view+json": {
       "model_id": "",
       "version_major": 2,
       "version_minor": 0
      },
      "text/plain": [
       "ambient:   0%|          | 0/3 [00:00<?, ?it/s]"
      ]
     },
     "metadata": {},
     "output_type": "display_data"
    },
    {
     "data": {
      "application/vnd.jupyter.widget-view+json": {
       "model_id": "",
       "version_major": 2,
       "version_minor": 0
      },
      "text/plain": [
       "anti_diag:   0%|          | 0/5 [00:00<?, ?it/s]"
      ]
     },
     "metadata": {},
     "output_type": "display_data"
    },
    {
     "data": {
      "application/vnd.jupyter.widget-view+json": {
       "model_id": "",
       "version_major": 2,
       "version_minor": 0
      },
      "text/plain": [
       "anti_diag:   0%|          | 0/5 [00:00<?, ?it/s]"
      ]
     },
     "metadata": {},
     "output_type": "display_data"
    },
    {
     "data": {
      "application/vnd.jupyter.widget-view+json": {
       "model_id": "",
       "version_major": 2,
       "version_minor": 0
      },
      "text/plain": [
       "anti_diag:   0%|          | 0/5 [00:00<?, ?it/s]"
      ]
     },
     "metadata": {},
     "output_type": "display_data"
    },
    {
     "data": {
      "application/vnd.jupyter.widget-view+json": {
       "model_id": "",
       "version_major": 2,
       "version_minor": 0
      },
      "text/plain": [
       "ambient:   0%|          | 0/3 [00:00<?, ?it/s]"
      ]
     },
     "metadata": {},
     "output_type": "display_data"
    },
    {
     "data": {
      "application/vnd.jupyter.widget-view+json": {
       "model_id": "",
       "version_major": 2,
       "version_minor": 0
      },
      "text/plain": [
       "anti_diag:   0%|          | 0/5 [00:00<?, ?it/s]"
      ]
     },
     "metadata": {},
     "output_type": "display_data"
    },
    {
     "data": {
      "application/vnd.jupyter.widget-view+json": {
       "model_id": "",
       "version_major": 2,
       "version_minor": 0
      },
      "text/plain": [
       "anti_diag:   0%|          | 0/5 [00:00<?, ?it/s]"
      ]
     },
     "metadata": {},
     "output_type": "display_data"
    },
    {
     "data": {
      "application/vnd.jupyter.widget-view+json": {
       "model_id": "",
       "version_major": 2,
       "version_minor": 0
      },
      "text/plain": [
       "anti_diag:   0%|          | 0/5 [00:00<?, ?it/s]"
      ]
     },
     "metadata": {},
     "output_type": "display_data"
    },
    {
     "data": {
      "application/vnd.jupyter.widget-view+json": {
       "model_id": "",
       "version_major": 2,
       "version_minor": 0
      },
      "text/plain": [
       "ambient:   0%|          | 0/3 [00:00<?, ?it/s]"
      ]
     },
     "metadata": {},
     "output_type": "display_data"
    },
    {
     "data": {
      "application/vnd.jupyter.widget-view+json": {
       "model_id": "",
       "version_major": 2,
       "version_minor": 0
      },
      "text/plain": [
       "anti_diag:   0%|          | 0/5 [00:00<?, ?it/s]"
      ]
     },
     "metadata": {},
     "output_type": "display_data"
    },
    {
     "data": {
      "application/vnd.jupyter.widget-view+json": {
       "model_id": "",
       "version_major": 2,
       "version_minor": 0
      },
      "text/plain": [
       "anti_diag:   0%|          | 0/5 [00:00<?, ?it/s]"
      ]
     },
     "metadata": {},
     "output_type": "display_data"
    },
    {
     "data": {
      "application/vnd.jupyter.widget-view+json": {
       "model_id": "",
       "version_major": 2,
       "version_minor": 0
      },
      "text/plain": [
       "anti_diag:   0%|          | 0/5 [00:00<?, ?it/s]"
      ]
     },
     "metadata": {},
     "output_type": "display_data"
    },
    {
     "data": {
      "application/vnd.jupyter.widget-view+json": {
       "model_id": "",
       "version_major": 2,
       "version_minor": 0
      },
      "text/plain": [
       "ambient:   0%|          | 0/3 [00:00<?, ?it/s]"
      ]
     },
     "metadata": {},
     "output_type": "display_data"
    },
    {
     "data": {
      "application/vnd.jupyter.widget-view+json": {
       "model_id": "",
       "version_major": 2,
       "version_minor": 0
      },
      "text/plain": [
       "anti_diag:   0%|          | 0/5 [00:00<?, ?it/s]"
      ]
     },
     "metadata": {},
     "output_type": "display_data"
    },
    {
     "data": {
      "application/vnd.jupyter.widget-view+json": {
       "model_id": "",
       "version_major": 2,
       "version_minor": 0
      },
      "text/plain": [
       "anti_diag:   0%|          | 0/5 [00:00<?, ?it/s]"
      ]
     },
     "metadata": {},
     "output_type": "display_data"
    },
    {
     "data": {
      "application/vnd.jupyter.widget-view+json": {
       "model_id": "",
       "version_major": 2,
       "version_minor": 0
      },
      "text/plain": [
       "anti_diag:   0%|          | 0/5 [00:00<?, ?it/s]"
      ]
     },
     "metadata": {},
     "output_type": "display_data"
    },
    {
     "data": {
      "application/vnd.jupyter.widget-view+json": {
       "model_id": "",
       "version_major": 2,
       "version_minor": 0
      },
      "text/plain": [
       "ambient:   0%|          | 0/3 [00:00<?, ?it/s]"
      ]
     },
     "metadata": {},
     "output_type": "display_data"
    },
    {
     "data": {
      "application/vnd.jupyter.widget-view+json": {
       "model_id": "",
       "version_major": 2,
       "version_minor": 0
      },
      "text/plain": [
       "anti_diag:   0%|          | 0/5 [00:00<?, ?it/s]"
      ]
     },
     "metadata": {},
     "output_type": "display_data"
    },
    {
     "data": {
      "application/vnd.jupyter.widget-view+json": {
       "model_id": "",
       "version_major": 2,
       "version_minor": 0
      },
      "text/plain": [
       "anti_diag:   0%|          | 0/5 [00:00<?, ?it/s]"
      ]
     },
     "metadata": {},
     "output_type": "display_data"
    },
    {
     "data": {
      "application/vnd.jupyter.widget-view+json": {
       "model_id": "",
       "version_major": 2,
       "version_minor": 0
      },
      "text/plain": [
       "anti_diag:   0%|          | 0/5 [00:00<?, ?it/s]"
      ]
     },
     "metadata": {},
     "output_type": "display_data"
    },
    {
     "data": {
      "application/vnd.jupyter.widget-view+json": {
       "model_id": "",
       "version_major": 2,
       "version_minor": 0
      },
      "text/plain": [
       "ambient:   0%|          | 0/3 [00:00<?, ?it/s]"
      ]
     },
     "metadata": {},
     "output_type": "display_data"
    },
    {
     "data": {
      "application/vnd.jupyter.widget-view+json": {
       "model_id": "",
       "version_major": 2,
       "version_minor": 0
      },
      "text/plain": [
       "anti_diag:   0%|          | 0/5 [00:00<?, ?it/s]"
      ]
     },
     "metadata": {},
     "output_type": "display_data"
    },
    {
     "data": {
      "application/vnd.jupyter.widget-view+json": {
       "model_id": "",
       "version_major": 2,
       "version_minor": 0
      },
      "text/plain": [
       "anti_diag:   0%|          | 0/5 [00:00<?, ?it/s]"
      ]
     },
     "metadata": {},
     "output_type": "display_data"
    },
    {
     "data": {
      "application/vnd.jupyter.widget-view+json": {
       "model_id": "",
       "version_major": 2,
       "version_minor": 0
      },
      "text/plain": [
       "anti_diag:   0%|          | 0/5 [00:00<?, ?it/s]"
      ]
     },
     "metadata": {},
     "output_type": "display_data"
    }
   ],
   "source": [
    "res_d = {\n",
    "\n",
    "    \"True MI\" : [],\n",
    "    \"Ambient dimensions\" : [],\n",
    "    \"Intrinsic dimensions\" : [],\n",
    "    \"Estimator\" : [],\n",
    "    \"Estimate\" : [],\n",
    "}\n",
    "\n",
    "\n",
    "for intrinsic in tqdm(intrinsics,\n",
    "                      position=0, desc='intrinsic', leave=True):\n",
    "    \n",
    "    for ambient in tqdm(ambients, \n",
    "                        position=1, desc='ambient', leave=False):\n",
    "        \n",
    "        for true_mi in tqdm(true_mis,\n",
    "                                position=3, desc='anti_diag', leave=False):\n",
    "            \n",
    "            if intrinsic <= ambient:\n",
    "                \n",
    "                nuisance = (ambient - intrinsic)//2\n",
    "                anti_diag = rho_from_mi(true_mi, intrinsic)\n",
    "                \n",
    "                Xs, Ys = generate_gaussian_dataset(ambient, intrinsic, \n",
    "                                                   nuisance, \n",
    "                                                   anti_diag,\n",
    "                                                  samples=N_samples)\n",
    "\n",
    "                # rescale\n",
    "                Xs = np.nan_to_num((Xs - Xs.mean(axis=0)) / Xs.std(axis=0))\n",
    "                Ys = np.nan_to_num((Ys - Ys.mean(axis=0)) / Ys.std(axis=0))\n",
    "\n",
    "\n",
    "                res_d['True MI'].append(true_mi)\n",
    "                res_d['Ambient dimensions'].append(ambient)\n",
    "                res_d['Intrinsic dimensions'].append(intrinsic)\n",
    "                res_d['Estimator'].append(\"Sliced MI\")\n",
    "                res_d['Estimate'].append(sliced_MI(Xs, Ys))"
   ]
  },
  {
   "cell_type": "code",
   "execution_count": 51,
   "id": "6af095d3-ebe3-442c-ab16-2ef69c7fa5d3",
   "metadata": {},
   "outputs": [],
   "source": [
    "res_df = pd.DataFrame(res_d)"
   ]
  },
  {
   "cell_type": "code",
   "execution_count": 52,
   "id": "33e84271-acc3-4157-a1b1-454e8712a9da",
   "metadata": {},
   "outputs": [],
   "source": [
    "g = res_df.groupby(['Ambient dimensions', 'Intrinsic dimensions', 'Estimator'])\n",
    "def kendall(group):\n",
    "    t = group['True MI']\n",
    "    e = group['Estimate']\n",
    "    return kendalltau(t, e)[0]\n",
    "\n",
    "def mse(group):\n",
    "    t = group['True MI']\n",
    "    e = group['Estimate']\n",
    "    return np.mean((t-e)**2)"
   ]
  },
  {
   "cell_type": "code",
   "execution_count": 62,
   "id": "2985c0d6-d7fc-454e-97d2-0f848bb68569",
   "metadata": {},
   "outputs": [
    {
     "data": {
      "image/png": "[encoded data removed]",
      "text/plain": [
       "<Figure size 432x288 with 2 Axes>"
      ]
     },
     "metadata": {
      "needs_background": "light"
     },
     "output_type": "display_data"
    },
    {
     "data": {
      "image/png": "[encoded data removed]",
      "text/plain": [
       "<Figure size 432x288 with 2 Axes>"
      ]
     },
     "metadata": {
      "needs_background": "light"
     },
     "output_type": "display_data"
    }
   ],
   "source": [
    "k = g.apply(mse).unstack().fillna(0)\n",
    "sns.heatmap(k.reset_index().pivot_table(index='Ambient dimensions',\n",
    "                        columns='Intrinsic dimensions',\n",
    "                        values='Sliced MI'), square=True, cmap='mako_r',\n",
    "            cbar=1,\n",
    "            vmin=0, vmax=2)\n",
    "plt.show()\n",
    "k = g.apply(kendall).unstack().fillna(0)\n",
    "sns.heatmap(k.reset_index().pivot_table(index='Ambient dimensions',\n",
    "                        columns='Intrinsic dimensions',\n",
    "                        values='Sliced MI'), square=True, cmap='mako',\n",
    "            cbar=1,\n",
    "            vmin=0, vmax=1)\n",
    "plt.show()\n",
    "# axn.flat[5].remove()"
   ]
  },
  {
   "cell_type": "code",
   "execution_count": null,
   "id": "003c9b4b-24aa-4f3f-b000-28e3890cf225",
   "metadata": {},
   "outputs": [],
   "source": []
  }
 ],
 "metadata": {
  "kernelspec": {
   "display_name": "Python 3 (ipykernel)",
   "language": "python",
   "name": "python3"
  },
  "language_info": {
   "codemirror_mode": {
    "name": "ipython",
    "version": 3
   },
   "file_extension": ".py",
   "mimetype": "text/x-python",
   "name": "python",
   "nbconvert_exporter": "python",
   "pygments_lexer": "ipython3",
   "version": "3.10.12"
  }
 },
 "nbformat": 4,
 "nbformat_minor": 5
}
