{
 "cells": [
  {
   "cell_type": "code",
   "execution_count": 1,
   "id": "4722bf03",
   "metadata": {},
   "outputs": [],
   "source": [
    "%%capture\n",
    "\n",
    "from lmi import lmi\n",
    "import pandas as pd\n",
    "import numpy as np\n",
    "import torch\n",
    "from tqdm.notebook import tqdm\n",
    "\n",
    "import seaborn as sns\n",
    "import matplotlib.pyplot as plt\n",
    "from matplotlib import rcParams\n",
    "\n",
    "import time\n",
    "import os\n",
    "\n",
    "os.environ[\"XLA_PYTHON_CLIENT_MEM_FRACTION\"]=\".10\"\n",
    "os.environ[\"XLA_PYTHON_CLIENT_PREALLOCATE\"]=\"false\"\n",
    "os.environ[\"XLA_PYTHON_CLIENT_ALLOCATOR\"]=\"platform\"\n",
    "from bmi.estimators import MINEEstimator as MINE\n",
    "from bmi.estimators import InfoNCEEstimator as InfoNCE\n",
    "\n",
    "torch.manual_seed(2121)\n",
    "np.random.seed(2121)"
   ]
  },
  {
   "cell_type": "code",
   "execution_count": 2,
   "id": "2e54465c",
   "metadata": {},
   "outputs": [],
   "source": [
    "pxf = pd.read_csv('../data/ProtT5_embeddings/OP_kinases.csv', index_col=0)\n",
    "kinases = [x for x in pxf.keys() if x[:7] == 'Kinase_']\n",
    "targets = [x for x in pxf.keys() if x[:7] == 'Target_']"
   ]
  },
  {
   "cell_type": "code",
   "execution_count": 3,
   "id": "529df635",
   "metadata": {},
   "outputs": [],
   "source": [
    "def batch_ksg(X, Y, batch_size=10**3):\n",
    "    \"\"\"\n",
    "    since this dataset is so big, here we implement a batched KSG.\n",
    "    we make batches of 5000 points, estimate MI on each, then take the average pSIMI.\n",
    "    approach used in https://doi.org/10.1103/PhysRevE.100.022404\n",
    "    \"\"\"\n",
    "    psimis = []\n",
    "    inds = np.arange(len(X))\n",
    "    np.random.shuffle(inds)\n",
    "    Xs = X.iloc[inds]\n",
    "    Ys = Y.iloc[inds]\n",
    "    for i in tqdm(range(len(Xs)//batch_size)):\n",
    "        b_psimis = lmi.ksg.mi(Xs[batch_size*i:batch_size*(i+1)],\n",
    "                              Ys[batch_size*i:batch_size*(i+1)])\n",
    "        psimis += list(b_psimis)\n",
    "    return np.mean(psimis)"
   ]
  },
  {
   "cell_type": "code",
   "execution_count": 4,
   "id": "c04146df",
   "metadata": {},
   "outputs": [
    {
     "data": {
      "application/vnd.jupyter.widget-view+json": {
       "model_id": "23e0f469f37740d6b47d6a89a44da75d",
       "version_major": 2,
       "version_minor": 0
      },
      "text/plain": [
       "  0%|          | 0/10 [00:00<?, ?it/s]"
      ]
     },
     "metadata": {},
     "output_type": "display_data"
    },
    {
     "data": {
      "application/vnd.jupyter.widget-view+json": {
       "model_id": "a4855411038d4edca8fb00086f216adb",
       "version_major": 2,
       "version_minor": 0
      },
      "text/plain": [
       "  0%|          | 0/22 [00:00<?, ?it/s]"
      ]
     },
     "metadata": {},
     "output_type": "display_data"
    },
    {
     "data": {
      "application/vnd.jupyter.widget-view+json": {
       "model_id": "27c8d4866a5e435a9dfc78b7eaf67c86",
       "version_major": 2,
       "version_minor": 0
      },
      "text/plain": [
       "  0%|          | 0/22 [00:00<?, ?it/s]"
      ]
     },
     "metadata": {},
     "output_type": "display_data"
    },
    {
     "data": {
      "application/vnd.jupyter.widget-view+json": {
       "model_id": "a8eff41b16e145998bd7136d462a67dd",
       "version_major": 2,
       "version_minor": 0
      },
      "text/plain": [
       "  0%|          | 0/22 [00:00<?, ?it/s]"
      ]
     },
     "metadata": {},
     "output_type": "display_data"
    },
    {
     "data": {
      "application/vnd.jupyter.widget-view+json": {
       "model_id": "f086195ceffe4e448b19c54fa046c95b",
       "version_major": 2,
       "version_minor": 0
      },
      "text/plain": [
       "  0%|          | 0/22 [00:00<?, ?it/s]"
      ]
     },
     "metadata": {},
     "output_type": "display_data"
    },
    {
     "data": {
      "application/vnd.jupyter.widget-view+json": {
       "model_id": "ee01e9d440024498bc728aaff1f1f70e",
       "version_major": 2,
       "version_minor": 0
      },
      "text/plain": [
       "  0%|          | 0/22 [00:00<?, ?it/s]"
      ]
     },
     "metadata": {},
     "output_type": "display_data"
    },
    {
     "data": {
      "application/vnd.jupyter.widget-view+json": {
       "model_id": "6548f2560def409e8fe509651e10ecd5",
       "version_major": 2,
       "version_minor": 0
      },
      "text/plain": [
       "  0%|          | 0/22 [00:00<?, ?it/s]"
      ]
     },
     "metadata": {},
     "output_type": "display_data"
    },
    {
     "data": {
      "application/vnd.jupyter.widget-view+json": {
       "model_id": "0a8851e2a8d94924b6a51fe75005df6f",
       "version_major": 2,
       "version_minor": 0
      },
      "text/plain": [
       "  0%|          | 0/22 [00:00<?, ?it/s]"
      ]
     },
     "metadata": {},
     "output_type": "display_data"
    },
    {
     "data": {
      "application/vnd.jupyter.widget-view+json": {
       "model_id": "7844a8d862d342e2a0ec5c3fee2e67a1",
       "version_major": 2,
       "version_minor": 0
      },
      "text/plain": [
       "  0%|          | 0/22 [00:00<?, ?it/s]"
      ]
     },
     "metadata": {},
     "output_type": "display_data"
    },
    {
     "data": {
      "application/vnd.jupyter.widget-view+json": {
       "model_id": "8c5873443c7b4810a1152e9c92c07f38",
       "version_major": 2,
       "version_minor": 0
      },
      "text/plain": [
       "  0%|          | 0/22 [00:00<?, ?it/s]"
      ]
     },
     "metadata": {},
     "output_type": "display_data"
    },
    {
     "data": {
      "application/vnd.jupyter.widget-view+json": {
       "model_id": "ddfb1e4f934e414aa8f17abcf7d089e1",
       "version_major": 2,
       "version_minor": 0
      },
      "text/plain": [
       "  0%|          | 0/22 [00:00<?, ?it/s]"
      ]
     },
     "metadata": {},
     "output_type": "display_data"
    }
   ],
   "source": [
    "d = {\n",
    "    \"Estimator\" : [],\n",
    "    \"Shuffled\" : [],\n",
    "    \"Estimate\" : []\n",
    "}\n",
    "\n",
    "N_shuffles = 10\n",
    "\n",
    "for _ in tqdm(range(N_shuffles)):\n",
    "    \n",
    "    Xs, Ys = pxf[kinases].sample(frac=1), pxf[targets]\n",
    "    \n",
    "    infonce = InfoNCE(verbose=False)\n",
    "    infonce_mi = infonce.estimate(Xs, Ys)\n",
    "    \n",
    "    mine = MINE(verbose=False)\n",
    "    mine_mi = mine.estimate(Xs, Ys)\n",
    "    \n",
    "    psimis, emb, model = lmi.lmi(Xs, Ys)\n",
    "    \n",
    "    d['Estimator'].append('InfoNCE')\n",
    "    d['Shuffled'].append(True)\n",
    "    d['Estimate'].append(infonce_mi)\n",
    "    \n",
    "    d['Estimator'].append('MINE')\n",
    "    d['Shuffled'].append(True)\n",
    "    d['Estimate'].append(mine_mi)\n",
    "    \n",
    "    d['Estimator'].append('LMI')\n",
    "    d['Shuffled'].append(True)\n",
    "    d['Estimate'].append(np.nanmean(psimis))\n",
    "    \n",
    "    d['Estimator'].append('KSG')\n",
    "    d['Shuffled'].append(True)\n",
    "    d['Estimate'].append(batch_ksg(Xs, Ys))"
   ]
  },
  {
   "cell_type": "code",
   "execution_count": 5,
   "id": "ae49947a",
   "metadata": {},
   "outputs": [
    {
     "name": "stdout",
     "output_type": "stream",
     "text": [
      "9.5367431640625e-07\n"
     ]
    },
    {
     "data": {
      "application/vnd.jupyter.widget-view+json": {
       "model_id": "c7fcda91fbcd4c6d92df7fa78faf99de",
       "version_major": 2,
       "version_minor": 0
      },
      "text/plain": [
       "  0%|          | 0/300 [00:00<?, ?Epoch/s]"
      ]
     },
     "metadata": {},
     "output_type": "display_data"
    },
    {
     "name": "stdout",
     "output_type": "stream",
     "text": [
      "0.8186234720810627\n"
     ]
    },
    {
     "data": {
      "application/vnd.jupyter.widget-view+json": {
       "model_id": "40c7c97d1cb548018b25b5cc6f036fcb",
       "version_major": 2,
       "version_minor": 0
      },
      "text/plain": [
       "  0%|          | 0/22 [00:00<?, ?it/s]"
      ]
     },
     "metadata": {},
     "output_type": "display_data"
    },
    {
     "data": {
      "text/html": [
       "<div>\n",
       "<style scoped>\n",
       "    .dataframe tbody tr th:only-of-type {\n",
       "        vertical-align: middle;\n",
       "    }\n",
       "\n",
       "    .dataframe tbody tr th {\n",
       "        vertical-align: top;\n",
       "    }\n",
       "\n",
       "    .dataframe thead th {\n",
       "        text-align: right;\n",
       "    }\n",
       "</style>\n",
       "<table border=\"1\" class=\"dataframe\">\n",
       "  <thead>\n",
       "    <tr style=\"text-align: right;\">\n",
       "      <th></th>\n",
       "      <th>Estimator</th>\n",
       "      <th>Shuffled</th>\n",
       "      <th>Estimate</th>\n",
       "    </tr>\n",
       "  </thead>\n",
       "  <tbody>\n",
       "    <tr>\n",
       "      <th>0</th>\n",
       "      <td>InfoNCE</td>\n",
       "      <td>True</td>\n",
       "      <td>-1.964569e-04</td>\n",
       "    </tr>\n",
       "    <tr>\n",
       "      <th>1</th>\n",
       "      <td>MINE</td>\n",
       "      <td>True</td>\n",
       "      <td>0.000000e+00</td>\n",
       "    </tr>\n",
       "    <tr>\n",
       "      <th>2</th>\n",
       "      <td>LMI</td>\n",
       "      <td>True</td>\n",
       "      <td>-3.344048e-03</td>\n",
       "    </tr>\n",
       "    <tr>\n",
       "      <th>3</th>\n",
       "      <td>KSG</td>\n",
       "      <td>True</td>\n",
       "      <td>4.545769e-03</td>\n",
       "    </tr>\n",
       "    <tr>\n",
       "      <th>4</th>\n",
       "      <td>InfoNCE</td>\n",
       "      <td>True</td>\n",
       "      <td>9.536743e-06</td>\n",
       "    </tr>\n",
       "    <tr>\n",
       "      <th>5</th>\n",
       "      <td>MINE</td>\n",
       "      <td>True</td>\n",
       "      <td>7.152557e-07</td>\n",
       "    </tr>\n",
       "    <tr>\n",
       "      <th>6</th>\n",
       "      <td>LMI</td>\n",
       "      <td>True</td>\n",
       "      <td>-1.811156e-02</td>\n",
       "    </tr>\n",
       "    <tr>\n",
       "      <th>7</th>\n",
       "      <td>KSG</td>\n",
       "      <td>True</td>\n",
       "      <td>-4.374657e-03</td>\n",
       "    </tr>\n",
       "    <tr>\n",
       "      <th>8</th>\n",
       "      <td>InfoNCE</td>\n",
       "      <td>True</td>\n",
       "      <td>1.525879e-05</td>\n",
       "    </tr>\n",
       "    <tr>\n",
       "      <th>9</th>\n",
       "      <td>MINE</td>\n",
       "      <td>True</td>\n",
       "      <td>-1.705170e-03</td>\n",
       "    </tr>\n",
       "    <tr>\n",
       "      <th>10</th>\n",
       "      <td>LMI</td>\n",
       "      <td>True</td>\n",
       "      <td>1.447927e-02</td>\n",
       "    </tr>\n",
       "    <tr>\n",
       "      <th>11</th>\n",
       "      <td>KSG</td>\n",
       "      <td>True</td>\n",
       "      <td>2.367433e-03</td>\n",
       "    </tr>\n",
       "    <tr>\n",
       "      <th>12</th>\n",
       "      <td>InfoNCE</td>\n",
       "      <td>True</td>\n",
       "      <td>-2.218246e-03</td>\n",
       "    </tr>\n",
       "    <tr>\n",
       "      <th>13</th>\n",
       "      <td>MINE</td>\n",
       "      <td>True</td>\n",
       "      <td>1.459122e-04</td>\n",
       "    </tr>\n",
       "    <tr>\n",
       "      <th>14</th>\n",
       "      <td>LMI</td>\n",
       "      <td>True</td>\n",
       "      <td>-2.551039e-02</td>\n",
       "    </tr>\n",
       "    <tr>\n",
       "      <th>15</th>\n",
       "      <td>KSG</td>\n",
       "      <td>True</td>\n",
       "      <td>1.529378e-02</td>\n",
       "    </tr>\n",
       "    <tr>\n",
       "      <th>16</th>\n",
       "      <td>InfoNCE</td>\n",
       "      <td>True</td>\n",
       "      <td>9.536743e-07</td>\n",
       "    </tr>\n",
       "    <tr>\n",
       "      <th>17</th>\n",
       "      <td>MINE</td>\n",
       "      <td>True</td>\n",
       "      <td>-7.152557e-07</td>\n",
       "    </tr>\n",
       "    <tr>\n",
       "      <th>18</th>\n",
       "      <td>LMI</td>\n",
       "      <td>True</td>\n",
       "      <td>-2.071445e-03</td>\n",
       "    </tr>\n",
       "    <tr>\n",
       "      <th>19</th>\n",
       "      <td>KSG</td>\n",
       "      <td>True</td>\n",
       "      <td>-6.369364e-03</td>\n",
       "    </tr>\n",
       "    <tr>\n",
       "      <th>20</th>\n",
       "      <td>InfoNCE</td>\n",
       "      <td>True</td>\n",
       "      <td>9.536743e-07</td>\n",
       "    </tr>\n",
       "    <tr>\n",
       "      <th>21</th>\n",
       "      <td>MINE</td>\n",
       "      <td>True</td>\n",
       "      <td>-1.983643e-03</td>\n",
       "    </tr>\n",
       "    <tr>\n",
       "      <th>22</th>\n",
       "      <td>LMI</td>\n",
       "      <td>True</td>\n",
       "      <td>5.060206e-03</td>\n",
       "    </tr>\n",
       "    <tr>\n",
       "      <th>23</th>\n",
       "      <td>KSG</td>\n",
       "      <td>True</td>\n",
       "      <td>-1.407777e-03</td>\n",
       "    </tr>\n",
       "    <tr>\n",
       "      <th>24</th>\n",
       "      <td>InfoNCE</td>\n",
       "      <td>True</td>\n",
       "      <td>-4.072189e-04</td>\n",
       "    </tr>\n",
       "    <tr>\n",
       "      <th>25</th>\n",
       "      <td>MINE</td>\n",
       "      <td>True</td>\n",
       "      <td>-8.559227e-04</td>\n",
       "    </tr>\n",
       "    <tr>\n",
       "      <th>26</th>\n",
       "      <td>LMI</td>\n",
       "      <td>True</td>\n",
       "      <td>2.312438e-02</td>\n",
       "    </tr>\n",
       "    <tr>\n",
       "      <th>27</th>\n",
       "      <td>KSG</td>\n",
       "      <td>True</td>\n",
       "      <td>1.617739e-03</td>\n",
       "    </tr>\n",
       "    <tr>\n",
       "      <th>28</th>\n",
       "      <td>InfoNCE</td>\n",
       "      <td>True</td>\n",
       "      <td>9.536743e-07</td>\n",
       "    </tr>\n",
       "    <tr>\n",
       "      <th>29</th>\n",
       "      <td>MINE</td>\n",
       "      <td>True</td>\n",
       "      <td>1.647472e-04</td>\n",
       "    </tr>\n",
       "    <tr>\n",
       "      <th>30</th>\n",
       "      <td>LMI</td>\n",
       "      <td>True</td>\n",
       "      <td>1.034304e-02</td>\n",
       "    </tr>\n",
       "    <tr>\n",
       "      <th>31</th>\n",
       "      <td>KSG</td>\n",
       "      <td>True</td>\n",
       "      <td>-2.146715e-03</td>\n",
       "    </tr>\n",
       "    <tr>\n",
       "      <th>32</th>\n",
       "      <td>InfoNCE</td>\n",
       "      <td>True</td>\n",
       "      <td>-2.193451e-05</td>\n",
       "    </tr>\n",
       "    <tr>\n",
       "      <th>33</th>\n",
       "      <td>MINE</td>\n",
       "      <td>True</td>\n",
       "      <td>8.869171e-05</td>\n",
       "    </tr>\n",
       "    <tr>\n",
       "      <th>34</th>\n",
       "      <td>LMI</td>\n",
       "      <td>True</td>\n",
       "      <td>-1.890030e-03</td>\n",
       "    </tr>\n",
       "    <tr>\n",
       "      <th>35</th>\n",
       "      <td>KSG</td>\n",
       "      <td>True</td>\n",
       "      <td>-5.518410e-03</td>\n",
       "    </tr>\n",
       "    <tr>\n",
       "      <th>36</th>\n",
       "      <td>InfoNCE</td>\n",
       "      <td>True</td>\n",
       "      <td>7.152557e-05</td>\n",
       "    </tr>\n",
       "    <tr>\n",
       "      <th>37</th>\n",
       "      <td>MINE</td>\n",
       "      <td>True</td>\n",
       "      <td>7.581711e-05</td>\n",
       "    </tr>\n",
       "    <tr>\n",
       "      <th>38</th>\n",
       "      <td>LMI</td>\n",
       "      <td>True</td>\n",
       "      <td>-4.342593e-03</td>\n",
       "    </tr>\n",
       "    <tr>\n",
       "      <th>39</th>\n",
       "      <td>KSG</td>\n",
       "      <td>True</td>\n",
       "      <td>-1.303805e-04</td>\n",
       "    </tr>\n",
       "    <tr>\n",
       "      <th>40</th>\n",
       "      <td>InfoNCE</td>\n",
       "      <td>False</td>\n",
       "      <td>9.536743e-07</td>\n",
       "    </tr>\n",
       "    <tr>\n",
       "      <th>41</th>\n",
       "      <td>MINE</td>\n",
       "      <td>False</td>\n",
       "      <td>2.384186e-07</td>\n",
       "    </tr>\n",
       "    <tr>\n",
       "      <th>42</th>\n",
       "      <td>LMI</td>\n",
       "      <td>False</td>\n",
       "      <td>8.186235e-01</td>\n",
       "    </tr>\n",
       "    <tr>\n",
       "      <th>43</th>\n",
       "      <td>KSG</td>\n",
       "      <td>False</td>\n",
       "      <td>1.424790e-01</td>\n",
       "    </tr>\n",
       "  </tbody>\n",
       "</table>\n",
       "</div>"
      ],
      "text/plain": [
       "   Estimator  Shuffled      Estimate\n",
       "0    InfoNCE      True -1.964569e-04\n",
       "1       MINE      True  0.000000e+00\n",
       "2        LMI      True -3.344048e-03\n",
       "3        KSG      True  4.545769e-03\n",
       "4    InfoNCE      True  9.536743e-06\n",
       "5       MINE      True  7.152557e-07\n",
       "6        LMI      True -1.811156e-02\n",
       "7        KSG      True -4.374657e-03\n",
       "8    InfoNCE      True  1.525879e-05\n",
       "9       MINE      True -1.705170e-03\n",
       "10       LMI      True  1.447927e-02\n",
       "11       KSG      True  2.367433e-03\n",
       "12   InfoNCE      True -2.218246e-03\n",
       "13      MINE      True  1.459122e-04\n",
       "14       LMI      True -2.551039e-02\n",
       "15       KSG      True  1.529378e-02\n",
       "16   InfoNCE      True  9.536743e-07\n",
       "17      MINE      True -7.152557e-07\n",
       "18       LMI      True -2.071445e-03\n",
       "19       KSG      True -6.369364e-03\n",
       "20   InfoNCE      True  9.536743e-07\n",
       "21      MINE      True -1.983643e-03\n",
       "22       LMI      True  5.060206e-03\n",
       "23       KSG      True -1.407777e-03\n",
       "24   InfoNCE      True -4.072189e-04\n",
       "25      MINE      True -8.559227e-04\n",
       "26       LMI      True  2.312438e-02\n",
       "27       KSG      True  1.617739e-03\n",
       "28   InfoNCE      True  9.536743e-07\n",
       "29      MINE      True  1.647472e-04\n",
       "30       LMI      True  1.034304e-02\n",
       "31       KSG      True -2.146715e-03\n",
       "32   InfoNCE      True -2.193451e-05\n",
       "33      MINE      True  8.869171e-05\n",
       "34       LMI      True -1.890030e-03\n",
       "35       KSG      True -5.518410e-03\n",
       "36   InfoNCE      True  7.152557e-05\n",
       "37      MINE      True  7.581711e-05\n",
       "38       LMI      True -4.342593e-03\n",
       "39       KSG      True -1.303805e-04\n",
       "40   InfoNCE     False  9.536743e-07\n",
       "41      MINE     False  2.384186e-07\n",
       "42       LMI     False  8.186235e-01\n",
       "43       KSG     False  1.424790e-01"
      ]
     },
     "execution_count": 5,
     "metadata": {},
     "output_type": "execute_result"
    }
   ],
   "source": [
    "Xs, Ys = pxf[kinases], pxf[targets]\n",
    "\n",
    "infonce = InfoNCE(verbose=False)\n",
    "infonce_mi = infonce.estimate(Xs, Ys)\n",
    "print(infonce_mi)\n",
    "mine = MINE(verbose=False)\n",
    "mine_mi = mine.estimate(Xs, Ys)\n",
    "\n",
    "psimis, emb, model = lmi.lmi(Xs, Ys, N_dims=8, quiet=False)\n",
    "print(np.nanmean(psimis))\n",
    "\n",
    "d['Estimator'].append('InfoNCE')\n",
    "d['Shuffled'].append(False)\n",
    "d['Estimate'].append(infonce_mi)\n",
    "\n",
    "d['Estimator'].append('MINE')\n",
    "d['Shuffled'].append(False)\n",
    "d['Estimate'].append(mine_mi)\n",
    "\n",
    "d['Estimator'].append('LMI')\n",
    "d['Shuffled'].append(False)\n",
    "d['Estimate'].append(np.nanmean(psimis))\n",
    "\n",
    "d['Estimator'].append('KSG')\n",
    "d['Shuffled'].append(False)\n",
    "d['Estimate'].append(batch_ksg(Xs, Ys))\n",
    "\n",
    "df = pd.DataFrame(d)\n",
    "df"
   ]
  },
  {
   "cell_type": "code",
   "execution_count": 6,
   "id": "bbe5f54f",
   "metadata": {},
   "outputs": [
    {
     "data": {
      "image/png": "[encoded data removed]",
      "text/plain": [
       "<Figure size 432x288 with 1 Axes>"
      ]
     },
     "metadata": {
      "needs_background": "light"
     },
     "output_type": "display_data"
    }
   ],
   "source": [
    "ax = sns.stripplot(df[df['Shuffled']], x='Estimate', y='Estimator',\n",
    "             alpha=0.8, color='grey', label='Shuffled')\n",
    "\n",
    "ax.scatter(df['Estimate'].iloc[-4], 0, s=200, marker='*', color='slateblue', label='Unshuffled')\n",
    "ax.scatter(df['Estimate'].iloc[-3], 1, s=200, marker='*', color='slateblue')\n",
    "ax.scatter(df['Estimate'].iloc[-2], 2, s=200, marker='*', color='slateblue')\n",
    "ax.scatter(df['Estimate'].iloc[-1], 3, s=200, marker='*', color='slateblue')\n",
    "ax.legend()\n",
    "\n",
    "handles, labels = ax.get_legend_handles_labels()  \n",
    "lgd = dict(zip(labels, handles))\n",
    "ax.legend(lgd.values(), lgd.keys())\n",
    "\n",
    "plt.show()"
   ]
  },
  {
   "cell_type": "code",
   "execution_count": 7,
   "id": "fe559d0d",
   "metadata": {},
   "outputs": [],
   "source": [
    "df.to_csv('../results/OP_kinase_shuffle.csv')"
   ]
  },
  {
   "cell_type": "code",
   "execution_count": 9,
   "id": "028dfbac-9f7a-4768-b914-3da9158432ba",
   "metadata": {},
   "outputs": [
    {
     "data": {
      "text/html": [
       "<div>\n",
       "<style scoped>\n",
       "    .dataframe tbody tr th:only-of-type {\n",
       "        vertical-align: middle;\n",
       "    }\n",
       "\n",
       "    .dataframe tbody tr th {\n",
       "        vertical-align: top;\n",
       "    }\n",
       "\n",
       "    .dataframe thead th {\n",
       "        text-align: right;\n",
       "    }\n",
       "</style>\n",
       "<table border=\"1\" class=\"dataframe\">\n",
       "  <thead>\n",
       "    <tr style=\"text-align: right;\">\n",
       "      <th></th>\n",
       "      <th>Shuffled</th>\n",
       "      <th>Estimate</th>\n",
       "    </tr>\n",
       "    <tr>\n",
       "      <th>Estimator</th>\n",
       "      <th></th>\n",
       "      <th></th>\n",
       "    </tr>\n",
       "  </thead>\n",
       "  <tbody>\n",
       "    <tr>\n",
       "      <th>InfoNCE</th>\n",
       "      <td>0.0</td>\n",
       "      <td>0.000697</td>\n",
       "    </tr>\n",
       "    <tr>\n",
       "      <th>KSG</th>\n",
       "      <td>0.0</td>\n",
       "      <td>0.006307</td>\n",
       "    </tr>\n",
       "    <tr>\n",
       "      <th>LMI</th>\n",
       "      <td>0.0</td>\n",
       "      <td>0.014504</td>\n",
       "    </tr>\n",
       "    <tr>\n",
       "      <th>MINE</th>\n",
       "      <td>0.0</td>\n",
       "      <td>0.000815</td>\n",
       "    </tr>\n",
       "  </tbody>\n",
       "</table>\n",
       "</div>"
      ],
      "text/plain": [
       "           Shuffled  Estimate\n",
       "Estimator                    \n",
       "InfoNCE         0.0  0.000697\n",
       "KSG             0.0  0.006307\n",
       "LMI             0.0  0.014504\n",
       "MINE            0.0  0.000815"
      ]
     },
     "execution_count": 9,
     "metadata": {},
     "output_type": "execute_result"
    }
   ],
   "source": [
    "df[df['Shuffled']==True].groupby('Estimator').std()"
   ]
  },
  {
   "cell_type": "code",
   "execution_count": 10,
   "id": "69e4a4f3-ce50-4bdf-9dc6-3aef23cba7b8",
   "metadata": {},
   "outputs": [
    {
     "data": {
      "text/html": [
       "<div>\n",
       "<style scoped>\n",
       "    .dataframe tbody tr th:only-of-type {\n",
       "        vertical-align: middle;\n",
       "    }\n",
       "\n",
       "    .dataframe tbody tr th {\n",
       "        vertical-align: top;\n",
       "    }\n",
       "\n",
       "    .dataframe thead th {\n",
       "        text-align: right;\n",
       "    }\n",
       "</style>\n",
       "<table border=\"1\" class=\"dataframe\">\n",
       "  <thead>\n",
       "    <tr style=\"text-align: right;\">\n",
       "      <th></th>\n",
       "      <th>Shuffled</th>\n",
       "      <th>Estimate</th>\n",
       "    </tr>\n",
       "    <tr>\n",
       "      <th>Estimator</th>\n",
       "      <th></th>\n",
       "      <th></th>\n",
       "    </tr>\n",
       "  </thead>\n",
       "  <tbody>\n",
       "    <tr>\n",
       "      <th>InfoNCE</th>\n",
       "      <td>1.0</td>\n",
       "      <td>-0.000274</td>\n",
       "    </tr>\n",
       "    <tr>\n",
       "      <th>KSG</th>\n",
       "      <td>1.0</td>\n",
       "      <td>0.000388</td>\n",
       "    </tr>\n",
       "    <tr>\n",
       "      <th>LMI</th>\n",
       "      <td>1.0</td>\n",
       "      <td>-0.000226</td>\n",
       "    </tr>\n",
       "    <tr>\n",
       "      <th>MINE</th>\n",
       "      <td>1.0</td>\n",
       "      <td>-0.000407</td>\n",
       "    </tr>\n",
       "  </tbody>\n",
       "</table>\n",
       "</div>"
      ],
      "text/plain": [
       "           Shuffled  Estimate\n",
       "Estimator                    \n",
       "InfoNCE         1.0 -0.000274\n",
       "KSG             1.0  0.000388\n",
       "LMI             1.0 -0.000226\n",
       "MINE            1.0 -0.000407"
      ]
     },
     "execution_count": 10,
     "metadata": {},
     "output_type": "execute_result"
    }
   ],
   "source": [
    "df[df['Shuffled']==True].groupby('Estimator').mean()"
   ]
  },
  {
   "cell_type": "code",
   "execution_count": null,
   "id": "e15875a6-6080-4b69-939f-62291ee9d79b",
   "metadata": {},
   "outputs": [],
   "source": []
  }
 ],
 "metadata": {
  "kernelspec": {
   "display_name": "Python 3 (ipykernel)",
   "language": "python",
   "name": "python3"
  },
  "language_info": {
   "codemirror_mode": {
    "name": "ipython",
    "version": 3
   },
   "file_extension": ".py",
   "mimetype": "text/x-python",
   "name": "python",
   "nbconvert_exporter": "python",
   "pygments_lexer": "ipython3",
   "version": "3.10.12"
  }
 },
 "nbformat": 4,
 "nbformat_minor": 5
}
